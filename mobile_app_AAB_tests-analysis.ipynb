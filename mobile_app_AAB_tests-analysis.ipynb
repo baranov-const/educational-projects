{
 "cells": [
  {
   "cell_type": "markdown",
   "metadata": {},
   "source": [
    "#  Анализ поведения пользователей стартапа по продажам продуктов питания"
   ]
  },
  {
   "cell_type": "markdown",
   "metadata": {},
   "source": [
    "**Цель** – исследование результатов A/A/B тестов для принятия решения – влияет ли изменение шрифтов в приложении стартапа по продаже продуктов питания на воронку продаж.\n",
    "\n",
    "**Задачи**:\n",
    "\n",
    "* изучить воронку продаж: узнать сколько пользователей доходя до покупки;\n",
    "* исследовать A/A группы для получения уверенности в точности проведенного тестирования;\n",
    "* исследовать результаты A/B тестов;\n",
    "* выявить, есть ли изменение в поведении пользователей в разных группах, и является ли оно статистически значимым."
   ]
  },
  {
   "cell_type": "markdown",
   "metadata": {
    "toc": true
   },
   "source": [
    "<h1>Содержание<span class=\"tocSkip\"></span></h1>\n",
    "<div class=\"toc\"><ul class=\"toc-item\"><li><span><a href=\"#Описание-проекта\" data-toc-modified-id=\"Описание-проекта-1\"><span class=\"toc-item-num\">1&nbsp;&nbsp;</span>Описание проекта</a></span></li><li><span><a href=\"#Первичное-изучение-данных-и-их-предобработка\" data-toc-modified-id=\"Первичное-изучение-данных-и-их-предобработка-2\"><span class=\"toc-item-num\">2&nbsp;&nbsp;</span>Первичное изучение данных и их предобработка</a></span></li><li><span><a href=\"#Детальное-изучение-и-проверка-данных\" data-toc-modified-id=\"Детальное-изучение-и-проверка-данных-3\"><span class=\"toc-item-num\">3&nbsp;&nbsp;</span>Детальное изучение и проверка данных</a></span><ul class=\"toc-item\"><li><span><a href=\"#Расчёт-количества-событий-в-логе\" data-toc-modified-id=\"Расчёт-количества-событий-в-логе-3.1\"><span class=\"toc-item-num\">3.1&nbsp;&nbsp;</span>Расчёт количества событий в логе</a></span></li><li><span><a href=\"#Расчёт-пользователей-в-логе\" data-toc-modified-id=\"Расчёт-пользователей-в-логе-3.2\"><span class=\"toc-item-num\">3.2&nbsp;&nbsp;</span>Расчёт пользователей в логе</a></span></li><li><span><a href=\"#Расчёт-среднего-числа-событий-на-пользователя\" data-toc-modified-id=\"Расчёт-среднего-числа-событий-на-пользователя-3.3\"><span class=\"toc-item-num\">3.3&nbsp;&nbsp;</span>Расчёт среднего числа событий на пользователя</a></span></li><li><span><a href=\"#Исследование-временного-промежутка-полученных-данных\" data-toc-modified-id=\"Исследование-временного-промежутка-полученных-данных-3.4\"><span class=\"toc-item-num\">3.4&nbsp;&nbsp;</span>Исследование временного промежутка полученных данных</a></span></li></ul></li><li><span><a href=\"#Изучение-воронки-событий\" data-toc-modified-id=\"Изучение-воронки-событий-4\"><span class=\"toc-item-num\">4&nbsp;&nbsp;</span>Изучение воронки событий</a></span><ul class=\"toc-item\"><li><span><a href=\"#Определение-частоты-каждого-события\" data-toc-modified-id=\"Определение-частоты-каждого-события-4.1\"><span class=\"toc-item-num\">4.1&nbsp;&nbsp;</span>Определение частоты каждого события</a></span></li><li><span><a href=\"#Расчёт-уникальных-пользователей-на-каждое-событие\" data-toc-modified-id=\"Расчёт-уникальных-пользователей-на-каждое-событие-4.2\"><span class=\"toc-item-num\">4.2&nbsp;&nbsp;</span>Расчёт уникальных пользователей на каждое событие</a></span></li><li><span><a href=\"#Расчёт-доли-пользователей,-переходящих-на-следующий-шаг-воронки\" data-toc-modified-id=\"Расчёт-доли-пользователей,-переходящих-на-следующий-шаг-воронки-4.3\"><span class=\"toc-item-num\">4.3&nbsp;&nbsp;</span>Расчёт доли пользователей, переходящих на следующий шаг воронки</a></span></li></ul></li><li><span><a href=\"#Изучение-результатов-эксперимента\" data-toc-modified-id=\"Изучение-результатов-эксперимента-5\"><span class=\"toc-item-num\">5&nbsp;&nbsp;</span>Изучение результатов эксперимента</a></span><ul class=\"toc-item\"><li><span><a href=\"#Проверка-контрольных-групп\" data-toc-modified-id=\"Проверка-контрольных-групп-5.1\"><span class=\"toc-item-num\">5.1&nbsp;&nbsp;</span>Проверка контрольных групп</a></span></li><li><span><a href=\"#Сравнение-групп-A-с-группой-B\" data-toc-modified-id=\"Сравнение-групп-A-с-группой-B-5.2\"><span class=\"toc-item-num\">5.2&nbsp;&nbsp;</span>Сравнение групп A с группой B</a></span></li></ul></li><li><span><a href=\"#Вывод\" data-toc-modified-id=\"Вывод-6\"><span class=\"toc-item-num\">6&nbsp;&nbsp;</span>Вывод</a></span></li></ul></div>"
   ]
  },
  {
   "cell_type": "markdown",
   "metadata": {},
   "source": [
    "## Описание проекта"
   ]
  },
  {
   "cell_type": "markdown",
   "metadata": {},
   "source": [
    "Действия или события пользователей стартапа представлены в датасете `logs`:\n",
    "\n",
    "* `EventName` — название события;\n",
    "* `DeviceIDHash` — уникальный идентификатор пользователя;\n",
    "* `EventTimestamp` — время события;\n",
    "* `ExpId` — номер эксперимента: 246 и 247 — контрольные группы, а 248 — экспериментальная."
   ]
  },
  {
   "cell_type": "code",
   "execution_count": 1,
   "metadata": {},
   "outputs": [],
   "source": [
    "# импортируем библиотеки\n",
    "import pandas as pd\n",
    "import numpy as np\n",
    "import matplotlib.pyplot as plt\n",
    "import datetime as dt\n",
    "import seaborn as sns\n",
    "from scipy import stats as st"
   ]
  },
  {
   "cell_type": "markdown",
   "metadata": {},
   "source": [
    "## Первичное изучение данных и их предобработка"
   ]
  },
  {
   "cell_type": "code",
   "execution_count": 2,
   "metadata": {},
   "outputs": [
    {
     "data": {
      "text/html": [
       "<div>\n",
       "<style scoped>\n",
       "    .dataframe tbody tr th:only-of-type {\n",
       "        vertical-align: middle;\n",
       "    }\n",
       "\n",
       "    .dataframe tbody tr th {\n",
       "        vertical-align: top;\n",
       "    }\n",
       "\n",
       "    .dataframe thead th {\n",
       "        text-align: right;\n",
       "    }\n",
       "</style>\n",
       "<table border=\"1\" class=\"dataframe\">\n",
       "  <thead>\n",
       "    <tr style=\"text-align: right;\">\n",
       "      <th></th>\n",
       "      <th>EventName</th>\n",
       "      <th>DeviceIDHash</th>\n",
       "      <th>EventTimestamp</th>\n",
       "      <th>ExpId</th>\n",
       "    </tr>\n",
       "  </thead>\n",
       "  <tbody>\n",
       "    <tr>\n",
       "      <th>0</th>\n",
       "      <td>MainScreenAppear</td>\n",
       "      <td>4575588528974610257</td>\n",
       "      <td>1564029816</td>\n",
       "      <td>246</td>\n",
       "    </tr>\n",
       "    <tr>\n",
       "      <th>1</th>\n",
       "      <td>MainScreenAppear</td>\n",
       "      <td>7416695313311560658</td>\n",
       "      <td>1564053102</td>\n",
       "      <td>246</td>\n",
       "    </tr>\n",
       "    <tr>\n",
       "      <th>2</th>\n",
       "      <td>PaymentScreenSuccessful</td>\n",
       "      <td>3518123091307005509</td>\n",
       "      <td>1564054127</td>\n",
       "      <td>248</td>\n",
       "    </tr>\n",
       "    <tr>\n",
       "      <th>3</th>\n",
       "      <td>CartScreenAppear</td>\n",
       "      <td>3518123091307005509</td>\n",
       "      <td>1564054127</td>\n",
       "      <td>248</td>\n",
       "    </tr>\n",
       "    <tr>\n",
       "      <th>4</th>\n",
       "      <td>PaymentScreenSuccessful</td>\n",
       "      <td>6217807653094995999</td>\n",
       "      <td>1564055322</td>\n",
       "      <td>248</td>\n",
       "    </tr>\n",
       "  </tbody>\n",
       "</table>\n",
       "</div>"
      ],
      "text/plain": [
       "                 EventName         DeviceIDHash  EventTimestamp  ExpId\n",
       "0         MainScreenAppear  4575588528974610257      1564029816    246\n",
       "1         MainScreenAppear  7416695313311560658      1564053102    246\n",
       "2  PaymentScreenSuccessful  3518123091307005509      1564054127    248\n",
       "3         CartScreenAppear  3518123091307005509      1564054127    248\n",
       "4  PaymentScreenSuccessful  6217807653094995999      1564055322    248"
      ]
     },
     "execution_count": 2,
     "metadata": {},
     "output_type": "execute_result"
    }
   ],
   "source": [
    "try:\n",
    "    logs = pd.read_csv(r\"C:\\Users\\baran\\data analysis\\datasets\\logs_exp.csv\", sep='\\t')\n",
    "except:\n",
    "    logs = pd.read_csv('/datasets/logs_exp.csv', sep='\\t')\n",
    "\n",
    "logs.head()"
   ]
  },
  {
   "cell_type": "markdown",
   "metadata": {},
   "source": [
    "В предлагаемом для анализа датасете с логами пользователей всего 4 столбца:\n",
    "\n",
    "* `EventName` — название события;\n",
    "* `DeviceIDHash` — уникальный идентификатор пользователя;\n",
    "* `EventTimestamp` — время события;\n",
    "* `ExpId` — номер эксперимента: 246 и 247 — контрольные группы, а 248 — экспериментальная."
   ]
  },
  {
   "cell_type": "code",
   "execution_count": 3,
   "metadata": {},
   "outputs": [
    {
     "name": "stdout",
     "output_type": "stream",
     "text": [
      "<class 'pandas.core.frame.DataFrame'>\n",
      "RangeIndex: 244126 entries, 0 to 244125\n",
      "Data columns (total 4 columns):\n",
      " #   Column          Non-Null Count   Dtype \n",
      "---  ------          --------------   ----- \n",
      " 0   EventName       244126 non-null  object\n",
      " 1   DeviceIDHash    244126 non-null  int64 \n",
      " 2   EventTimestamp  244126 non-null  int64 \n",
      " 3   ExpId           244126 non-null  int64 \n",
      "dtypes: int64(3), object(1)\n",
      "memory usage: 7.5+ MB\n"
     ]
    }
   ],
   "source": [
    "# изучим данные\n",
    "logs.info()"
   ]
  },
  {
   "cell_type": "markdown",
   "metadata": {},
   "source": [
    "Нулей в столбцах нет, однако\n",
    "\n",
    "* Изменим название столбцов на более удобное;\n",
    "* Изменим тип данных в столбце со временем событий \n",
    "* Добавим отдельно столбец с датой события"
   ]
  },
  {
   "cell_type": "code",
   "execution_count": 4,
   "metadata": {},
   "outputs": [
    {
     "data": {
      "text/html": [
       "<div>\n",
       "<style scoped>\n",
       "    .dataframe tbody tr th:only-of-type {\n",
       "        vertical-align: middle;\n",
       "    }\n",
       "\n",
       "    .dataframe tbody tr th {\n",
       "        vertical-align: top;\n",
       "    }\n",
       "\n",
       "    .dataframe thead th {\n",
       "        text-align: right;\n",
       "    }\n",
       "</style>\n",
       "<table border=\"1\" class=\"dataframe\">\n",
       "  <thead>\n",
       "    <tr style=\"text-align: right;\">\n",
       "      <th></th>\n",
       "      <th>event_name</th>\n",
       "      <th>user_id</th>\n",
       "      <th>event_datetime</th>\n",
       "      <th>group</th>\n",
       "      <th>event_date</th>\n",
       "    </tr>\n",
       "  </thead>\n",
       "  <tbody>\n",
       "    <tr>\n",
       "      <th>0</th>\n",
       "      <td>MainScreenAppear</td>\n",
       "      <td>4575588528974610257</td>\n",
       "      <td>2019-07-25 04:43:36</td>\n",
       "      <td>246</td>\n",
       "      <td>2019-07-25</td>\n",
       "    </tr>\n",
       "    <tr>\n",
       "      <th>1</th>\n",
       "      <td>MainScreenAppear</td>\n",
       "      <td>7416695313311560658</td>\n",
       "      <td>2019-07-25 11:11:42</td>\n",
       "      <td>246</td>\n",
       "      <td>2019-07-25</td>\n",
       "    </tr>\n",
       "    <tr>\n",
       "      <th>2</th>\n",
       "      <td>PaymentScreenSuccessful</td>\n",
       "      <td>3518123091307005509</td>\n",
       "      <td>2019-07-25 11:28:47</td>\n",
       "      <td>248</td>\n",
       "      <td>2019-07-25</td>\n",
       "    </tr>\n",
       "    <tr>\n",
       "      <th>3</th>\n",
       "      <td>CartScreenAppear</td>\n",
       "      <td>3518123091307005509</td>\n",
       "      <td>2019-07-25 11:28:47</td>\n",
       "      <td>248</td>\n",
       "      <td>2019-07-25</td>\n",
       "    </tr>\n",
       "    <tr>\n",
       "      <th>4</th>\n",
       "      <td>PaymentScreenSuccessful</td>\n",
       "      <td>6217807653094995999</td>\n",
       "      <td>2019-07-25 11:48:42</td>\n",
       "      <td>248</td>\n",
       "      <td>2019-07-25</td>\n",
       "    </tr>\n",
       "  </tbody>\n",
       "</table>\n",
       "</div>"
      ],
      "text/plain": [
       "                event_name              user_id      event_datetime  group  \\\n",
       "0         MainScreenAppear  4575588528974610257 2019-07-25 04:43:36    246   \n",
       "1         MainScreenAppear  7416695313311560658 2019-07-25 11:11:42    246   \n",
       "2  PaymentScreenSuccessful  3518123091307005509 2019-07-25 11:28:47    248   \n",
       "3         CartScreenAppear  3518123091307005509 2019-07-25 11:28:47    248   \n",
       "4  PaymentScreenSuccessful  6217807653094995999 2019-07-25 11:48:42    248   \n",
       "\n",
       "   event_date  \n",
       "0  2019-07-25  \n",
       "1  2019-07-25  \n",
       "2  2019-07-25  \n",
       "3  2019-07-25  \n",
       "4  2019-07-25  "
      ]
     },
     "execution_count": 4,
     "metadata": {},
     "output_type": "execute_result"
    }
   ],
   "source": [
    "# заменяем названия столбцов \n",
    "logs.columns = ['event_name', 'user_id', 'event_datetime', 'group']\n",
    "\n",
    "# изменяем тип данных в event_time\n",
    "logs['event_datetime'] = pd.to_datetime(logs['event_datetime'], unit='s')\n",
    "\n",
    "# добавляем столбец с датой события \n",
    "logs['event_date'] = logs['event_datetime'].dt.date\n",
    "\n",
    "logs.head()"
   ]
  },
  {
   "cell_type": "markdown",
   "metadata": {},
   "source": [
    "* Убедимся, что один пользователь не принадлежит сразу нескольким группам"
   ]
  },
  {
   "cell_type": "code",
   "execution_count": 5,
   "metadata": {},
   "outputs": [
    {
     "name": "stdout",
     "output_type": "stream",
     "text": [
      "[]\n",
      "0\n"
     ]
    }
   ],
   "source": [
    "# создаем таблицу с пользователями и их группами\n",
    "duplicates_or_no = logs.groupby('user_id')['group'].unique()\n",
    "\n",
    "# заносим пользователей у которых более 1 группы в список и выводим его длину\n",
    "users_with_duplicates = []\n",
    "for user, group in duplicates_or_no.items():\n",
    "    if len(group) > 1:\n",
    "        users_with_duplicates.append(user)\n",
    "print(users_with_duplicates)    \n",
    "print(len(users_with_duplicates))    "
   ]
  },
  {
   "cell_type": "markdown",
   "metadata": {},
   "source": [
    "Все пользователи принадлежат разным группам."
   ]
  },
  {
   "cell_type": "markdown",
   "metadata": {},
   "source": [
    "* Проверим дубликаты"
   ]
  },
  {
   "cell_type": "code",
   "execution_count": 6,
   "metadata": {},
   "outputs": [
    {
     "name": "stdout",
     "output_type": "stream",
     "text": [
      "413\n"
     ]
    }
   ],
   "source": [
    "# проверка на наличие явных дубликатов по всем столбцам\n",
    "print(logs.duplicated().sum())"
   ]
  },
  {
   "cell_type": "markdown",
   "metadata": {},
   "source": [
    "Обнаружилось 413 явных дубликатов. Посмотрим на них"
   ]
  },
  {
   "cell_type": "code",
   "execution_count": 7,
   "metadata": {},
   "outputs": [
    {
     "data": {
      "text/html": [
       "<div>\n",
       "<style scoped>\n",
       "    .dataframe tbody tr th:only-of-type {\n",
       "        vertical-align: middle;\n",
       "    }\n",
       "\n",
       "    .dataframe tbody tr th {\n",
       "        vertical-align: top;\n",
       "    }\n",
       "\n",
       "    .dataframe thead th {\n",
       "        text-align: right;\n",
       "    }\n",
       "</style>\n",
       "<table border=\"1\" class=\"dataframe\">\n",
       "  <thead>\n",
       "    <tr style=\"text-align: right;\">\n",
       "      <th></th>\n",
       "      <th>event_name</th>\n",
       "      <th>user_id</th>\n",
       "      <th>event_datetime</th>\n",
       "      <th>group</th>\n",
       "      <th>event_date</th>\n",
       "    </tr>\n",
       "  </thead>\n",
       "  <tbody>\n",
       "    <tr>\n",
       "      <th>453</th>\n",
       "      <td>MainScreenAppear</td>\n",
       "      <td>5613408041324010552</td>\n",
       "      <td>2019-07-30 08:19:44</td>\n",
       "      <td>248</td>\n",
       "      <td>2019-07-30</td>\n",
       "    </tr>\n",
       "    <tr>\n",
       "      <th>2350</th>\n",
       "      <td>CartScreenAppear</td>\n",
       "      <td>1694940645335807244</td>\n",
       "      <td>2019-07-31 21:51:39</td>\n",
       "      <td>248</td>\n",
       "      <td>2019-07-31</td>\n",
       "    </tr>\n",
       "    <tr>\n",
       "      <th>3573</th>\n",
       "      <td>MainScreenAppear</td>\n",
       "      <td>434103746454591587</td>\n",
       "      <td>2019-08-01 02:59:37</td>\n",
       "      <td>248</td>\n",
       "      <td>2019-08-01</td>\n",
       "    </tr>\n",
       "    <tr>\n",
       "      <th>4076</th>\n",
       "      <td>MainScreenAppear</td>\n",
       "      <td>3761373764179762633</td>\n",
       "      <td>2019-08-01 03:47:46</td>\n",
       "      <td>247</td>\n",
       "      <td>2019-08-01</td>\n",
       "    </tr>\n",
       "    <tr>\n",
       "      <th>4803</th>\n",
       "      <td>MainScreenAppear</td>\n",
       "      <td>2835328739789306622</td>\n",
       "      <td>2019-08-01 04:44:01</td>\n",
       "      <td>248</td>\n",
       "      <td>2019-08-01</td>\n",
       "    </tr>\n",
       "    <tr>\n",
       "      <th>5641</th>\n",
       "      <td>CartScreenAppear</td>\n",
       "      <td>4248762472840564256</td>\n",
       "      <td>2019-08-01 05:36:04</td>\n",
       "      <td>248</td>\n",
       "      <td>2019-08-01</td>\n",
       "    </tr>\n",
       "    <tr>\n",
       "      <th>5875</th>\n",
       "      <td>PaymentScreenSuccessful</td>\n",
       "      <td>6427012997733591237</td>\n",
       "      <td>2019-08-01 05:47:32</td>\n",
       "      <td>248</td>\n",
       "      <td>2019-08-01</td>\n",
       "    </tr>\n",
       "    <tr>\n",
       "      <th>7249</th>\n",
       "      <td>OffersScreenAppear</td>\n",
       "      <td>7224691986599895551</td>\n",
       "      <td>2019-08-01 06:44:06</td>\n",
       "      <td>246</td>\n",
       "      <td>2019-08-01</td>\n",
       "    </tr>\n",
       "    <tr>\n",
       "      <th>8065</th>\n",
       "      <td>CartScreenAppear</td>\n",
       "      <td>8189122927585332969</td>\n",
       "      <td>2019-08-01 07:18:49</td>\n",
       "      <td>248</td>\n",
       "      <td>2019-08-01</td>\n",
       "    </tr>\n",
       "    <tr>\n",
       "      <th>9179</th>\n",
       "      <td>MainScreenAppear</td>\n",
       "      <td>2230705996155527339</td>\n",
       "      <td>2019-08-01 07:54:47</td>\n",
       "      <td>246</td>\n",
       "      <td>2019-08-01</td>\n",
       "    </tr>\n",
       "  </tbody>\n",
       "</table>\n",
       "</div>"
      ],
      "text/plain": [
       "                   event_name              user_id      event_datetime  group  \\\n",
       "453          MainScreenAppear  5613408041324010552 2019-07-30 08:19:44    248   \n",
       "2350         CartScreenAppear  1694940645335807244 2019-07-31 21:51:39    248   \n",
       "3573         MainScreenAppear   434103746454591587 2019-08-01 02:59:37    248   \n",
       "4076         MainScreenAppear  3761373764179762633 2019-08-01 03:47:46    247   \n",
       "4803         MainScreenAppear  2835328739789306622 2019-08-01 04:44:01    248   \n",
       "5641         CartScreenAppear  4248762472840564256 2019-08-01 05:36:04    248   \n",
       "5875  PaymentScreenSuccessful  6427012997733591237 2019-08-01 05:47:32    248   \n",
       "7249       OffersScreenAppear  7224691986599895551 2019-08-01 06:44:06    246   \n",
       "8065         CartScreenAppear  8189122927585332969 2019-08-01 07:18:49    248   \n",
       "9179         MainScreenAppear  2230705996155527339 2019-08-01 07:54:47    246   \n",
       "\n",
       "      event_date  \n",
       "453   2019-07-30  \n",
       "2350  2019-07-31  \n",
       "3573  2019-08-01  \n",
       "4076  2019-08-01  \n",
       "4803  2019-08-01  \n",
       "5641  2019-08-01  \n",
       "5875  2019-08-01  \n",
       "7249  2019-08-01  \n",
       "8065  2019-08-01  \n",
       "9179  2019-08-01  "
      ]
     },
     "execution_count": 7,
     "metadata": {},
     "output_type": "execute_result"
    }
   ],
   "source": [
    "duplicates = logs.loc[logs.duplicated()]\n",
    "duplicates.head(10)"
   ]
  },
  {
   "cell_type": "code",
   "execution_count": 8,
   "metadata": {},
   "outputs": [
    {
     "data": {
      "text/plain": [
       "event_date\n",
       "2019-07-30     1\n",
       "2019-07-31     1\n",
       "2019-08-01    88\n",
       "2019-08-02    52\n",
       "2019-08-03    69\n",
       "2019-08-04    65\n",
       "2019-08-05    55\n",
       "2019-08-06    34\n",
       "2019-08-07    48\n",
       "Name: user_id, dtype: int64"
      ]
     },
     "execution_count": 8,
     "metadata": {},
     "output_type": "execute_result"
    }
   ],
   "source": [
    "# посмотрим, когда это было\n",
    "duplicates.groupby('event_date')['user_id'].count()"
   ]
  },
  {
   "cell_type": "markdown",
   "metadata": {},
   "source": [
    "Причину выяснить не удаётся, необходимо сообщить датаинженерам о наличии дубликатов в датасете. Возможно, их косяк.\n",
    "\n",
    "В свою очередь, мы их удаляем."
   ]
  },
  {
   "cell_type": "code",
   "execution_count": 9,
   "metadata": {},
   "outputs": [],
   "source": [
    "logs = logs.drop_duplicates()"
   ]
  },
  {
   "cell_type": "markdown",
   "metadata": {},
   "source": [
    "**Вывод:** в результате первичной предобработки данных:\n",
    "\n",
    "* изменены названия столбцов;\n",
    "* заменён тип данных у столбца, содержащего дату и время; \n",
    "* добавлен отдельный столбец с датой;\n",
    "* устранены 413 дубликатов."
   ]
  },
  {
   "cell_type": "markdown",
   "metadata": {},
   "source": [
    "## Детальное изучение и проверка данных"
   ]
  },
  {
   "cell_type": "markdown",
   "metadata": {},
   "source": [
    "### Расчёт количества событий в логе"
   ]
  },
  {
   "cell_type": "code",
   "execution_count": 10,
   "metadata": {},
   "outputs": [
    {
     "name": "stdout",
     "output_type": "stream",
     "text": [
      "['MainScreenAppear' 'PaymentScreenSuccessful' 'CartScreenAppear'\n",
      " 'OffersScreenAppear' 'Tutorial']\n"
     ]
    }
   ],
   "source": [
    "print(logs['event_name'].unique())"
   ]
  },
  {
   "cell_type": "markdown",
   "metadata": {},
   "source": [
    "В логе всего 5 событий.\n",
    "\n",
    "* `MainScreenAppear` – появление главное экрана\n",
    "* `PaymentScreenSuccessful` – появление экрана успешной оплаты\n",
    "* `CartScreenAppear` – появление экрана корзины\n",
    "* `OffersScreenAppear` – появление экрана предложений \n",
    "* `Tutorial` – обучение"
   ]
  },
  {
   "cell_type": "markdown",
   "metadata": {},
   "source": [
    "### Расчёт пользователей в логе"
   ]
  },
  {
   "cell_type": "code",
   "execution_count": 11,
   "metadata": {},
   "outputs": [
    {
     "data": {
      "text/plain": [
       "7551"
      ]
     },
     "execution_count": 11,
     "metadata": {},
     "output_type": "execute_result"
    }
   ],
   "source": [
    "logs['user_id'].nunique()"
   ]
  },
  {
   "cell_type": "markdown",
   "metadata": {},
   "source": [
    "Всего в логе 7551 уникальных пользователей. Посмотрим теперь, как они распределены по группам"
   ]
  },
  {
   "cell_type": "code",
   "execution_count": 12,
   "metadata": {},
   "outputs": [
    {
     "data": {
      "text/plain": [
       "group\n",
       "246    2489\n",
       "247    2520\n",
       "248    2542\n",
       "Name: user_id, dtype: int64"
      ]
     },
     "execution_count": 12,
     "metadata": {},
     "output_type": "execute_result"
    }
   ],
   "source": [
    "logs.groupby('group')['user_id'].nunique()"
   ]
  },
  {
   "cell_type": "code",
   "execution_count": 13,
   "metadata": {},
   "outputs": [
    {
     "data": {
      "text/plain": [
       "243713"
      ]
     },
     "execution_count": 13,
     "metadata": {},
     "output_type": "execute_result"
    }
   ],
   "source": [
    "logs_shape = logs.shape[0]\n",
    "logs_shape"
   ]
  },
  {
   "cell_type": "markdown",
   "metadata": {},
   "source": [
    "Таким образом, 7551 пользователей совершили 243713 события. Небольшое преимущество по пользователям у группы 248."
   ]
  },
  {
   "cell_type": "markdown",
   "metadata": {},
   "source": [
    "### Расчёт среднего числа событий на пользователя"
   ]
  },
  {
   "cell_type": "code",
   "execution_count": 14,
   "metadata": {},
   "outputs": [
    {
     "data": {
      "text/plain": [
       "user_id\n",
       "6888746892508752      1\n",
       "6909561520679493      5\n",
       "6922444491712477     47\n",
       "7435777799948366      6\n",
       "7702139951469979    137\n",
       "Name: event_name, dtype: int64"
      ]
     },
     "execution_count": 14,
     "metadata": {},
     "output_type": "execute_result"
    }
   ],
   "source": [
    "# группируем по user_id и считаем события\n",
    "logs.groupby('user_id')['event_name'].count().head(5)"
   ]
  },
  {
   "cell_type": "markdown",
   "metadata": {},
   "source": [
    "Даже из первых 5 пользователей видно, что разброс огромный – лучше считать медиану."
   ]
  },
  {
   "cell_type": "code",
   "execution_count": 15,
   "metadata": {},
   "outputs": [
    {
     "data": {
      "text/plain": [
       "20.0"
      ]
     },
     "execution_count": 15,
     "metadata": {},
     "output_type": "execute_result"
    }
   ],
   "source": [
    "logs.groupby('user_id')['event_name'].count().median()"
   ]
  },
  {
   "cell_type": "markdown",
   "metadata": {},
   "source": [
    "Таким образом, в среднем на пользователя приходится 20 событий.  Посмотрим на гистограмму"
   ]
  },
  {
   "cell_type": "code",
   "execution_count": 16,
   "metadata": {},
   "outputs": [
    {
     "data": {
      "image/png": "[encoded data removed]",
      "text/plain": [
       "<Figure size 640x480 with 1 Axes>"
      ]
     },
     "metadata": {},
     "output_type": "display_data"
    }
   ],
   "source": [
    "logs.groupby('user_id')['event_name'].count().hist(bins = 100,  range=(0, 200))\n",
    "plt.title('Распределение пользователей по количеству событий')\n",
    "plt.xlabel('Количество событий')\n",
    "plt.ylabel('Количество пользователей');"
   ]
  },
  {
   "cell_type": "markdown",
   "metadata": {},
   "source": [
    "### Исследование временного промежутка полученных данных"
   ]
  },
  {
   "cell_type": "markdown",
   "metadata": {},
   "source": [
    "**Определим самое раннее и самое позднее события**"
   ]
  },
  {
   "cell_type": "code",
   "execution_count": 17,
   "metadata": {},
   "outputs": [
    {
     "data": {
      "text/plain": [
       "datetime.date(2019, 7, 25)"
      ]
     },
     "execution_count": 17,
     "metadata": {},
     "output_type": "execute_result"
    }
   ],
   "source": [
    "# определяем самое раннее событие\n",
    "logs['event_date'].min()"
   ]
  },
  {
   "cell_type": "code",
   "execution_count": 18,
   "metadata": {},
   "outputs": [
    {
     "data": {
      "text/plain": [
       "datetime.date(2019, 8, 7)"
      ]
     },
     "execution_count": 18,
     "metadata": {},
     "output_type": "execute_result"
    }
   ],
   "source": [
    "# определяем самое позднее событие\n",
    "logs['event_date'].max()"
   ]
  },
  {
   "cell_type": "code",
   "execution_count": 19,
   "metadata": {},
   "outputs": [
    {
     "data": {
      "text/plain": [
       "datetime.timedelta(days=13)"
      ]
     },
     "execution_count": 19,
     "metadata": {},
     "output_type": "execute_result"
    }
   ],
   "source": [
    "# смотрим на разницу\n",
    "logs['event_date'].max() - logs['event_date'].min()"
   ]
  },
  {
   "cell_type": "markdown",
   "metadata": {},
   "source": [
    "В предоставленном для анализе датасете минимальная дата – 2019-07-25, максимальная – 2019-08-07. Всего 13 дней."
   ]
  },
  {
   "cell_type": "markdown",
   "metadata": {},
   "source": [
    "**Визуализируем динамику событий по группам**"
   ]
  },
  {
   "cell_type": "code",
   "execution_count": 20,
   "metadata": {},
   "outputs": [
    {
     "data": {
      "text/html": [
       "<div>\n",
       "<style scoped>\n",
       "    .dataframe tbody tr th:only-of-type {\n",
       "        vertical-align: middle;\n",
       "    }\n",
       "\n",
       "    .dataframe tbody tr th {\n",
       "        vertical-align: top;\n",
       "    }\n",
       "\n",
       "    .dataframe thead th {\n",
       "        text-align: right;\n",
       "    }\n",
       "</style>\n",
       "<table border=\"1\" class=\"dataframe\">\n",
       "  <thead>\n",
       "    <tr style=\"text-align: right;\">\n",
       "      <th></th>\n",
       "      <th>event_date</th>\n",
       "      <th>group</th>\n",
       "      <th>event_name</th>\n",
       "    </tr>\n",
       "  </thead>\n",
       "  <tbody>\n",
       "    <tr>\n",
       "      <th>0</th>\n",
       "      <td>2019-07-25</td>\n",
       "      <td>246</td>\n",
       "      <td>4</td>\n",
       "    </tr>\n",
       "    <tr>\n",
       "      <th>1</th>\n",
       "      <td>2019-07-25</td>\n",
       "      <td>247</td>\n",
       "      <td>1</td>\n",
       "    </tr>\n",
       "    <tr>\n",
       "      <th>2</th>\n",
       "      <td>2019-07-25</td>\n",
       "      <td>248</td>\n",
       "      <td>4</td>\n",
       "    </tr>\n",
       "    <tr>\n",
       "      <th>3</th>\n",
       "      <td>2019-07-26</td>\n",
       "      <td>246</td>\n",
       "      <td>14</td>\n",
       "    </tr>\n",
       "    <tr>\n",
       "      <th>4</th>\n",
       "      <td>2019-07-26</td>\n",
       "      <td>247</td>\n",
       "      <td>8</td>\n",
       "    </tr>\n",
       "  </tbody>\n",
       "</table>\n",
       "</div>"
      ],
      "text/plain": [
       "   event_date  group  event_name\n",
       "0  2019-07-25    246           4\n",
       "1  2019-07-25    247           1\n",
       "2  2019-07-25    248           4\n",
       "3  2019-07-26    246          14\n",
       "4  2019-07-26    247           8"
      ]
     },
     "execution_count": 20,
     "metadata": {},
     "output_type": "execute_result"
    }
   ],
   "source": [
    "# построим таблицу\n",
    "dynamic_events = logs.groupby(['event_date', 'group'])['event_name'].count().reset_index()\n",
    "dynamic_events.head()"
   ]
  },
  {
   "cell_type": "code",
   "execution_count": 21,
   "metadata": {},
   "outputs": [
    {
     "data": {
      "image/png": "[encoded data removed]",
      "text/plain": [
       "<Figure size 800x400 with 1 Axes>"
      ]
     },
     "metadata": {},
     "output_type": "display_data"
    }
   ],
   "source": [
    "# визуализируем результаты\n",
    "plt.figure(figsize=(8, 4))\n",
    "sns.barplot(x='event_date', y='event_name', hue='group', data=dynamic_events)\n",
    "plt.title('Динамика количества событий по дням в разбивке по группам')\n",
    "plt.xlabel('Дата')\n",
    "plt.ylabel('Количество событий')\n",
    "plt.xticks(rotation=45)\n",
    "plt.legend(title='группа');"
   ]
  },
  {
   "cell_type": "markdown",
   "metadata": {},
   "source": [
    "Из представленной динамики можно сделать вывод, что пользователи активно совершали события в период с 1 по 7 августа. Кроме того, в большинстве случаев в исследуемой выборке наиболее активными являются пользователи 248 группы. Таким образом, данные до 1 августа будем считать неполными. Они могут исказить дальнейшее исследование."
   ]
  },
  {
   "cell_type": "code",
   "execution_count": 22,
   "metadata": {},
   "outputs": [
    {
     "data": {
      "text/plain": [
       "1.159560630741897"
      ]
     },
     "execution_count": 22,
     "metadata": {},
     "output_type": "execute_result"
    }
   ],
   "source": [
    "# cмотрим сколько таких событий\n",
    "logs.query('event_datetime < \"2019-08-01 00:00:00\"').shape[0] / logs_shape * 100"
   ]
  },
  {
   "cell_type": "markdown",
   "metadata": {},
   "source": [
    "Событий раньше 1 августа менее 1,2% от всех событий. Удаляем их."
   ]
  },
  {
   "cell_type": "code",
   "execution_count": 23,
   "metadata": {},
   "outputs": [
    {
     "name": "stdout",
     "output_type": "stream",
     "text": [
      "240887\n",
      "7534\n"
     ]
    }
   ],
   "source": [
    "# делаем срез\n",
    "logs_active = logs.query('event_datetime >= \"2019-08-01 00:00:00\"')\n",
    "\n",
    "# смотрим сколько событий осталось\n",
    "print(logs_active.shape[0])\n",
    "\n",
    "# смотрим сколько уникальных пользователей осталось\n",
    "print(logs_active['user_id'].nunique())"
   ]
  },
  {
   "cell_type": "markdown",
   "metadata": {},
   "source": [
    "Таким образом, откинули 2826 событий и 17 пользователей"
   ]
  },
  {
   "cell_type": "markdown",
   "metadata": {},
   "source": [
    "## Изучение воронки событий"
   ]
  },
  {
   "cell_type": "markdown",
   "metadata": {},
   "source": [
    "### Определение частоты каждого события"
   ]
  },
  {
   "cell_type": "code",
   "execution_count": 24,
   "metadata": {},
   "outputs": [
    {
     "name": "stdout",
     "output_type": "stream",
     "text": [
      "event_name\n",
      "Tutorial                     1005\n",
      "PaymentScreenSuccessful     33918\n",
      "CartScreenAppear            42303\n",
      "OffersScreenAppear          46333\n",
      "MainScreenAppear           117328\n",
      "Name: event_name, dtype: int64\n"
     ]
    }
   ],
   "source": [
    "# выведем сводную таблицу\n",
    "print(logs_active.groupby('event_name')['event_name'].count().sort_values())"
   ]
  },
  {
   "cell_type": "code",
   "execution_count": 25,
   "metadata": {},
   "outputs": [
    {
     "data": {
      "image/png": "[encoded data removed]",
      "text/plain": [
       "<Figure size 640x480 with 1 Axes>"
      ]
     },
     "metadata": {},
     "output_type": "display_data"
    }
   ],
   "source": [
    "# визуализируем \n",
    "logs_active.groupby('event_name')['event_name'].count().sort_values().plot(kind='barh')\n",
    "plt.title('Частота совершаемых событий')\n",
    "plt.ylabel('Событие')\n",
    "plt.xlabel('Количество');"
   ]
  },
  {
   "cell_type": "markdown",
   "metadata": {},
   "source": [
    "Больше всего было совершено событий – `MainScreenAppear`, меньше всего – `Tutorial`."
   ]
  },
  {
   "cell_type": "markdown",
   "metadata": {},
   "source": [
    "### Расчёт уникальных пользователей на каждое событие"
   ]
  },
  {
   "cell_type": "code",
   "execution_count": 26,
   "metadata": {},
   "outputs": [
    {
     "data": {
      "text/plain": [
       "event_name\n",
       "Tutorial                    840\n",
       "PaymentScreenSuccessful    3539\n",
       "CartScreenAppear           3734\n",
       "OffersScreenAppear         4593\n",
       "MainScreenAppear           7419\n",
       "Name: user_id, dtype: int64"
      ]
     },
     "execution_count": 26,
     "metadata": {},
     "output_type": "execute_result"
    }
   ],
   "source": [
    "logs_active.groupby('event_name')['user_id'].nunique().sort_values()"
   ]
  },
  {
   "cell_type": "markdown",
   "metadata": {},
   "source": [
    "Таким образом, из 7534 пользователей 7419 совершали событие `MainScreenAppear`, 4593 – `OffersScreenAppear`, 3734 – `CartScreenAppear`, 3539 – `PaymentScreenSuccessful` и 840 – `Tutorial`."
   ]
  },
  {
   "cell_type": "markdown",
   "metadata": {},
   "source": [
    "Посчитаем их долю от всех пользователей в процентах и визуализируем"
   ]
  },
  {
   "cell_type": "code",
   "execution_count": 27,
   "metadata": {},
   "outputs": [
    {
     "data": {
      "text/plain": [
       "event_name\n",
       "Tutorial                   11.0\n",
       "PaymentScreenSuccessful    47.0\n",
       "CartScreenAppear           50.0\n",
       "OffersScreenAppear         61.0\n",
       "MainScreenAppear           98.0\n",
       "Name: user_id, dtype: float64"
      ]
     },
     "execution_count": 27,
     "metadata": {},
     "output_type": "execute_result"
    }
   ],
   "source": [
    "(logs_active.groupby('event_name')['user_id']\n",
    " .nunique().sort_values() / logs_active['user_id'].nunique() * 100).round()"
   ]
  },
  {
   "cell_type": "code",
   "execution_count": 28,
   "metadata": {},
   "outputs": [
    {
     "data": {
      "image/png": "[encoded data removed]",
      "text/plain": [
       "<Figure size 640x480 with 1 Axes>"
      ]
     },
     "metadata": {},
     "output_type": "display_data"
    }
   ],
   "source": [
    "(logs_active.groupby('event_name')['user_id'].nunique().sort_values() / 7534 * 100).plot(kind='bar')\n",
    "plt.title('Процент пользователей, которые хотя бы раз совершали событие')\n",
    "plt.ylabel('Процент')\n",
    "plt.xlabel('Событие')\n",
    "plt.xticks(rotation=45);"
   ]
  },
  {
   "cell_type": "markdown",
   "metadata": {},
   "source": [
    "Таким образом, из 7534 пользователей 98% попадают (или переходят) на основной экран, 61% – переходят на экран предложения, 50% – переходят в корзину, 47% – совершают покупку и 11% – переходят на экран с обучением.\n",
    "\n",
    "Переход на обучение может происходить на любом из этапов жизни пользователя на сайте. Такое событие выбивается из последовательной цепочки. Посмотрим какой процент составляют такие события"
   ]
  },
  {
   "cell_type": "code",
   "execution_count": 29,
   "metadata": {},
   "outputs": [
    {
     "data": {
      "text/plain": [
       "0.4172080685134524"
      ]
     },
     "execution_count": 29,
     "metadata": {},
     "output_type": "execute_result"
    }
   ],
   "source": [
    "logs_active.query('event_name == \"Tutorial\"').shape[0] / logs_active.shape[0] * 100"
   ]
  },
  {
   "cell_type": "markdown",
   "metadata": {},
   "source": [
    "Таких событий менее 1 процента. Удаляем их"
   ]
  },
  {
   "cell_type": "code",
   "execution_count": 30,
   "metadata": {},
   "outputs": [],
   "source": [
    "logs_active = logs_active.query('event_name != \"Tutorial\"')"
   ]
  },
  {
   "cell_type": "markdown",
   "metadata": {},
   "source": [
    "### Расчёт доли пользователей, переходящих на следующий шаг воронки"
   ]
  },
  {
   "cell_type": "markdown",
   "metadata": {},
   "source": [
    "* Посчитаем уникальных пользователей, которые делали переход \n",
    "\n",
    "1. MainScreenAppear - OffersScreenAppear, \n",
    "2. OffersScreenAppear - CartScreenAppear\n",
    "3. CartScreenAppear - PaymentScreenSuccessful\n"
   ]
  },
  {
   "cell_type": "code",
   "execution_count": 31,
   "metadata": {},
   "outputs": [
    {
     "name": "stdout",
     "output_type": "stream",
     "text": [
      "7419 пользователей перешло на главный экран\n",
      "4482 из них перешли на экран с предложениями\n"
     ]
    }
   ],
   "source": [
    "# запомним user_id пользователей, которые переходили на основной экран\n",
    "MainScreenAppear_user_id = list(logs_active.query('event_name == \"MainScreenAppear\"')['user_id'].unique())\n",
    "\n",
    "# смотрим кто из них дошел до экрана с предложениями\n",
    "OffersScreenAppear_user_id = (list(logs_active\n",
    "        .query('event_name == \"OffersScreenAppear\" and user_id in @MainScreenAppear_user_id')['user_id'].unique()))\n",
    "\n",
    "# выводим их количество\n",
    "print(f'{len(MainScreenAppear_user_id)} пользователей перешло на главный экран')\n",
    "print(f'{len(OffersScreenAppear_user_id)} из них перешли на экран с предложениями')"
   ]
  },
  {
   "cell_type": "code",
   "execution_count": 32,
   "metadata": {},
   "outputs": [
    {
     "data": {
      "text/plain": [
       "60.0"
      ]
     },
     "execution_count": 32,
     "metadata": {},
     "output_type": "execute_result"
    }
   ],
   "source": [
    "# считаем долю\n",
    "round(len(OffersScreenAppear_user_id) / len(MainScreenAppear_user_id), 2) * 100"
   ]
  },
  {
   "cell_type": "markdown",
   "metadata": {},
   "source": [
    "Таким образом, 60% из главного экрана перешли в экран на экран с предложениями"
   ]
  },
  {
   "cell_type": "code",
   "execution_count": 33,
   "metadata": {},
   "outputs": [
    {
     "name": "stdout",
     "output_type": "stream",
     "text": [
      "3580 пользователей перешли в корзину\n"
     ]
    }
   ],
   "source": [
    "# определяем, кто из экрана с предложениями перешёл в корзину\n",
    "CartScreenAppear_user_id = (list(logs_active\n",
    "         .query('event_name == \"CartScreenAppear\" and user_id in @OffersScreenAppear_user_id')['user_id'].unique()))\n",
    "print(f'{len(CartScreenAppear_user_id)} пользователей перешли в корзину')"
   ]
  },
  {
   "cell_type": "code",
   "execution_count": 34,
   "metadata": {},
   "outputs": [
    {
     "data": {
      "text/plain": [
       "80.0"
      ]
     },
     "execution_count": 34,
     "metadata": {},
     "output_type": "execute_result"
    }
   ],
   "source": [
    "# считаем долю\n",
    "round(len(CartScreenAppear_user_id) / len(OffersScreenAppear_user_id), 2) * 100"
   ]
  },
  {
   "cell_type": "markdown",
   "metadata": {},
   "source": [
    "80% пользователей из экрана с предложением перешли в корзину"
   ]
  },
  {
   "cell_type": "code",
   "execution_count": 35,
   "metadata": {},
   "outputs": [
    {
     "name": "stdout",
     "output_type": "stream",
     "text": [
      "3429 пользователей оплатили заказ\n"
     ]
    }
   ],
   "source": [
    "# определяем, кто из корзины перешёл к оплате\n",
    "PaymentScreenSuccessful_user_id = (list(logs_active\n",
    "    .query('event_name == \"PaymentScreenSuccessful\" and user_id in @CartScreenAppear_user_id')['user_id'].unique()))\n",
    "print(f'{len(PaymentScreenSuccessful_user_id)} пользователей оплатили заказ')"
   ]
  },
  {
   "cell_type": "code",
   "execution_count": 36,
   "metadata": {},
   "outputs": [
    {
     "data": {
      "text/plain": [
       "96.0"
      ]
     },
     "execution_count": 36,
     "metadata": {},
     "output_type": "execute_result"
    }
   ],
   "source": [
    "# считаем долю\n",
    "round(len(PaymentScreenSuccessful_user_id) / len(CartScreenAppear_user_id), 2) * 100"
   ]
  },
  {
   "cell_type": "markdown",
   "metadata": {},
   "source": [
    "96% пользователей, переходивших в корзину, оплатили заказ"
   ]
  },
  {
   "cell_type": "code",
   "execution_count": 37,
   "metadata": {},
   "outputs": [
    {
     "data": {
      "text/plain": [
       "46.0"
      ]
     },
     "execution_count": 37,
     "metadata": {},
     "output_type": "execute_result"
    }
   ],
   "source": [
    "# доля от первого события до оплаты\n",
    "round(len(PaymentScreenSuccessful_user_id) / len(MainScreenAppear_user_id), 2) * 100"
   ]
  },
  {
   "cell_type": "markdown",
   "metadata": {},
   "source": [
    "Таким образом:\n",
    "\n",
    "* Из 7419 пользователей, перешедших на главный экран, 4482 перешли на экран с предложениями (60%)\n",
    "* Из 4482 пользователей, перешедших на экран с предложениями, 3580 перешли в корзину (80%)\n",
    "* Из 3580 пользователей, перешедших в корзину, 3429 оплатили заказ (96%)\n",
    "\n",
    "Большинство пользователей теряются на шаге перехода к экрану с предложениями.\n",
    "\n",
    "От первого события до оплаты проходят 46% пользователей."
   ]
  },
  {
   "cell_type": "markdown",
   "metadata": {},
   "source": [
    "## Изучение результатов эксперимента"
   ]
  },
  {
   "cell_type": "markdown",
   "metadata": {},
   "source": [
    "### Проверка контрольных групп "
   ]
  },
  {
   "cell_type": "markdown",
   "metadata": {},
   "source": [
    "Посмотрим сколько теперь пользователей в каждой группе после всех предобработок"
   ]
  },
  {
   "cell_type": "code",
   "execution_count": 38,
   "metadata": {},
   "outputs": [
    {
     "data": {
      "text/plain": [
       "group\n",
       "246    2483\n",
       "247    2512\n",
       "248    2535\n",
       "Name: user_id, dtype: int64"
      ]
     },
     "execution_count": 38,
     "metadata": {},
     "output_type": "execute_result"
    }
   ],
   "source": [
    "logs_active.groupby('group')['user_id'].nunique()"
   ]
  },
  {
   "cell_type": "markdown",
   "metadata": {},
   "source": [
    "В группе 246 (А1) – 2483 пользователя, в группе 247 (A2) – 2512 и вгруппе 248 (B) – 2535."
   ]
  },
  {
   "cell_type": "markdown",
   "metadata": {},
   "source": [
    "Посмотрим, на сколько процентов отличается количество пользователей в группах. Сравним для этого наибольшее и наименьшее числа"
   ]
  },
  {
   "cell_type": "code",
   "execution_count": 39,
   "metadata": {},
   "outputs": [
    {
     "data": {
      "text/plain": [
       "2"
      ]
     },
     "execution_count": 39,
     "metadata": {},
     "output_type": "execute_result"
    }
   ],
   "source": [
    "round((1 - 2483/2535)*100)"
   ]
  },
  {
   "cell_type": "code",
   "execution_count": 40,
   "metadata": {},
   "outputs": [
    {
     "data": {
      "text/plain": [
       "2"
      ]
     },
     "execution_count": 40,
     "metadata": {},
     "output_type": "execute_result"
    }
   ],
   "source": [
    " round((1 - len(logs_active.query('group == 246')['user_id'].unique()) /\n",
    " len(logs_active.query('group == 248')['user_id'].unique())) * 100)"
   ]
  },
  {
   "cell_type": "markdown",
   "metadata": {},
   "source": [
    "Таким образом, относительная разница пользователей в группах не превышает 2%."
   ]
  },
  {
   "cell_type": "markdown",
   "metadata": {},
   "source": [
    "Проверим, находят ли статистическую значимость статистические критерии между выборками 246 и 247. Для этого проверим гипотезы о равенстве двух долей (Z-критерий).\n",
    "\n",
    "Будем сравнивавать следующие доли: m / n, где m – количество пользователей в группе, совершивших определенное событие, n – количество пользователей в группе.\n",
    "\n",
    "Z-критерий определяется следующей формулой:\n",
    "\n",
    "$$Z \\approx \\frac{P_1-P_2}{\\sqrt{P(1-P)(1/n_{1} + 1/n_{2})}},$$\n",
    "\n",
    "где $n_1$ и $n_2$ – размеры двух сравниваемых выборок (в нашем случае количество пользователей), $P_1$ и $P_2$ – пропорции, наблюдаемые в выборках, $P$ – пропорция в выборке, скомбинированной из двух наблюдаемых.\n",
    "\n",
    "Создадим отдельную функцию и вызовим её 4 раза (т. к. 4 события)."
   ]
  },
  {
   "cell_type": "code",
   "execution_count": 41,
   "metadata": {},
   "outputs": [],
   "source": [
    "# в последний параметр будем подавать группу, если рассматриваем объединённую контрольную группу\n",
    "def z_criteria(data, group_1, group_2, event, alpha, group_3):\n",
    "    \n",
    "    # задаём размеры групп\n",
    "    n1 = data.query('group == @group_1')['user_id'].nunique()\n",
    "    \n",
    "    if group_3 == 0:\n",
    "        n2 = data.query('group == @group_2')['user_id'].nunique()\n",
    "    else:\n",
    "        n2 = data.query('group == @group_2 or group == @group_3')['user_id'].nunique()\n",
    "    \n",
    "    # задаём количество пользователей по группам, совершивших событие event\n",
    "    m1 = data.query('group == @group_1 and event_name == @event')['user_id'].nunique()\n",
    "    \n",
    "    if group_3 == 0:\n",
    "        m2 = data.query('group == @group_2 and event_name == @event')['user_id'].nunique()\n",
    "    else:\n",
    "        m2 = data.query('(group == @group_2 or group == @group_3) and event_name == @event')['user_id'].nunique()\n",
    "    \n",
    "    # считаем пропорции\n",
    "    P1 = m1 / n1\n",
    "    P2 = m2 / n2\n",
    "    P = (m1 + m2) / (n1 + n2)\n",
    "    \n",
    "    # считаем z-value\n",
    "    z_value = (P1 - P2) / np.sqrt((P * (1-P) * (1/n1 + 1/n2)))\n",
    "    \n",
    "    # задаём нормальное распределение\n",
    "    distr = st.norm(0, 1)\n",
    "    \n",
    "    # считаем p-value\n",
    "    p_value = (1 - distr.cdf(abs(z_value))) * 2\n",
    "    \n",
    "    print(f'Событие: {event}')\n",
    "    print(f'p-value: {p_value}')\n",
    "    \n",
    "    if p_value < alpha:\n",
    "        print('Отвергаем нулевую гипотезу: между долями есть значимая разница')\n",
    "    else:\n",
    "        print('Не получилось отвергнуть нулевую гипотезу, нет оснований считать доли разными')"
   ]
  },
  {
   "cell_type": "markdown",
   "metadata": {},
   "source": [
    "Сформулируем гипотезы:\n",
    "\n",
    "**H0**: для события X между группами **нет** статистически значимых различий\n",
    "\n",
    "**H1**: для события X между группами **есть** статистически значимые различия\n",
    "\n",
    "где X – одно из четырёх событий ('MainScreenAppear', 'OffersScreenAppear', 'CartScreenAppear', 'PaymentScreenSuccessful')\n",
    "\n",
    "Проверяем!"
   ]
  },
  {
   "cell_type": "code",
   "execution_count": 42,
   "metadata": {},
   "outputs": [
    {
     "name": "stdout",
     "output_type": "stream",
     "text": [
      "Событие: MainScreenAppear\n",
      "p-value: 0.7526703436483038\n",
      "Не получилось отвергнуть нулевую гипотезу, нет оснований считать доли разными\n",
      "\n",
      "Событие: OffersScreenAppear\n",
      "p-value: 0.24786096925282264\n",
      "Не получилось отвергнуть нулевую гипотезу, нет оснований считать доли разными\n",
      "\n",
      "Событие: CartScreenAppear\n",
      "p-value: 0.22867643757335676\n",
      "Не получилось отвергнуть нулевую гипотезу, нет оснований считать доли разными\n",
      "\n",
      "Событие: PaymentScreenSuccessful\n",
      "p-value: 0.11446627829276612\n",
      "Не получилось отвергнуть нулевую гипотезу, нет оснований считать доли разными\n",
      "\n"
     ]
    }
   ],
   "source": [
    "for event_name in logs_active['event_name'].unique():\n",
    "    z_criteria(logs_active, 246, 247, event_name, 0.05, 0)\n",
    "    print()"
   ]
  },
  {
   "cell_type": "markdown",
   "metadata": {},
   "source": [
    "Таким образом, будем считать, что статистически значимых различий между контрольными группами 246 и 247 нет. Разбиение на группы работает корректно."
   ]
  },
  {
   "cell_type": "markdown",
   "metadata": {},
   "source": [
    "### Сравнение групп A с группой B"
   ]
  },
  {
   "cell_type": "code",
   "execution_count": 43,
   "metadata": {},
   "outputs": [
    {
     "name": "stdout",
     "output_type": "stream",
     "text": [
      "Событие: MainScreenAppear\n",
      "p-value: 0.3387114076159288\n",
      "Не получилось отвергнуть нулевую гипотезу, нет оснований считать доли разными\n",
      "\n",
      "Событие: OffersScreenAppear\n",
      "p-value: 0.21442476639710506\n",
      "Не получилось отвергнуть нулевую гипотезу, нет оснований считать доли разными\n",
      "\n",
      "Событие: CartScreenAppear\n",
      "p-value: 0.08067367598823139\n",
      "Не получилось отвергнуть нулевую гипотезу, нет оснований считать доли разными\n",
      "\n",
      "Событие: PaymentScreenSuccessful\n",
      "p-value: 0.21693033984516674\n",
      "Не получилось отвергнуть нулевую гипотезу, нет оснований считать доли разными\n",
      "\n"
     ]
    }
   ],
   "source": [
    "# сравнение групп 246 (A1) и 248 (B)\n",
    "for event_name in logs_active['event_name'].unique():\n",
    "    z_criteria(logs_active, 246, 248, event_name, 0.05, 0)\n",
    "    print()"
   ]
  },
  {
   "cell_type": "markdown",
   "metadata": {},
   "source": [
    "Между группами 246 и 248 статистически значимых различий нет."
   ]
  },
  {
   "cell_type": "code",
   "execution_count": 44,
   "metadata": {},
   "outputs": [
    {
     "name": "stdout",
     "output_type": "stream",
     "text": [
      "Событие: MainScreenAppear\n",
      "p-value: 0.5194964354051703\n",
      "Не получилось отвергнуть нулевую гипотезу, нет оснований считать доли разными\n",
      "\n",
      "Событие: OffersScreenAppear\n",
      "p-value: 0.9333751305879443\n",
      "Не получилось отвергнуть нулевую гипотезу, нет оснований считать доли разными\n",
      "\n",
      "Событие: CartScreenAppear\n",
      "p-value: 0.5878284605111943\n",
      "Не получилось отвергнуть нулевую гипотезу, нет оснований считать доли разными\n",
      "\n",
      "Событие: PaymentScreenSuccessful\n",
      "p-value: 0.7275718682261119\n",
      "Не получилось отвергнуть нулевую гипотезу, нет оснований считать доли разными\n",
      "\n"
     ]
    }
   ],
   "source": [
    "# сравнение групп 247 (A2) и 248 (B)\n",
    "for event_name in logs_active['event_name'].unique():\n",
    "    z_criteria(logs_active, 247, 248, event_name, 0.05, 0)\n",
    "    print()"
   ]
  },
  {
   "cell_type": "markdown",
   "metadata": {},
   "source": [
    "Между группами 247 и 248 статистически значимых различий нет."
   ]
  },
  {
   "cell_type": "code",
   "execution_count": 45,
   "metadata": {},
   "outputs": [
    {
     "name": "stdout",
     "output_type": "stream",
     "text": [
      "Событие: MainScreenAppear\n",
      "p-value: 0.3486684291093256\n",
      "Не получилось отвергнуть нулевую гипотезу, нет оснований считать доли разными\n",
      "\n",
      "Событие: OffersScreenAppear\n",
      "p-value: 0.44582745409482394\n",
      "Не получилось отвергнуть нулевую гипотезу, нет оснований считать доли разными\n",
      "\n",
      "Событие: CartScreenAppear\n",
      "p-value: 0.18683558686831558\n",
      "Не получилось отвергнуть нулевую гипотезу, нет оснований считать доли разными\n",
      "\n",
      "Событие: PaymentScreenSuccessful\n",
      "p-value: 0.6107918742187335\n",
      "Не получилось отвергнуть нулевую гипотезу, нет оснований считать доли разными\n",
      "\n"
     ]
    }
   ],
   "source": [
    "# cравнений объединённой группы (246 (A1) и 247 (A2)) и 248 (B)\n",
    "for event_name in logs_active['event_name'].unique():\n",
    "    z_criteria(logs_active, 248, 246, event_name, 0.05, 247)\n",
    "    print()"
   ]
  },
  {
   "cell_type": "markdown",
   "metadata": {},
   "source": [
    "Между объединёнными группами 246 с 247 и группой 248 статистически значимых различий нет."
   ]
  },
  {
   "cell_type": "markdown",
   "metadata": {},
   "source": [
    "**Вывод**: Изучение комбинаций всех групп по каждому событию позволяет заключить, что статистически значимых различий между группами нет. Следовательно, изменение шрифта не приводит к существенному изменению пользователей."
   ]
  },
  {
   "cell_type": "markdown",
   "metadata": {},
   "source": [
    "**Замечание**: Ответим на вопрос: почему не скорректировали уровень значимости (ведь происходит множественная проверка гипотез), и что будет, если скорректировать?\n",
    "\n",
    "**Ответ**: В данном случае, при $\\alpha = 0.05$ мы получили везде принятие нулевой гипотезы (p-value больше уровня значимости). Сделав коррекцию уровня значимости (например, методом Бонферрони), мы только уменьшим этот уровень значимости для каждого теста. Следовательно, p-value будет ещё гораздо больше, чем уровень значимости. Поэтому в данном случае ничего не изменится.\n"
   ]
  },
  {
   "cell_type": "markdown",
   "metadata": {},
   "source": [
    "По скольку было проведено n = 16 тестов, то, согласно поправке Бонферрони, необходимо задать уровень значимости\n",
    "\n",
    "$$\\alpha_{\\text{corr}}= \\frac{\\alpha}{n} = \\frac{0.05}{16} = 0.003125$$"
   ]
  },
  {
   "cell_type": "markdown",
   "metadata": {},
   "source": [
    "## Вывод "
   ]
  },
  {
   "cell_type": "markdown",
   "metadata": {},
   "source": [
    "1) На этапе первичной предобработки данных были выявлены 413 дубликатов, которые были устранены из дальнейшего исследования.\n",
    "\n",
    "2) В рассматриваемом датасете наблюдалось всего 5 событий:\n",
    "* переход пользователя на главный экран\n",
    "* переход пользователя на экран предложений;\n",
    "* переход в корзину;\n",
    "* оплата;\n",
    "* обучение.\n",
    "\n",
    "На все 5 событий приходилось 7551 уникальных пользователя, которые совершили 243713 события и состояли в одной из трёх групп – 246, 247 и 248. Небольшое преимущество по пользователям наблюдалось у 248 группы. Временной промежуток событий: с 2019-07-25 по 2019-08-07.\n",
    "\n",
    "3) Исследование динамики количества событий по дням показало, что до 2019-08-01 событий было крайне мало. Такие данные были приняты как неполные и удалены из исследования. \n",
    "\n",
    "4) Наиболее часто совершаемое событие – посещение главного экрана сайта. На него попадают (или переходят) 98% пользователей, 61% – переходят на экран с предложениями, 50% проходят в корзину, 47% совершают покупку и только 11% переходят на экран с обучением. Переход на обучение может происходить на любом из этапов жизни пользователя на сайте. Такое событие выбивается из последовательной цепочки. Поэтому такие события были исключены из рассмотрения.\n",
    "\n",
    "5) Расчёт доли пользователей, переходящих на следующий шаг воронки показал: \n",
    "* Из 7419 пользователей, перешедших на главный экран, 4482 перешли на экран с предложениями (60%);\n",
    "* Из 4482 пользователей, перешедших на экран с предложениями, 3580 перешли в корзину (80%);\n",
    "* Из 3580 пользователей, перешедших в корзину, 3429 оплатили заказ (96%).\n",
    "\n",
    "Большинство пользователей теряются на шаге перехода к экрану с предложениями. От первого события до оплаты проходят 46% пользователей.\n",
    "\n",
    "6) Перед проведением анализа A/B теста были проанализированы A группы. Было показано, что относительная разница пользователей в группах не превышает 2%. Чтобы понять, является ли эта разница статистически значимой, был проведён статистический тест (определён z-value). Сравнивая доли пользователей по событиям из разных групп, было выяснено, что статистически значимых отличий между группам 246 и 247 нет. Таким образом, разбиение на группы работает корректно.\n",
    "\n",
    "7) Изучение комбинаций всех групп (246 и 248, 247 и 248, 246+247 и 248) попарно по каждому событию показало, что статистически значимых различий между этими группами также не наблюдается. \n",
    "\n",
    "Следовательно, **изменение шрифта на сайте не приводит к статистически значимому изменению пользователей**. \n",
    "\n",
    "В рамках проведения статистических тестов уровень значимости задавался равным 5%. Следовательно, в 5% случаев можно ошибочно отклонить нулевую гипотезу, при условии, что она верна. Увеличив уровень статистической значимости до 10%, некоторые нулевые гипотезы оказались бы отвергнутыми, что означало бы о появлении разницы между группами. Например, событие \"переход в корзину\" в тесте сравнения групп 246 и 248 позволило бы заключить, что группы различаются. "
   ]
  }
 ],
 "metadata": {
  "ExecuteTimeLog": [
   {
    "duration": 1094,
    "start_time": "2024-07-12T19:16:52.468Z"
   },
   {
    "duration": 207,
    "start_time": "2024-07-12T19:16:53.563Z"
   },
   {
    "duration": 20,
    "start_time": "2024-07-12T19:16:53.771Z"
   },
   {
    "duration": 99,
    "start_time": "2024-07-12T19:16:53.793Z"
   },
   {
    "duration": 441,
    "start_time": "2024-07-12T19:16:53.893Z"
   },
   {
    "duration": 81,
    "start_time": "2024-07-12T19:16:54.336Z"
   },
   {
    "duration": 89,
    "start_time": "2024-07-12T19:16:54.419Z"
   },
   {
    "duration": 5,
    "start_time": "2024-07-12T19:16:54.510Z"
   },
   {
    "duration": 90,
    "start_time": "2024-07-12T19:16:54.516Z"
   },
   {
    "duration": 18,
    "start_time": "2024-07-12T19:16:54.608Z"
   },
   {
    "duration": 6,
    "start_time": "2024-07-12T19:16:54.628Z"
   },
   {
    "duration": 46,
    "start_time": "2024-07-12T19:16:54.636Z"
   },
   {
    "duration": 4,
    "start_time": "2024-07-12T19:16:54.683Z"
   },
   {
    "duration": 21,
    "start_time": "2024-07-12T19:16:54.688Z"
   },
   {
    "duration": 19,
    "start_time": "2024-07-12T19:16:54.711Z"
   },
   {
    "duration": 312,
    "start_time": "2024-07-12T19:16:54.732Z"
   },
   {
    "duration": 24,
    "start_time": "2024-07-12T19:16:55.045Z"
   },
   {
    "duration": 46,
    "start_time": "2024-07-12T19:16:55.071Z"
   },
   {
    "duration": 68,
    "start_time": "2024-07-12T19:16:55.119Z"
   },
   {
    "duration": 49,
    "start_time": "2024-07-12T19:16:55.189Z"
   },
   {
    "duration": 373,
    "start_time": "2024-07-12T19:16:55.240Z"
   },
   {
    "duration": 8,
    "start_time": "2024-07-12T19:16:55.615Z"
   },
   {
    "duration": 34,
    "start_time": "2024-07-12T19:16:55.625Z"
   },
   {
    "duration": 31,
    "start_time": "2024-07-12T19:16:55.661Z"
   },
   {
    "duration": 165,
    "start_time": "2024-07-12T19:16:55.694Z"
   },
   {
    "duration": 49,
    "start_time": "2024-07-12T19:16:55.860Z"
   },
   {
    "duration": 64,
    "start_time": "2024-07-12T19:16:55.911Z"
   },
   {
    "duration": 177,
    "start_time": "2024-07-12T19:16:55.978Z"
   },
   {
    "duration": 11,
    "start_time": "2024-07-12T19:16:56.157Z"
   },
   {
    "duration": 24,
    "start_time": "2024-07-12T19:16:56.170Z"
   },
   {
    "duration": 59,
    "start_time": "2024-07-12T19:16:56.196Z"
   },
   {
    "duration": 5,
    "start_time": "2024-07-12T19:16:56.257Z"
   },
   {
    "duration": 38,
    "start_time": "2024-07-12T19:16:56.264Z"
   },
   {
    "duration": 4,
    "start_time": "2024-07-12T19:16:56.304Z"
   },
   {
    "duration": 28,
    "start_time": "2024-07-12T19:16:56.310Z"
   },
   {
    "duration": 5,
    "start_time": "2024-07-12T19:16:56.339Z"
   },
   {
    "duration": 52,
    "start_time": "2024-07-12T19:16:56.345Z"
   },
   {
    "duration": 5,
    "start_time": "2024-07-12T19:16:56.399Z"
   },
   {
    "duration": 8,
    "start_time": "2024-07-12T19:16:56.405Z"
   },
   {
    "duration": 169,
    "start_time": "2024-07-12T19:16:56.414Z"
   },
   {
    "duration": 186,
    "start_time": "2024-07-12T19:16:56.585Z"
   },
   {
    "duration": 186,
    "start_time": "2024-07-12T19:16:56.773Z"
   },
   {
    "duration": 204,
    "start_time": "2024-07-12T19:16:56.961Z"
   },
   {
    "duration": 5,
    "start_time": "2024-07-12T19:59:12.341Z"
   },
   {
    "duration": 1134,
    "start_time": "2024-07-13T08:57:44.053Z"
   },
   {
    "duration": 765,
    "start_time": "2024-07-13T08:57:45.189Z"
   },
   {
    "duration": 17,
    "start_time": "2024-07-13T08:57:45.955Z"
   },
   {
    "duration": 75,
    "start_time": "2024-07-13T08:57:45.974Z"
   },
   {
    "duration": 425,
    "start_time": "2024-07-13T08:57:46.051Z"
   },
   {
    "duration": 79,
    "start_time": "2024-07-13T08:57:46.478Z"
   },
   {
    "duration": 94,
    "start_time": "2024-07-13T08:57:46.558Z"
   },
   {
    "duration": 5,
    "start_time": "2024-07-13T08:57:46.654Z"
   },
   {
    "duration": 86,
    "start_time": "2024-07-13T08:57:46.661Z"
   },
   {
    "duration": 18,
    "start_time": "2024-07-13T08:57:46.750Z"
   },
   {
    "duration": 7,
    "start_time": "2024-07-13T08:57:46.769Z"
   },
   {
    "duration": 43,
    "start_time": "2024-07-13T08:57:46.777Z"
   },
   {
    "duration": 3,
    "start_time": "2024-07-13T08:57:46.821Z"
   },
   {
    "duration": 17,
    "start_time": "2024-07-13T08:57:46.825Z"
   },
   {
    "duration": 15,
    "start_time": "2024-07-13T08:57:46.843Z"
   },
   {
    "duration": 285,
    "start_time": "2024-07-13T08:57:46.860Z"
   },
   {
    "duration": 14,
    "start_time": "2024-07-13T08:57:47.146Z"
   },
   {
    "duration": 33,
    "start_time": "2024-07-13T08:57:47.161Z"
   },
   {
    "duration": 24,
    "start_time": "2024-07-13T08:57:47.195Z"
   },
   {
    "duration": 36,
    "start_time": "2024-07-13T08:57:47.221Z"
   },
   {
    "duration": 318,
    "start_time": "2024-07-13T08:57:47.259Z"
   },
   {
    "duration": 8,
    "start_time": "2024-07-13T08:57:47.579Z"
   },
   {
    "duration": 29,
    "start_time": "2024-07-13T08:57:47.588Z"
   },
   {
    "duration": 30,
    "start_time": "2024-07-13T08:57:47.619Z"
   },
   {
    "duration": 154,
    "start_time": "2024-07-13T08:57:47.651Z"
   },
   {
    "duration": 52,
    "start_time": "2024-07-13T08:57:47.806Z"
   },
   {
    "duration": 19,
    "start_time": "2024-07-13T08:58:09.322Z"
   },
   {
    "duration": 27,
    "start_time": "2024-07-13T08:58:11.427Z"
   },
   {
    "duration": 133,
    "start_time": "2024-07-13T08:58:13.743Z"
   },
   {
    "duration": 55,
    "start_time": "2024-07-13T08:58:19.119Z"
   },
   {
    "duration": 46,
    "start_time": "2024-07-13T08:58:22.228Z"
   },
   {
    "duration": 52,
    "start_time": "2024-07-13T08:58:37.348Z"
   },
   {
    "duration": 50,
    "start_time": "2024-07-13T08:59:57.419Z"
   },
   {
    "duration": 164,
    "start_time": "2024-07-13T08:59:59.045Z"
   },
   {
    "duration": 11,
    "start_time": "2024-07-13T09:00:07.894Z"
   },
   {
    "duration": 16,
    "start_time": "2024-07-13T09:00:09.047Z"
   },
   {
    "duration": 38,
    "start_time": "2024-07-13T09:00:32.132Z"
   },
   {
    "duration": 4,
    "start_time": "2024-07-13T09:00:32.292Z"
   },
   {
    "duration": 20,
    "start_time": "2024-07-13T09:00:32.741Z"
   },
   {
    "duration": 4,
    "start_time": "2024-07-13T09:00:33.015Z"
   },
   {
    "duration": 18,
    "start_time": "2024-07-13T09:00:33.774Z"
   },
   {
    "duration": 4,
    "start_time": "2024-07-13T09:00:35.805Z"
   },
   {
    "duration": 56,
    "start_time": "2024-07-13T09:01:26.825Z"
   },
   {
    "duration": 4,
    "start_time": "2024-07-13T09:01:32.254Z"
   },
   {
    "duration": 8,
    "start_time": "2024-07-13T09:01:42.414Z"
   },
   {
    "duration": 3,
    "start_time": "2024-07-13T09:01:46.502Z"
   },
   {
    "duration": 27,
    "start_time": "2024-07-13T09:02:29.582Z"
   },
   {
    "duration": 103,
    "start_time": "2024-07-13T09:05:08.209Z"
   },
   {
    "duration": 11,
    "start_time": "2024-07-13T09:05:14.597Z"
   },
   {
    "duration": 11,
    "start_time": "2024-07-13T09:05:25.384Z"
   },
   {
    "duration": 18,
    "start_time": "2024-07-13T09:05:40.670Z"
   },
   {
    "duration": 18,
    "start_time": "2024-07-13T09:05:52.379Z"
   },
   {
    "duration": 18,
    "start_time": "2024-07-13T09:06:09.610Z"
   },
   {
    "duration": 18,
    "start_time": "2024-07-13T09:06:15.493Z"
   },
   {
    "duration": 23,
    "start_time": "2024-07-13T09:06:27.791Z"
   },
   {
    "duration": 52,
    "start_time": "2024-07-13T09:21:24.337Z"
   },
   {
    "duration": 157,
    "start_time": "2024-07-13T09:21:27.087Z"
   },
   {
    "duration": 161,
    "start_time": "2024-07-13T09:21:34.896Z"
   },
   {
    "duration": 158,
    "start_time": "2024-07-13T09:21:40.295Z"
   },
   {
    "duration": 185,
    "start_time": "2024-07-13T09:21:44.966Z"
   },
   {
    "duration": 3,
    "start_time": "2024-07-13T09:22:31.429Z"
   },
   {
    "duration": 3,
    "start_time": "2024-07-13T09:22:35.782Z"
   },
   {
    "duration": 3,
    "start_time": "2024-07-13T09:22:39.423Z"
   },
   {
    "duration": 3,
    "start_time": "2024-07-13T09:22:53.645Z"
   },
   {
    "duration": 3,
    "start_time": "2024-07-13T09:22:57.463Z"
   },
   {
    "duration": 164,
    "start_time": "2024-07-13T09:23:33.644Z"
   },
   {
    "duration": 171,
    "start_time": "2024-07-13T09:23:57.079Z"
   },
   {
    "duration": 168,
    "start_time": "2024-07-13T09:24:34.294Z"
   },
   {
    "duration": 3,
    "start_time": "2024-07-13T09:27:49.944Z"
   },
   {
    "duration": 1093,
    "start_time": "2024-07-13T09:29:40.576Z"
   },
   {
    "duration": 178,
    "start_time": "2024-07-13T09:29:41.670Z"
   },
   {
    "duration": 17,
    "start_time": "2024-07-13T09:29:41.850Z"
   },
   {
    "duration": 80,
    "start_time": "2024-07-13T09:29:41.869Z"
   },
   {
    "duration": 412,
    "start_time": "2024-07-13T09:29:41.950Z"
   },
   {
    "duration": 77,
    "start_time": "2024-07-13T09:29:42.364Z"
   },
   {
    "duration": 92,
    "start_time": "2024-07-13T09:29:42.443Z"
   },
   {
    "duration": 6,
    "start_time": "2024-07-13T09:29:42.537Z"
   },
   {
    "duration": 128,
    "start_time": "2024-07-13T09:29:42.545Z"
   },
   {
    "duration": 18,
    "start_time": "2024-07-13T09:29:42.675Z"
   },
   {
    "duration": 19,
    "start_time": "2024-07-13T09:29:42.695Z"
   },
   {
    "duration": 33,
    "start_time": "2024-07-13T09:29:42.716Z"
   },
   {
    "duration": 4,
    "start_time": "2024-07-13T09:29:42.750Z"
   },
   {
    "duration": 16,
    "start_time": "2024-07-13T09:29:42.755Z"
   },
   {
    "duration": 42,
    "start_time": "2024-07-13T09:29:42.772Z"
   },
   {
    "duration": 246,
    "start_time": "2024-07-13T09:29:42.816Z"
   },
   {
    "duration": 14,
    "start_time": "2024-07-13T09:29:43.063Z"
   },
   {
    "duration": 23,
    "start_time": "2024-07-13T09:29:43.078Z"
   },
   {
    "duration": 61,
    "start_time": "2024-07-13T09:29:43.103Z"
   },
   {
    "duration": 35,
    "start_time": "2024-07-13T09:29:43.165Z"
   },
   {
    "duration": 296,
    "start_time": "2024-07-13T09:29:43.202Z"
   },
   {
    "duration": 13,
    "start_time": "2024-07-13T09:29:43.500Z"
   },
   {
    "duration": 34,
    "start_time": "2024-07-13T09:29:43.514Z"
   },
   {
    "duration": 28,
    "start_time": "2024-07-13T09:29:43.549Z"
   },
   {
    "duration": 148,
    "start_time": "2024-07-13T09:29:43.578Z"
   },
   {
    "duration": 48,
    "start_time": "2024-07-13T09:29:43.727Z"
   },
   {
    "duration": 68,
    "start_time": "2024-07-13T09:29:43.777Z"
   },
   {
    "duration": 175,
    "start_time": "2024-07-13T09:29:43.848Z"
   },
   {
    "duration": 8,
    "start_time": "2024-07-13T09:29:44.025Z"
   },
   {
    "duration": 27,
    "start_time": "2024-07-13T09:29:44.034Z"
   },
   {
    "duration": 32,
    "start_time": "2024-07-13T09:29:44.062Z"
   },
   {
    "duration": 4,
    "start_time": "2024-07-13T09:29:44.095Z"
   },
   {
    "duration": 26,
    "start_time": "2024-07-13T09:29:44.100Z"
   },
   {
    "duration": 9,
    "start_time": "2024-07-13T09:29:44.128Z"
   },
   {
    "duration": 17,
    "start_time": "2024-07-13T09:29:44.138Z"
   },
   {
    "duration": 3,
    "start_time": "2024-07-13T09:29:44.157Z"
   },
   {
    "duration": 8,
    "start_time": "2024-07-13T09:29:44.161Z"
   },
   {
    "duration": 56,
    "start_time": "2024-07-13T09:29:44.170Z"
   },
   {
    "duration": 3,
    "start_time": "2024-07-13T09:29:44.227Z"
   },
   {
    "duration": 20,
    "start_time": "2024-07-13T09:29:44.231Z"
   },
   {
    "duration": 6,
    "start_time": "2024-07-13T09:29:44.252Z"
   },
   {
    "duration": 163,
    "start_time": "2024-07-13T09:29:44.259Z"
   },
   {
    "duration": 145,
    "start_time": "2024-07-13T09:29:44.424Z"
   },
   {
    "duration": 153,
    "start_time": "2024-07-13T09:29:44.571Z"
   },
   {
    "duration": 165,
    "start_time": "2024-07-13T09:29:44.726Z"
   },
   {
    "duration": 3,
    "start_time": "2024-07-13T09:29:44.892Z"
   },
   {
    "duration": 996,
    "start_time": "2024-07-13T10:04:15.796Z"
   },
   {
    "duration": 182,
    "start_time": "2024-07-13T10:04:16.793Z"
   },
   {
    "duration": 18,
    "start_time": "2024-07-13T10:04:16.977Z"
   },
   {
    "duration": 84,
    "start_time": "2024-07-13T10:04:16.997Z"
   },
   {
    "duration": 405,
    "start_time": "2024-07-13T10:04:17.082Z"
   },
   {
    "duration": 73,
    "start_time": "2024-07-13T10:04:17.489Z"
   },
   {
    "duration": 68,
    "start_time": "2024-07-13T10:04:17.564Z"
   },
   {
    "duration": 4,
    "start_time": "2024-07-13T10:04:17.634Z"
   },
   {
    "duration": 66,
    "start_time": "2024-07-13T10:04:17.657Z"
   },
   {
    "duration": 17,
    "start_time": "2024-07-13T10:04:17.726Z"
   },
   {
    "duration": 18,
    "start_time": "2024-07-13T10:04:17.744Z"
   },
   {
    "duration": 27,
    "start_time": "2024-07-13T10:04:17.763Z"
   },
   {
    "duration": 3,
    "start_time": "2024-07-13T10:04:17.792Z"
   },
   {
    "duration": 30,
    "start_time": "2024-07-13T10:04:17.797Z"
   },
   {
    "duration": 28,
    "start_time": "2024-07-13T10:04:17.829Z"
   },
   {
    "duration": 246,
    "start_time": "2024-07-13T10:04:17.859Z"
   },
   {
    "duration": 14,
    "start_time": "2024-07-13T10:04:18.106Z"
   },
   {
    "duration": 20,
    "start_time": "2024-07-13T10:04:18.121Z"
   },
   {
    "duration": 32,
    "start_time": "2024-07-13T10:04:18.142Z"
   },
   {
    "duration": 34,
    "start_time": "2024-07-13T10:04:18.175Z"
   },
   {
    "duration": 304,
    "start_time": "2024-07-13T10:04:18.211Z"
   },
   {
    "duration": 7,
    "start_time": "2024-07-13T10:04:18.516Z"
   },
   {
    "duration": 23,
    "start_time": "2024-07-13T10:04:18.524Z"
   },
   {
    "duration": 32,
    "start_time": "2024-07-13T10:04:18.548Z"
   },
   {
    "duration": 148,
    "start_time": "2024-07-13T10:04:18.581Z"
   },
   {
    "duration": 49,
    "start_time": "2024-07-13T10:04:18.730Z"
   },
   {
    "duration": 48,
    "start_time": "2024-07-13T10:04:18.780Z"
   },
   {
    "duration": 173,
    "start_time": "2024-07-13T10:04:18.831Z"
   },
   {
    "duration": 11,
    "start_time": "2024-07-13T10:04:19.005Z"
   },
   {
    "duration": 27,
    "start_time": "2024-07-13T10:04:19.017Z"
   },
   {
    "duration": 36,
    "start_time": "2024-07-13T10:04:19.045Z"
   },
   {
    "duration": 3,
    "start_time": "2024-07-13T10:04:19.082Z"
   },
   {
    "duration": 19,
    "start_time": "2024-07-13T10:04:19.086Z"
   },
   {
    "duration": 3,
    "start_time": "2024-07-13T10:04:19.107Z"
   },
   {
    "duration": 21,
    "start_time": "2024-07-13T10:04:19.111Z"
   },
   {
    "duration": 8,
    "start_time": "2024-07-13T10:04:19.134Z"
   },
   {
    "duration": 15,
    "start_time": "2024-07-13T10:04:19.144Z"
   },
   {
    "duration": 39,
    "start_time": "2024-07-13T10:04:19.161Z"
   },
   {
    "duration": 3,
    "start_time": "2024-07-13T10:04:19.202Z"
   },
   {
    "duration": 20,
    "start_time": "2024-07-13T10:04:19.206Z"
   },
   {
    "duration": 6,
    "start_time": "2024-07-13T10:04:19.227Z"
   },
   {
    "duration": 159,
    "start_time": "2024-07-13T10:04:19.234Z"
   },
   {
    "duration": 145,
    "start_time": "2024-07-13T10:04:19.394Z"
   },
   {
    "duration": 139,
    "start_time": "2024-07-13T10:04:19.541Z"
   },
   {
    "duration": 157,
    "start_time": "2024-07-13T10:04:19.681Z"
   },
   {
    "duration": 4,
    "start_time": "2024-07-13T10:04:19.839Z"
   }
  ],
  "kernelspec": {
   "display_name": "Python 3 (ipykernel)",
   "language": "python",
   "name": "python3"
  },
  "language_info": {
   "codemirror_mode": {
    "name": "ipython",
    "version": 3
   },
   "file_extension": ".py",
   "mimetype": "text/x-python",
   "name": "python",
   "nbconvert_exporter": "python",
   "pygments_lexer": "ipython3",
   "version": "3.9.18"
  },
  "toc": {
   "base_numbering": 1,
   "nav_menu": {},
   "number_sections": true,
   "sideBar": true,
   "skip_h1_title": true,
   "title_cell": "Содержание",
   "title_sidebar": "Contents",
   "toc_cell": true,
   "toc_position": {
    "height": "523.2px",
    "left": "50px",
    "top": "0px",
    "width": "393.4px"
   },
   "toc_section_display": true,
   "toc_window_display": true
  }
 },
 "nbformat": 4,
 "nbformat_minor": 2
}
