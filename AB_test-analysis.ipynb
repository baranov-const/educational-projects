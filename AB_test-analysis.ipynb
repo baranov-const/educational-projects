{
 "cells": [
  {
   "cell_type": "markdown",
   "id": "39f358b2",
   "metadata": {},
   "source": [
    "# Проверка гипотез для крупного интернет-магазина"
   ]
  },
  {
   "cell_type": "markdown",
   "id": "ce704d1e",
   "metadata": {},
   "source": [
    "**Цель исследования** – выяснить, изменился ли средний чек и среднее количество заказов на посетителя в крупном интернет-магазине по результатам A/B теста.\n",
    "\n",
    "\n",
    "**Задачи:**\n",
    "\n",
    "* Используя фреймворки ICE и RICE, приоритизировать выдвинутые гипотезы\n",
    "* Изучить кумулятивные выручки по группам в течение изучаемого периода в выборке;\n",
    "* Изучить средний чек в выборке;\n",
    "* Посчитать количество заказов на пользователя;\n",
    "* Исследовать выборку на аномалии;\n",
    "* Провести статистические тесты, позволяющие оценить эффективность реализуемой гипотезы."
   ]
  },
  {
   "cell_type": "markdown",
   "id": "f73dd5ea",
   "metadata": {
    "toc": true
   },
   "source": [
    "<h1>Содержание <span class=\"tocSkip\"></span></h1>\n",
    "<div class=\"toc\"><ul class=\"toc-item\"><li><span><a href=\"#Описание-данных\" data-toc-modified-id=\"Описание-данных-1\"><span class=\"toc-item-num\">1&nbsp;&nbsp;</span>Описание данных</a></span></li><li><span><a href=\"#Приоритизация-гипотез\" data-toc-modified-id=\"Приоритизация-гипотез-2\"><span class=\"toc-item-num\">2&nbsp;&nbsp;</span>Приоритизация гипотез</a></span><ul class=\"toc-item\"><li><span><a href=\"#Загрузка-гипотез-и-подготовка-их-к-анализу\" data-toc-modified-id=\"Загрузка-гипотез-и-подготовка-их-к-анализу-2.1\"><span class=\"toc-item-num\">2.1&nbsp;&nbsp;</span>Загрузка гипотез и подготовка их к анализу</a></span></li><li><span><a href=\"#Применения-фреймворка-ICE\" data-toc-modified-id=\"Применения-фреймворка-ICE-2.2\"><span class=\"toc-item-num\">2.2&nbsp;&nbsp;</span>Применения фреймворка ICE</a></span></li><li><span><a href=\"#Применения-фреймворка-RICE\" data-toc-modified-id=\"Применения-фреймворка-RICE-2.3\"><span class=\"toc-item-num\">2.3&nbsp;&nbsp;</span>Применения фреймворка RICE</a></span></li><li><span><a href=\"#Выводы\" data-toc-modified-id=\"Выводы-2.4\"><span class=\"toc-item-num\">2.4&nbsp;&nbsp;</span>Выводы</a></span></li></ul></li><li><span><a href=\"#Анализ-A/B-теста\" data-toc-modified-id=\"Анализ-A/B-теста-3\"><span class=\"toc-item-num\">3&nbsp;&nbsp;</span>Анализ A/B-теста</a></span><ul class=\"toc-item\"><li><span><a href=\"#Загрузка-и-предобработка-данных\" data-toc-modified-id=\"Загрузка-и-предобработка-данных-3.1\"><span class=\"toc-item-num\">3.1&nbsp;&nbsp;</span>Загрузка и предобработка данных</a></span><ul class=\"toc-item\"><li><span><a href=\"#Загрузка-данных\" data-toc-modified-id=\"Загрузка-данных-3.1.1\"><span class=\"toc-item-num\">3.1.1&nbsp;&nbsp;</span>Загрузка данных</a></span></li><li><span><a href=\"#Изучение-и-предобработка-таблицы-с-заказами\" data-toc-modified-id=\"Изучение-и-предобработка-таблицы-с-заказами-3.1.2\"><span class=\"toc-item-num\">3.1.2&nbsp;&nbsp;</span>Изучение и предобработка таблицы с заказами</a></span></li><li><span><a href=\"#Изучение-и-предобработка-таблицы-с-пользователями\" data-toc-modified-id=\"Изучение-и-предобработка-таблицы-с-пользователями-3.1.3\"><span class=\"toc-item-num\">3.1.3&nbsp;&nbsp;</span>Изучение и предобработка таблицы с пользователями</a></span></li></ul></li><li><span><a href=\"#Построение-графика-кумулятивной-выручки-по-группам\" data-toc-modified-id=\"Построение-графика-кумулятивной-выручки-по-группам-3.2\"><span class=\"toc-item-num\">3.2&nbsp;&nbsp;</span>Построение графика кумулятивной выручки по группам</a></span></li><li><span><a href=\"#Построение-графика-кумулятивного-среднего-чека-по-группам\" data-toc-modified-id=\"Построение-графика-кумулятивного-среднего-чека-по-группам-3.3\"><span class=\"toc-item-num\">3.3&nbsp;&nbsp;</span>Построение графика кумулятивного среднего чека по группам</a></span></li><li><span><a href=\"#Построение-графика-относительного-изменения-кумулятивного-среднего-чека-группы-B-к-A\" data-toc-modified-id=\"Построение-графика-относительного-изменения-кумулятивного-среднего-чека-группы-B-к-A-3.4\"><span class=\"toc-item-num\">3.4&nbsp;&nbsp;</span>Построение графика относительного изменения кумулятивного среднего чека группы B к A</a></span></li><li><span><a href=\"#Построение-графика-кумулятивного-среднего-количества-заказов-по-посетителям-по-группам\" data-toc-modified-id=\"Построение-графика-кумулятивного-среднего-количества-заказов-по-посетителям-по-группам-3.5\"><span class=\"toc-item-num\">3.5&nbsp;&nbsp;</span>Построение графика кумулятивного среднего количества заказов по посетителям по группам</a></span></li><li><span><a href=\"#Построение-графика-относительного-изменения-кумулятивного-среднего-количества-заказов-на-посетителя-группы-B-к-группе-A\" data-toc-modified-id=\"Построение-графика-относительного-изменения-кумулятивного-среднего-количества-заказов-на-посетителя-группы-B-к-группе-A-3.6\"><span class=\"toc-item-num\">3.6&nbsp;&nbsp;</span>Построение графика относительного изменения кумулятивного среднего количества заказов на посетителя группы B к группе A</a></span></li><li><span><a href=\"#Построение-точечного-графика-количества-заказов-по-пользователям\" data-toc-modified-id=\"Построение-точечного-графика-количества-заказов-по-пользователям-3.7\"><span class=\"toc-item-num\">3.7&nbsp;&nbsp;</span>Построение точечного графика количества заказов по пользователям</a></span></li><li><span><a href=\"#Расчёт-95-ого-и-99-ого-процентилей-количества-заказов-на-пользователя\" data-toc-modified-id=\"Расчёт-95-ого-и-99-ого-процентилей-количества-заказов-на-пользователя-3.8\"><span class=\"toc-item-num\">3.8&nbsp;&nbsp;</span>Расчёт 95-ого и 99-ого процентилей количества заказов на пользователя</a></span></li><li><span><a href=\"#Построение-точечного-графика-стоимостей-заказов\" data-toc-modified-id=\"Построение-точечного-графика-стоимостей-заказов-3.9\"><span class=\"toc-item-num\">3.9&nbsp;&nbsp;</span>Построение точечного графика стоимостей заказов</a></span></li><li><span><a href=\"#Расчёт-95-ого-и-99-ого-процентилей-стоимости-заказов\" data-toc-modified-id=\"Расчёт-95-ого-и-99-ого-процентилей-стоимости-заказов-3.10\"><span class=\"toc-item-num\">3.10&nbsp;&nbsp;</span>Расчёт 95-ого и 99-ого процентилей стоимости заказов</a></span></li><li><span><a href=\"#Расчёт-статистической-значимости-различий-в-среднем-количестве-заказов-по-посетителям-между-группами-по-«сырым»-данным\" data-toc-modified-id=\"Расчёт-статистической-значимости-различий-в-среднем-количестве-заказов-по-посетителям-между-группами-по-«сырым»-данным-3.11\"><span class=\"toc-item-num\">3.11&nbsp;&nbsp;</span>Расчёт статистической значимости различий в среднем количестве заказов по посетителям между группами по «сырым» данным</a></span></li><li><span><a href=\"#Расчёт-статистической-значимости-различий-в-среднем-чеке-заказа-между-группами-по-«сырым»-данным\" data-toc-modified-id=\"Расчёт-статистической-значимости-различий-в-среднем-чеке-заказа-между-группами-по-«сырым»-данным-3.12\"><span class=\"toc-item-num\">3.12&nbsp;&nbsp;</span>Расчёт статистической значимости различий в среднем чеке заказа между группами по «сырым» данным</a></span></li><li><span><a href=\"#Расчёт-статистической-значимости-различий-в-среднем-количестве-заказов-по-посетителям-между-группами-по-«очищенным»-данным\" data-toc-modified-id=\"Расчёт-статистической-значимости-различий-в-среднем-количестве-заказов-по-посетителям-между-группами-по-«очищенным»-данным-3.13\"><span class=\"toc-item-num\">3.13&nbsp;&nbsp;</span>Расчёт статистической значимости различий в среднем количестве заказов по посетителям между группами по «очищенным» данным</a></span></li><li><span><a href=\"#Расчёт-статистической-значимости-различий-в-среднем-чеке-заказа-между-группами-по-«очищенным»-данным\" data-toc-modified-id=\"Расчёт-статистической-значимости-различий-в-среднем-чеке-заказа-между-группами-по-«очищенным»-данным-3.14\"><span class=\"toc-item-num\">3.14&nbsp;&nbsp;</span>Расчёт статистической значимости различий в среднем чеке заказа между группами по «очищенным» данным</a></span></li></ul></li><li><span><a href=\"#Выводы-и-решение-по-результатам-теста\" data-toc-modified-id=\"Выводы-и-решение-по-результатам-теста-4\"><span class=\"toc-item-num\">4&nbsp;&nbsp;</span>Выводы и решение по результатам теста</a></span></li></ul></div>"
   ]
  },
  {
   "cell_type": "markdown",
   "id": "2bfd5a36",
   "metadata": {},
   "source": [
    "## Описание данных"
   ]
  },
  {
   "cell_type": "markdown",
   "id": "6360cf70",
   "metadata": {},
   "source": [
    "Для приоритезации гипотез представлен датасет `hypothesis`:\n",
    "\n",
    "* `Hypothesis` — краткое описание гипотезы;\n",
    "* `Reach` — охват пользователей по 10-балльной шкале;\n",
    "* `Impact` — влияние на пользователей по 10-балльной шкале;\n",
    "* `Confidence` — уверенность в гипотезе по 10-балльной шкале;\n",
    "* `Efforts` — затраты ресурсов на проверку гипотезы по 10-балльной шкале.\n",
    "\n",
    "Результаты A/B тестов находятся в таблицах `orders`:\n",
    "\n",
    "* `transactionId` — идентификатор заказа;\n",
    "* `visitorId` — идентификатор пользователя, совершившего заказ;\n",
    "* `date` — дата, когда был совершён заказ;\n",
    "* `revenue` — выручка заказа;\n",
    "* `group` — группа A/B-теста, в которую попал заказ.\n",
    "\n",
    "и `visitors`:\n",
    "\n",
    "* `date` — дата;\n",
    "* `group` — группа A/B-теста;\n",
    "* `visitors` — количество пользователей в указанную дату в указанной группе A/B-теста\n"
   ]
  },
  {
   "cell_type": "code",
   "execution_count": 1,
   "id": "0476f0fe",
   "metadata": {},
   "outputs": [],
   "source": [
    "# ипортируем библиотеки\n",
    "import pandas as pd\n",
    "import numpy as np\n",
    "import matplotlib.pyplot as plt\n",
    "import datetime as dt\n",
    "import seaborn as sns\n",
    "import scipy.stats as stats"
   ]
  },
  {
   "cell_type": "markdown",
   "id": "22a67068",
   "metadata": {},
   "source": [
    "## Приоритизация гипотез"
   ]
  },
  {
   "cell_type": "markdown",
   "id": "43249583",
   "metadata": {},
   "source": [
    "###  Загрузка гипотез и подготовка их к анализу"
   ]
  },
  {
   "cell_type": "code",
   "execution_count": 2,
   "id": "84e5bdcb",
   "metadata": {},
   "outputs": [
    {
     "data": {
      "text/html": [
       "<div>\n",
       "<style scoped>\n",
       "    .dataframe tbody tr th:only-of-type {\n",
       "        vertical-align: middle;\n",
       "    }\n",
       "\n",
       "    .dataframe tbody tr th {\n",
       "        vertical-align: top;\n",
       "    }\n",
       "\n",
       "    .dataframe thead th {\n",
       "        text-align: right;\n",
       "    }\n",
       "</style>\n",
       "<table border=\"1\" class=\"dataframe\">\n",
       "  <thead>\n",
       "    <tr style=\"text-align: right;\">\n",
       "      <th></th>\n",
       "      <th>Hypothesis</th>\n",
       "      <th>Reach</th>\n",
       "      <th>Impact</th>\n",
       "      <th>Confidence</th>\n",
       "      <th>Efforts</th>\n",
       "    </tr>\n",
       "  </thead>\n",
       "  <tbody>\n",
       "    <tr>\n",
       "      <th>0</th>\n",
       "      <td>Добавить два новых канала привлечения трафика, что позволит привлекать на 30% больше пользователей</td>\n",
       "      <td>3</td>\n",
       "      <td>10</td>\n",
       "      <td>8</td>\n",
       "      <td>6</td>\n",
       "    </tr>\n",
       "    <tr>\n",
       "      <th>1</th>\n",
       "      <td>Запустить собственную службу доставки, что сократит срок доставки заказов</td>\n",
       "      <td>2</td>\n",
       "      <td>5</td>\n",
       "      <td>4</td>\n",
       "      <td>10</td>\n",
       "    </tr>\n",
       "    <tr>\n",
       "      <th>2</th>\n",
       "      <td>Добавить блоки рекомендаций товаров на сайт интернет магазина, чтобы повысить конверсию и средний чек заказа</td>\n",
       "      <td>8</td>\n",
       "      <td>3</td>\n",
       "      <td>7</td>\n",
       "      <td>3</td>\n",
       "    </tr>\n",
       "    <tr>\n",
       "      <th>3</th>\n",
       "      <td>Изменить структура категорий, что увеличит конверсию, т.к. пользователи быстрее найдут нужный товар</td>\n",
       "      <td>8</td>\n",
       "      <td>3</td>\n",
       "      <td>3</td>\n",
       "      <td>8</td>\n",
       "    </tr>\n",
       "    <tr>\n",
       "      <th>4</th>\n",
       "      <td>Изменить цвет фона главной страницы, чтобы увеличить вовлеченность пользователей</td>\n",
       "      <td>3</td>\n",
       "      <td>1</td>\n",
       "      <td>1</td>\n",
       "      <td>1</td>\n",
       "    </tr>\n",
       "    <tr>\n",
       "      <th>5</th>\n",
       "      <td>Добавить страницу отзывов клиентов о магазине, что позволит увеличить количество заказов</td>\n",
       "      <td>3</td>\n",
       "      <td>2</td>\n",
       "      <td>2</td>\n",
       "      <td>3</td>\n",
       "    </tr>\n",
       "    <tr>\n",
       "      <th>6</th>\n",
       "      <td>Показать на главной странице баннеры с актуальными акциями и распродажами, чтобы увеличить конверсию</td>\n",
       "      <td>5</td>\n",
       "      <td>3</td>\n",
       "      <td>8</td>\n",
       "      <td>3</td>\n",
       "    </tr>\n",
       "    <tr>\n",
       "      <th>7</th>\n",
       "      <td>Добавить форму подписки на все основные страницы, чтобы собрать базу клиентов для email-рассылок</td>\n",
       "      <td>10</td>\n",
       "      <td>7</td>\n",
       "      <td>8</td>\n",
       "      <td>5</td>\n",
       "    </tr>\n",
       "    <tr>\n",
       "      <th>8</th>\n",
       "      <td>Запустить акцию, дающую скидку на товар в день рождения</td>\n",
       "      <td>1</td>\n",
       "      <td>9</td>\n",
       "      <td>9</td>\n",
       "      <td>5</td>\n",
       "    </tr>\n",
       "  </tbody>\n",
       "</table>\n",
       "</div>"
      ],
      "text/plain": [
       "                                                                                                     Hypothesis  \\\n",
       "0            Добавить два новых канала привлечения трафика, что позволит привлекать на 30% больше пользователей   \n",
       "1                                     Запустить собственную службу доставки, что сократит срок доставки заказов   \n",
       "2  Добавить блоки рекомендаций товаров на сайт интернет магазина, чтобы повысить конверсию и средний чек заказа   \n",
       "3           Изменить структура категорий, что увеличит конверсию, т.к. пользователи быстрее найдут нужный товар   \n",
       "4                              Изменить цвет фона главной страницы, чтобы увеличить вовлеченность пользователей   \n",
       "5                      Добавить страницу отзывов клиентов о магазине, что позволит увеличить количество заказов   \n",
       "6          Показать на главной странице баннеры с актуальными акциями и распродажами, чтобы увеличить конверсию   \n",
       "7              Добавить форму подписки на все основные страницы, чтобы собрать базу клиентов для email-рассылок   \n",
       "8                                                       Запустить акцию, дающую скидку на товар в день рождения   \n",
       "\n",
       "   Reach  Impact  Confidence  Efforts  \n",
       "0      3      10           8        6  \n",
       "1      2       5           4       10  \n",
       "2      8       3           7        3  \n",
       "3      8       3           3        8  \n",
       "4      3       1           1        1  \n",
       "5      3       2           2        3  \n",
       "6      5       3           8        3  \n",
       "7     10       7           8        5  \n",
       "8      1       9           9        5  "
      ]
     },
     "execution_count": 2,
     "metadata": {},
     "output_type": "execute_result"
    }
   ],
   "source": [
    "# читаем файл\n",
    "try:\n",
    "    hypothesis = pd.read_csv(r\"C:\\Users\\baran\\data analysis\\datasets\\hypothesis.csv\")\n",
    "except:\n",
    "    hypothesis = pd.read_csv('/datasets/hypothesis.csv')\n",
    "\n",
    "pd.options.display.max_colwidth = 120\n",
    "hypothesis.head(10)"
   ]
  },
  {
   "cell_type": "code",
   "execution_count": 3,
   "id": "fb9b27e0",
   "metadata": {},
   "outputs": [
    {
     "name": "stdout",
     "output_type": "stream",
     "text": [
      "<class 'pandas.core.frame.DataFrame'>\n",
      "RangeIndex: 9 entries, 0 to 8\n",
      "Data columns (total 5 columns):\n",
      " #   Column      Non-Null Count  Dtype \n",
      "---  ------      --------------  ----- \n",
      " 0   Hypothesis  9 non-null      object\n",
      " 1   Reach       9 non-null      int64 \n",
      " 2   Impact      9 non-null      int64 \n",
      " 3   Confidence  9 non-null      int64 \n",
      " 4   Efforts     9 non-null      int64 \n",
      "dtypes: int64(4), object(1)\n",
      "memory usage: 488.0+ bytes\n"
     ]
    }
   ],
   "source": [
    "# изучим общую информацию\n",
    "hypothesis.info()"
   ]
  },
  {
   "cell_type": "markdown",
   "id": "3047b9f5",
   "metadata": {},
   "source": [
    "**Итого:** имеем 9 гипотез, к каждой из которых 4 параметра:\n",
    "\n",
    "* `Hypothesis` — краткое описание гипотезы;\n",
    "* `Reach` — охват пользователей по 10-балльной шкале;\n",
    "* `Impact` — влияние на пользователей по 10-балльной шкале;\n",
    "* `Confidence` — уверенность в гипотезе по 10-балльной шкале;\n",
    "* `Efforts` — затраты ресурсов на проверку гипотезы по 10-балльной шкале. Чем больше значение Efforts, тем дороже проверка гипотезы."
   ]
  },
  {
   "cell_type": "code",
   "execution_count": 4,
   "id": "6620c758",
   "metadata": {},
   "outputs": [],
   "source": [
    "# приведём название столбцов к нижнему регистру\n",
    "hypothesis.columns = hypothesis.columns.str.lower()"
   ]
  },
  {
   "cell_type": "code",
   "execution_count": 5,
   "id": "a9fddd14",
   "metadata": {},
   "outputs": [
    {
     "name": "stdout",
     "output_type": "stream",
     "text": [
      "0. Добавить два новых канала привлечения трафика, что позволит привлекать на 30% больше пользователей\n",
      "1. Запустить собственную службу доставки, что сократит срок доставки заказов\n",
      "2. Добавить блоки рекомендаций товаров на сайт интернет магазина, чтобы повысить конверсию и средний чек заказа\n",
      "3. Изменить структура категорий, что увеличит конверсию, т.к. пользователи быстрее найдут нужный товар\n",
      "4. Изменить цвет фона главной страницы, чтобы увеличить вовлеченность пользователей\n",
      "5. Добавить страницу отзывов клиентов о магазине, что позволит увеличить количество заказов\n",
      "6. Показать на главной странице баннеры с актуальными акциями и распродажами, чтобы увеличить конверсию\n",
      "7. Добавить форму подписки на все основные страницы, чтобы собрать базу клиентов для email-рассылок\n",
      "8. Запустить акцию, дающую скидку на товар в день рождения\n"
     ]
    }
   ],
   "source": [
    "# взглянем на описания гипотез\n",
    "for index, value in hypothesis['hypothesis'].iteritems():\n",
    "    print(f'{index}. {value}')"
   ]
  },
  {
   "cell_type": "markdown",
   "id": "631e3159",
   "metadata": {},
   "source": [
    "### Применения фреймворка ICE"
   ]
  },
  {
   "cell_type": "markdown",
   "id": "0521d3f7",
   "metadata": {},
   "source": [
    "Чтобы приоритизировать гипотезы методом **ICE**, воспользуемся следующей формулой:\n",
    "\n",
    "$$\\text{ICE} = \\frac{\\text{impact}\\cdot\\text{confidence}}{\\text{efforts}}$$"
   ]
  },
  {
   "cell_type": "code",
   "execution_count": 6,
   "id": "dc924d12",
   "metadata": {},
   "outputs": [
    {
     "data": {
      "text/html": [
       "<style  type=\"text/css\" >\n",
       "</style><table id=\"T_5975c_\" ><thead>    <tr>        <th class=\"blank level0\" ></th>        <th class=\"col_heading level0 col0\" >hypothesis</th>        <th class=\"col_heading level0 col1\" >ICE</th>    </tr></thead><tbody>\n",
       "                <tr>\n",
       "                        <th id=\"T_5975c_level0_row0\" class=\"row_heading level0 row0\" >8</th>\n",
       "                        <td id=\"T_5975c_row0_col0\" class=\"data row0 col0\" >Запустить акцию, дающую скидку на товар в день рождения</td>\n",
       "                        <td id=\"T_5975c_row0_col1\" class=\"data row0 col1\" >10.00</td>\n",
       "            </tr>\n",
       "            <tr>\n",
       "                        <th id=\"T_5975c_level0_row1\" class=\"row_heading level0 row1\" >0</th>\n",
       "                        <td id=\"T_5975c_row1_col0\" class=\"data row1 col0\" >Добавить два новых канала привлечения трафика, что позволит привлекать на 30% больше пользователей</td>\n",
       "                        <td id=\"T_5975c_row1_col1\" class=\"data row1 col1\" >8.23</td>\n",
       "            </tr>\n",
       "            <tr>\n",
       "                        <th id=\"T_5975c_level0_row2\" class=\"row_heading level0 row2\" >7</th>\n",
       "                        <td id=\"T_5975c_row2_col0\" class=\"data row2 col0\" >Добавить форму подписки на все основные страницы, чтобы собрать базу клиентов для email-рассылок</td>\n",
       "                        <td id=\"T_5975c_row2_col1\" class=\"data row2 col1\" >6.91</td>\n",
       "            </tr>\n",
       "            <tr>\n",
       "                        <th id=\"T_5975c_level0_row3\" class=\"row_heading level0 row3\" >6</th>\n",
       "                        <td id=\"T_5975c_row3_col0\" class=\"data row3 col0\" >Показать на главной странице баннеры с актуальными акциями и распродажами, чтобы увеличить конверсию</td>\n",
       "                        <td id=\"T_5975c_row3_col1\" class=\"data row3 col1\" >4.94</td>\n",
       "            </tr>\n",
       "            <tr>\n",
       "                        <th id=\"T_5975c_level0_row4\" class=\"row_heading level0 row4\" >2</th>\n",
       "                        <td id=\"T_5975c_row4_col0\" class=\"data row4 col0\" >Добавить блоки рекомендаций товаров на сайт интернет магазина, чтобы повысить конверсию и средний чек заказа</td>\n",
       "                        <td id=\"T_5975c_row4_col1\" class=\"data row4 col1\" >4.32</td>\n",
       "            </tr>\n",
       "            <tr>\n",
       "                        <th id=\"T_5975c_level0_row5\" class=\"row_heading level0 row5\" >1</th>\n",
       "                        <td id=\"T_5975c_row5_col0\" class=\"data row5 col0\" >Запустить собственную службу доставки, что сократит срок доставки заказов</td>\n",
       "                        <td id=\"T_5975c_row5_col1\" class=\"data row5 col1\" >1.23</td>\n",
       "            </tr>\n",
       "            <tr>\n",
       "                        <th id=\"T_5975c_level0_row6\" class=\"row_heading level0 row6\" >5</th>\n",
       "                        <td id=\"T_5975c_row6_col0\" class=\"data row6 col0\" >Добавить страницу отзывов клиентов о магазине, что позволит увеличить количество заказов</td>\n",
       "                        <td id=\"T_5975c_row6_col1\" class=\"data row6 col1\" >0.82</td>\n",
       "            </tr>\n",
       "            <tr>\n",
       "                        <th id=\"T_5975c_level0_row7\" class=\"row_heading level0 row7\" >3</th>\n",
       "                        <td id=\"T_5975c_row7_col0\" class=\"data row7 col0\" >Изменить структура категорий, что увеличит конверсию, т.к. пользователи быстрее найдут нужный товар</td>\n",
       "                        <td id=\"T_5975c_row7_col1\" class=\"data row7 col1\" >0.69</td>\n",
       "            </tr>\n",
       "            <tr>\n",
       "                        <th id=\"T_5975c_level0_row8\" class=\"row_heading level0 row8\" >4</th>\n",
       "                        <td id=\"T_5975c_row8_col0\" class=\"data row8 col0\" >Изменить цвет фона главной страницы, чтобы увеличить вовлеченность пользователей</td>\n",
       "                        <td id=\"T_5975c_row8_col1\" class=\"data row8 col1\" >0.62</td>\n",
       "            </tr>\n",
       "    </tbody></table>"
      ],
      "text/plain": [
       "<pandas.io.formats.style.Styler at 0x7f32aa10d9d0>"
      ]
     },
     "execution_count": 6,
     "metadata": {},
     "output_type": "execute_result"
    }
   ],
   "source": [
    "# создаем столбец и считаем ICE для каждой гипотезы\n",
    "hypothesis['ICE'] = hypothesis['impact'] * hypothesis['confidence'] / hypothesis['efforts']\n",
    "\n",
    "# отнормируем все значения RICE, чтобы получить шкалу от 0 до 10\n",
    "hypothesis['ICE'] = 10 * hypothesis['ICE'] / (hypothesis['ICE'].max())\n",
    "\n",
    "(hypothesis[['hypothesis', 'ICE']].sort_values(by='ICE', ascending=False)\n",
    "                                  .style.format({'ICE':'{:,.2f}'}))"
   ]
  },
  {
   "cell_type": "markdown",
   "id": "49352148",
   "metadata": {},
   "source": [
    "### Применения фреймворка RICE"
   ]
  },
  {
   "cell_type": "markdown",
   "id": "ddfddd56",
   "metadata": {},
   "source": [
    "Чтобы приоритизировать гипотезы методом **RICE**, воспользуемся следующей формулой:\n",
    "\n",
    "$$\\text{RICE} = \\frac{\\text{reach}\\cdot\\text{impact}\\cdot\\text{confidence}}{\\text{efforts}}$$"
   ]
  },
  {
   "cell_type": "code",
   "execution_count": 7,
   "id": "e5101ef7",
   "metadata": {},
   "outputs": [
    {
     "data": {
      "text/html": [
       "<style  type=\"text/css\" >\n",
       "</style><table id=\"T_a076f_\" ><thead>    <tr>        <th class=\"blank level0\" ></th>        <th class=\"col_heading level0 col0\" >hypothesis</th>        <th class=\"col_heading level0 col1\" >RICE</th>    </tr></thead><tbody>\n",
       "                <tr>\n",
       "                        <th id=\"T_a076f_level0_row0\" class=\"row_heading level0 row0\" >7</th>\n",
       "                        <td id=\"T_a076f_row0_col0\" class=\"data row0 col0\" >Добавить форму подписки на все основные страницы, чтобы собрать базу клиентов для email-рассылок</td>\n",
       "                        <td id=\"T_a076f_row0_col1\" class=\"data row0 col1\" >10.00</td>\n",
       "            </tr>\n",
       "            <tr>\n",
       "                        <th id=\"T_a076f_level0_row1\" class=\"row_heading level0 row1\" >2</th>\n",
       "                        <td id=\"T_a076f_row1_col0\" class=\"data row1 col0\" >Добавить блоки рекомендаций товаров на сайт интернет магазина, чтобы повысить конверсию и средний чек заказа</td>\n",
       "                        <td id=\"T_a076f_row1_col1\" class=\"data row1 col1\" >5.00</td>\n",
       "            </tr>\n",
       "            <tr>\n",
       "                        <th id=\"T_a076f_level0_row2\" class=\"row_heading level0 row2\" >0</th>\n",
       "                        <td id=\"T_a076f_row2_col0\" class=\"data row2 col0\" >Добавить два новых канала привлечения трафика, что позволит привлекать на 30% больше пользователей</td>\n",
       "                        <td id=\"T_a076f_row2_col1\" class=\"data row2 col1\" >3.57</td>\n",
       "            </tr>\n",
       "            <tr>\n",
       "                        <th id=\"T_a076f_level0_row3\" class=\"row_heading level0 row3\" >6</th>\n",
       "                        <td id=\"T_a076f_row3_col0\" class=\"data row3 col0\" >Показать на главной странице баннеры с актуальными акциями и распродажами, чтобы увеличить конверсию</td>\n",
       "                        <td id=\"T_a076f_row3_col1\" class=\"data row3 col1\" >3.57</td>\n",
       "            </tr>\n",
       "            <tr>\n",
       "                        <th id=\"T_a076f_level0_row4\" class=\"row_heading level0 row4\" >8</th>\n",
       "                        <td id=\"T_a076f_row4_col0\" class=\"data row4 col0\" >Запустить акцию, дающую скидку на товар в день рождения</td>\n",
       "                        <td id=\"T_a076f_row4_col1\" class=\"data row4 col1\" >1.45</td>\n",
       "            </tr>\n",
       "            <tr>\n",
       "                        <th id=\"T_a076f_level0_row5\" class=\"row_heading level0 row5\" >3</th>\n",
       "                        <td id=\"T_a076f_row5_col0\" class=\"data row5 col0\" >Изменить структура категорий, что увеличит конверсию, т.к. пользователи быстрее найдут нужный товар</td>\n",
       "                        <td id=\"T_a076f_row5_col1\" class=\"data row5 col1\" >0.80</td>\n",
       "            </tr>\n",
       "            <tr>\n",
       "                        <th id=\"T_a076f_level0_row6\" class=\"row_heading level0 row6\" >1</th>\n",
       "                        <td id=\"T_a076f_row6_col0\" class=\"data row6 col0\" >Запустить собственную службу доставки, что сократит срок доставки заказов</td>\n",
       "                        <td id=\"T_a076f_row6_col1\" class=\"data row6 col1\" >0.36</td>\n",
       "            </tr>\n",
       "            <tr>\n",
       "                        <th id=\"T_a076f_level0_row7\" class=\"row_heading level0 row7\" >5</th>\n",
       "                        <td id=\"T_a076f_row7_col0\" class=\"data row7 col0\" >Добавить страницу отзывов клиентов о магазине, что позволит увеличить количество заказов</td>\n",
       "                        <td id=\"T_a076f_row7_col1\" class=\"data row7 col1\" >0.36</td>\n",
       "            </tr>\n",
       "            <tr>\n",
       "                        <th id=\"T_a076f_level0_row8\" class=\"row_heading level0 row8\" >4</th>\n",
       "                        <td id=\"T_a076f_row8_col0\" class=\"data row8 col0\" >Изменить цвет фона главной страницы, чтобы увеличить вовлеченность пользователей</td>\n",
       "                        <td id=\"T_a076f_row8_col1\" class=\"data row8 col1\" >0.27</td>\n",
       "            </tr>\n",
       "    </tbody></table>"
      ],
      "text/plain": [
       "<pandas.io.formats.style.Styler at 0x7f32a9f4dd00>"
      ]
     },
     "execution_count": 7,
     "metadata": {},
     "output_type": "execute_result"
    }
   ],
   "source": [
    "# создаем столбец и считаем RICE для каждой гипотезы\n",
    "hypothesis['RICE'] = hypothesis['reach'] * hypothesis['impact'] * hypothesis['confidence'] / hypothesis['efforts']\n",
    "\n",
    "# отнормируем все значения RICE, чтобы получить шкалу от 0 до 10\n",
    "hypothesis['RICE'] = 10 * hypothesis['RICE'] / (hypothesis['RICE'].max())\n",
    "\n",
    "(hypothesis[['hypothesis', 'RICE']].sort_values(by='RICE', ascending=False)\n",
    "                                  .style.format({'RICE':'{:,.2f}'}))"
   ]
  },
  {
   "cell_type": "markdown",
   "id": "8349d04e",
   "metadata": {},
   "source": [
    "### Выводы"
   ]
  },
  {
   "cell_type": "markdown",
   "id": "a97a28b5",
   "metadata": {},
   "source": [
    "Согласно **ICE SCORE**, ТОП-3 перспективных гипотез:\n",
    "* 8\tЗапустить акцию, дающую скидку на товар в день рождения\t\n",
    "* 0\tДобавить два новых канала привлечения трафика, что позволит привлекать на 30% больше пользователей\t\n",
    "* 7\tДобавить форму подписки на все основные страницы, чтобы собрать базу клиентов для email-рассылок\t\n",
    "\n",
    "Согласно **RICE SCORE**, ТОП-3 перспективных гипотез:\n",
    "\n",
    "* 7\tДобавить форму подписки на все основные страницы, чтобы собрать базу клиентов для email-рассылок\t\n",
    "* 2\tДобавить блоки рекомендаций товаров на сайт интернет магазина, чтобы повысить конверсию и средний чек заказа\n",
    "* 0\tДобавить два новых канала привлечения трафика, что позволит привлекать на 30% больше пользователей\n",
    "\n",
    "Как можно заметить, в ТОП-3 по ICE и RICE присутствуют гипотезы 7 и 0. \n",
    "\n",
    "В лидерах по **ICE score** гипотеза – 8 (Запустить акцию, дающую скидку на товар в день рождения). Такая гипотеза, действительно, может улучшить ключевые метрики бизнеса: она обладает большим impact, ведь скидка это всегда приятно, клиенты получат большое удовольствие. Однако эта метрика не учитывает охваты. Вряд ли введение такой акции выстроит толпы людей к продукту. \n",
    "\n",
    "Для учёта охватов был посчитан **RICE score**, на основании которого лидирует гипотеза 7. Имея базу клиентов, дополнительные рассылки могут побудить сделать больше заказов и, как итог, помочь бизнесу."
   ]
  },
  {
   "cell_type": "markdown",
   "id": "b54c10a9",
   "metadata": {},
   "source": [
    "## Анализ A/B-теста"
   ]
  },
  {
   "cell_type": "markdown",
   "id": "e77d26cd",
   "metadata": {},
   "source": [
    "###  Загрузка и предобработка данных"
   ]
  },
  {
   "cell_type": "markdown",
   "id": "979472cf",
   "metadata": {},
   "source": [
    "#### Загрузка данных"
   ]
  },
  {
   "cell_type": "code",
   "execution_count": 8,
   "id": "a1b6283f",
   "metadata": {},
   "outputs": [
    {
     "data": {
      "text/html": [
       "<div>\n",
       "<style scoped>\n",
       "    .dataframe tbody tr th:only-of-type {\n",
       "        vertical-align: middle;\n",
       "    }\n",
       "\n",
       "    .dataframe tbody tr th {\n",
       "        vertical-align: top;\n",
       "    }\n",
       "\n",
       "    .dataframe thead th {\n",
       "        text-align: right;\n",
       "    }\n",
       "</style>\n",
       "<table border=\"1\" class=\"dataframe\">\n",
       "  <thead>\n",
       "    <tr style=\"text-align: right;\">\n",
       "      <th></th>\n",
       "      <th>transactionId</th>\n",
       "      <th>visitorId</th>\n",
       "      <th>date</th>\n",
       "      <th>revenue</th>\n",
       "      <th>group</th>\n",
       "    </tr>\n",
       "  </thead>\n",
       "  <tbody>\n",
       "    <tr>\n",
       "      <th>0</th>\n",
       "      <td>3667963787</td>\n",
       "      <td>3312258926</td>\n",
       "      <td>2019-08-15</td>\n",
       "      <td>1650</td>\n",
       "      <td>B</td>\n",
       "    </tr>\n",
       "    <tr>\n",
       "      <th>1</th>\n",
       "      <td>2804400009</td>\n",
       "      <td>3642806036</td>\n",
       "      <td>2019-08-15</td>\n",
       "      <td>730</td>\n",
       "      <td>B</td>\n",
       "    </tr>\n",
       "    <tr>\n",
       "      <th>2</th>\n",
       "      <td>2961555356</td>\n",
       "      <td>4069496402</td>\n",
       "      <td>2019-08-15</td>\n",
       "      <td>400</td>\n",
       "      <td>A</td>\n",
       "    </tr>\n",
       "    <tr>\n",
       "      <th>3</th>\n",
       "      <td>3797467345</td>\n",
       "      <td>1196621759</td>\n",
       "      <td>2019-08-15</td>\n",
       "      <td>9759</td>\n",
       "      <td>B</td>\n",
       "    </tr>\n",
       "    <tr>\n",
       "      <th>4</th>\n",
       "      <td>2282983706</td>\n",
       "      <td>2322279887</td>\n",
       "      <td>2019-08-15</td>\n",
       "      <td>2308</td>\n",
       "      <td>B</td>\n",
       "    </tr>\n",
       "  </tbody>\n",
       "</table>\n",
       "</div>"
      ],
      "text/plain": [
       "   transactionId   visitorId        date  revenue group\n",
       "0     3667963787  3312258926  2019-08-15     1650     B\n",
       "1     2804400009  3642806036  2019-08-15      730     B\n",
       "2     2961555356  4069496402  2019-08-15      400     A\n",
       "3     3797467345  1196621759  2019-08-15     9759     B\n",
       "4     2282983706  2322279887  2019-08-15     2308     B"
      ]
     },
     "metadata": {},
     "output_type": "display_data"
    },
    {
     "data": {
      "text/html": [
       "<div>\n",
       "<style scoped>\n",
       "    .dataframe tbody tr th:only-of-type {\n",
       "        vertical-align: middle;\n",
       "    }\n",
       "\n",
       "    .dataframe tbody tr th {\n",
       "        vertical-align: top;\n",
       "    }\n",
       "\n",
       "    .dataframe thead th {\n",
       "        text-align: right;\n",
       "    }\n",
       "</style>\n",
       "<table border=\"1\" class=\"dataframe\">\n",
       "  <thead>\n",
       "    <tr style=\"text-align: right;\">\n",
       "      <th></th>\n",
       "      <th>date</th>\n",
       "      <th>group</th>\n",
       "      <th>visitors</th>\n",
       "    </tr>\n",
       "  </thead>\n",
       "  <tbody>\n",
       "    <tr>\n",
       "      <th>0</th>\n",
       "      <td>2019-08-01</td>\n",
       "      <td>A</td>\n",
       "      <td>719</td>\n",
       "    </tr>\n",
       "    <tr>\n",
       "      <th>1</th>\n",
       "      <td>2019-08-02</td>\n",
       "      <td>A</td>\n",
       "      <td>619</td>\n",
       "    </tr>\n",
       "    <tr>\n",
       "      <th>2</th>\n",
       "      <td>2019-08-03</td>\n",
       "      <td>A</td>\n",
       "      <td>507</td>\n",
       "    </tr>\n",
       "    <tr>\n",
       "      <th>3</th>\n",
       "      <td>2019-08-04</td>\n",
       "      <td>A</td>\n",
       "      <td>717</td>\n",
       "    </tr>\n",
       "    <tr>\n",
       "      <th>4</th>\n",
       "      <td>2019-08-05</td>\n",
       "      <td>A</td>\n",
       "      <td>756</td>\n",
       "    </tr>\n",
       "  </tbody>\n",
       "</table>\n",
       "</div>"
      ],
      "text/plain": [
       "         date group  visitors\n",
       "0  2019-08-01     A       719\n",
       "1  2019-08-02     A       619\n",
       "2  2019-08-03     A       507\n",
       "3  2019-08-04     A       717\n",
       "4  2019-08-05     A       756"
      ]
     },
     "metadata": {},
     "output_type": "display_data"
    }
   ],
   "source": [
    "# читаем файл\n",
    "try:\n",
    "    orders = pd.read_csv(r\"C:\\Users\\baran\\data analysis\\datasets\\orders.csv\")\n",
    "    visitors = pd.read_csv(r\"C:\\Users\\baran\\data analysis\\datasets\\visitors.csv\")\n",
    "except:\n",
    "    orders = pd.read_csv('/datasets/orders.csv')\n",
    "    visitors = pd.read_csv('/datasets/visitors.csv')    \n",
    "\n",
    "display(orders.head())\n",
    "display(visitors.head())"
   ]
  },
  {
   "cell_type": "markdown",
   "id": "651ffc98",
   "metadata": {},
   "source": [
    "####  Изучение и предобработка таблицы с заказами"
   ]
  },
  {
   "cell_type": "code",
   "execution_count": 9,
   "id": "93d206ba",
   "metadata": {},
   "outputs": [
    {
     "name": "stdout",
     "output_type": "stream",
     "text": [
      "<class 'pandas.core.frame.DataFrame'>\n",
      "RangeIndex: 1197 entries, 0 to 1196\n",
      "Data columns (total 5 columns):\n",
      " #   Column         Non-Null Count  Dtype \n",
      "---  ------         --------------  ----- \n",
      " 0   transactionId  1197 non-null   int64 \n",
      " 1   visitorId      1197 non-null   int64 \n",
      " 2   date           1197 non-null   object\n",
      " 3   revenue        1197 non-null   int64 \n",
      " 4   group          1197 non-null   object\n",
      "dtypes: int64(3), object(2)\n",
      "memory usage: 46.9+ KB\n"
     ]
    }
   ],
   "source": [
    "orders.info()"
   ]
  },
  {
   "cell_type": "code",
   "execution_count": 10,
   "id": "81246b06",
   "metadata": {},
   "outputs": [],
   "source": [
    "# приводим date к типу datetime\n",
    "orders['date'] = pd.to_datetime(orders['date'])"
   ]
  },
  {
   "cell_type": "code",
   "execution_count": 11,
   "id": "7743d419",
   "metadata": {},
   "outputs": [
    {
     "name": "stdout",
     "output_type": "stream",
     "text": [
      "0\n",
      "0\n",
      "0\n"
     ]
    }
   ],
   "source": [
    "# проверка на наличие явных дубликатов во всех столбцах\n",
    "print(orders.duplicated().sum())\n",
    "\n",
    "# проверка отдельно двух столбцов\n",
    "print(orders[['transactionId', 'visitorId']].duplicated().sum())\n",
    "\n",
    "# проверка отдельно одного столбца\n",
    "print(orders['transactionId'].duplicated().sum())"
   ]
  },
  {
   "cell_type": "markdown",
   "id": "5bb65047",
   "metadata": {},
   "source": [
    "Однако стоит проверить, не попали ли покупатели сразу в две группы"
   ]
  },
  {
   "cell_type": "code",
   "execution_count": 12,
   "id": "4e241659",
   "metadata": {},
   "outputs": [
    {
     "data": {
      "text/plain": [
       "visitorId\n",
       "5114589        [B]\n",
       "6958315        [B]\n",
       "8300375     [B, A]\n",
       "11685486       [A]\n",
       "39475350       [B]\n",
       "Name: group, dtype: object"
      ]
     },
     "execution_count": 12,
     "metadata": {},
     "output_type": "execute_result"
    }
   ],
   "source": [
    "groupss = orders.groupby('visitorId')['group'].unique()\n",
    "groupss.head()"
   ]
  },
  {
   "cell_type": "markdown",
   "id": "8126ca8c",
   "metadata": {},
   "source": [
    "Видим, что некоторые пользователи могут входить сразу в две группы. Найдем их и посчитаем"
   ]
  },
  {
   "cell_type": "code",
   "execution_count": 13,
   "id": "bc6b79e0",
   "metadata": {},
   "outputs": [
    {
     "name": "stdout",
     "output_type": "stream",
     "text": [
      "[8300375, 199603092, 232979603, 237748145, 276558944, 351125977, 393266494, 457167155, 471551937, 477780734, 818047933, 963407295, 1230306981, 1294878855, 1316129916, 1333886533, 1404934699, 1602967004, 1614305549, 1648269707, 1668030113, 1738359350, 1801183820, 1959144690, 2038680547, 2044997962, 2378935119, 2458001652, 2579882178, 2587333274, 2600415354, 2654030115, 2686716486, 2712142231, 2716752286, 2780786433, 2927087541, 2949041841, 2954449915, 3062433592, 3202540741, 3234906277, 3656415546, 3717692402, 3766097110, 3803269165, 3891541246, 3941795274, 3951559397, 3957174400, 3963646447, 3972127743, 3984495233, 4069496402, 4120364173, 4186807279, 4256040402, 4266935830]\n",
      "58\n"
     ]
    }
   ],
   "source": [
    "users_with_duplicates = []\n",
    "for user, group in groupss.items():\n",
    "    if len(group) == 2:\n",
    "        users_with_duplicates.append(user)\n",
    "print(users_with_duplicates)    \n",
    "print(len(users_with_duplicates))     "
   ]
  },
  {
   "cell_type": "markdown",
   "id": "4d61302a",
   "metadata": {},
   "source": [
    "58 покупателей попали сразу в две группы. Посмотрим, какой это процент от всех покупателей"
   ]
  },
  {
   "cell_type": "code",
   "execution_count": 14,
   "id": "3f9a8097",
   "metadata": {},
   "outputs": [
    {
     "data": {
      "text/plain": [
       "5.625606207565471"
      ]
     },
     "execution_count": 14,
     "metadata": {},
     "output_type": "execute_result"
    }
   ],
   "source": [
    "len(users_with_duplicates) / groupss.shape[0]  * 100"
   ]
  },
  {
   "cell_type": "markdown",
   "id": "5556e953",
   "metadata": {},
   "source": [
    "Такие покупатели составляют менее 6 %. Удалим их, иначе это может сказаться на итоговом результате анализа A/B теста "
   ]
  },
  {
   "cell_type": "code",
   "execution_count": 15,
   "id": "92a92736",
   "metadata": {},
   "outputs": [],
   "source": [
    "orders = orders.query('visitorId not in @users_with_duplicates')"
   ]
  },
  {
   "cell_type": "markdown",
   "id": "48b2b7df",
   "metadata": {},
   "source": [
    "Таким образом, явных дубликатов и пропусков нет. Тип данных столбца `date` был приведён к datetime. Покупатели, относящиеся сразу к двум группам, были исключены из дальнейшего анализа"
   ]
  },
  {
   "cell_type": "markdown",
   "id": "244ad943",
   "metadata": {},
   "source": [
    "####  Изучение и предобработка таблицы с пользователями"
   ]
  },
  {
   "cell_type": "code",
   "execution_count": 16,
   "id": "4adf5cf5",
   "metadata": {},
   "outputs": [
    {
     "name": "stdout",
     "output_type": "stream",
     "text": [
      "<class 'pandas.core.frame.DataFrame'>\n",
      "RangeIndex: 62 entries, 0 to 61\n",
      "Data columns (total 3 columns):\n",
      " #   Column    Non-Null Count  Dtype \n",
      "---  ------    --------------  ----- \n",
      " 0   date      62 non-null     object\n",
      " 1   group     62 non-null     object\n",
      " 2   visitors  62 non-null     int64 \n",
      "dtypes: int64(1), object(2)\n",
      "memory usage: 1.6+ KB\n"
     ]
    }
   ],
   "source": [
    "visitors.info()"
   ]
  },
  {
   "cell_type": "code",
   "execution_count": 17,
   "id": "cb961738",
   "metadata": {},
   "outputs": [],
   "source": [
    "# приводим date к типу datetime\n",
    "visitors['date'] = pd.to_datetime(visitors['date'])"
   ]
  },
  {
   "cell_type": "code",
   "execution_count": 18,
   "id": "88870471",
   "metadata": {},
   "outputs": [
    {
     "data": {
      "text/plain": [
       "0"
      ]
     },
     "execution_count": 18,
     "metadata": {},
     "output_type": "execute_result"
    }
   ],
   "source": [
    "# проверка на наличие явных дубликатов\n",
    "visitors.duplicated().sum()\n",
    "\n",
    "# проверка отдельно двух столбцов\n",
    "visitors[['date', 'group']].duplicated().sum()"
   ]
  },
  {
   "cell_type": "markdown",
   "id": "b445f37a",
   "metadata": {},
   "source": [
    "Таким образом, дубликатов и пропусков нет. Тип данных столбца `date` был приведён к datetime."
   ]
  },
  {
   "cell_type": "markdown",
   "id": "9cd8c52c",
   "metadata": {},
   "source": [
    "### Построение графика кумулятивной выручки по группам"
   ]
  },
  {
   "cell_type": "code",
   "execution_count": 19,
   "id": "e6150322",
   "metadata": {},
   "outputs": [
    {
     "data": {
      "text/html": [
       "<div>\n",
       "<style scoped>\n",
       "    .dataframe tbody tr th:only-of-type {\n",
       "        vertical-align: middle;\n",
       "    }\n",
       "\n",
       "    .dataframe tbody tr th {\n",
       "        vertical-align: top;\n",
       "    }\n",
       "\n",
       "    .dataframe thead th {\n",
       "        text-align: right;\n",
       "    }\n",
       "</style>\n",
       "<table border=\"1\" class=\"dataframe\">\n",
       "  <thead>\n",
       "    <tr style=\"text-align: right;\">\n",
       "      <th></th>\n",
       "      <th>date</th>\n",
       "      <th>group</th>\n",
       "      <th>transactionId</th>\n",
       "      <th>visitorId</th>\n",
       "      <th>revenue</th>\n",
       "    </tr>\n",
       "  </thead>\n",
       "  <tbody>\n",
       "    <tr>\n",
       "      <th>55</th>\n",
       "      <td>2019-08-01</td>\n",
       "      <td>A</td>\n",
       "      <td>23</td>\n",
       "      <td>19</td>\n",
       "      <td>142779</td>\n",
       "    </tr>\n",
       "    <tr>\n",
       "      <th>66</th>\n",
       "      <td>2019-08-01</td>\n",
       "      <td>B</td>\n",
       "      <td>17</td>\n",
       "      <td>17</td>\n",
       "      <td>59758</td>\n",
       "    </tr>\n",
       "    <tr>\n",
       "      <th>175</th>\n",
       "      <td>2019-08-02</td>\n",
       "      <td>A</td>\n",
       "      <td>42</td>\n",
       "      <td>36</td>\n",
       "      <td>234381</td>\n",
       "    </tr>\n",
       "    <tr>\n",
       "      <th>173</th>\n",
       "      <td>2019-08-02</td>\n",
       "      <td>B</td>\n",
       "      <td>40</td>\n",
       "      <td>39</td>\n",
       "      <td>221801</td>\n",
       "    </tr>\n",
       "    <tr>\n",
       "      <th>291</th>\n",
       "      <td>2019-08-03</td>\n",
       "      <td>A</td>\n",
       "      <td>66</td>\n",
       "      <td>60</td>\n",
       "      <td>346854</td>\n",
       "    </tr>\n",
       "  </tbody>\n",
       "</table>\n",
       "</div>"
      ],
      "text/plain": [
       "          date group  transactionId  visitorId  revenue\n",
       "55  2019-08-01     A             23         19   142779\n",
       "66  2019-08-01     B             17         17    59758\n",
       "175 2019-08-02     A             42         36   234381\n",
       "173 2019-08-02     B             40         39   221801\n",
       "291 2019-08-03     A             66         60   346854"
      ]
     },
     "execution_count": 19,
     "metadata": {},
     "output_type": "execute_result"
    }
   ],
   "source": [
    "# создаем массив уникальных пар значений дат и групп теста\n",
    "datesGroups = orders[['date','group']].drop_duplicates()\n",
    "\n",
    "# получаем агрегированные кумулятивные по дням данные о заказах \n",
    "ordersAggregated = (datesGroups\n",
    "                    .apply(lambda x: orders[np.logical_and(orders['date'] <= x['date'], orders['group'] == x['group'])]\n",
    "                    .agg({'date' : 'max',\n",
    "                          'group' : 'max',\n",
    "                          'transactionId' : 'nunique',\n",
    "                          'visitorId' : 'nunique',\n",
    "                          'revenue' : 'sum'}), axis=1)\n",
    "                    .sort_values(by=['date','group']) \n",
    "                   )\n",
    "ordersAggregated.head()"
   ]
  },
  {
   "cell_type": "markdown",
   "id": "39374cce",
   "metadata": {},
   "source": [
    "Подготовим заранее данные для следующего пункта: посчитаем кумулятивное количество пользователей по дням"
   ]
  },
  {
   "cell_type": "code",
   "execution_count": 20,
   "id": "28431590",
   "metadata": {},
   "outputs": [
    {
     "data": {
      "text/html": [
       "<div>\n",
       "<style scoped>\n",
       "    .dataframe tbody tr th:only-of-type {\n",
       "        vertical-align: middle;\n",
       "    }\n",
       "\n",
       "    .dataframe tbody tr th {\n",
       "        vertical-align: top;\n",
       "    }\n",
       "\n",
       "    .dataframe thead th {\n",
       "        text-align: right;\n",
       "    }\n",
       "</style>\n",
       "<table border=\"1\" class=\"dataframe\">\n",
       "  <thead>\n",
       "    <tr style=\"text-align: right;\">\n",
       "      <th></th>\n",
       "      <th>date</th>\n",
       "      <th>group</th>\n",
       "      <th>visitors</th>\n",
       "    </tr>\n",
       "  </thead>\n",
       "  <tbody>\n",
       "    <tr>\n",
       "      <th>55</th>\n",
       "      <td>2019-08-01</td>\n",
       "      <td>A</td>\n",
       "      <td>719</td>\n",
       "    </tr>\n",
       "    <tr>\n",
       "      <th>66</th>\n",
       "      <td>2019-08-01</td>\n",
       "      <td>B</td>\n",
       "      <td>713</td>\n",
       "    </tr>\n",
       "    <tr>\n",
       "      <th>175</th>\n",
       "      <td>2019-08-02</td>\n",
       "      <td>A</td>\n",
       "      <td>1338</td>\n",
       "    </tr>\n",
       "    <tr>\n",
       "      <th>173</th>\n",
       "      <td>2019-08-02</td>\n",
       "      <td>B</td>\n",
       "      <td>1294</td>\n",
       "    </tr>\n",
       "    <tr>\n",
       "      <th>291</th>\n",
       "      <td>2019-08-03</td>\n",
       "      <td>A</td>\n",
       "      <td>1845</td>\n",
       "    </tr>\n",
       "  </tbody>\n",
       "</table>\n",
       "</div>"
      ],
      "text/plain": [
       "          date group  visitors\n",
       "55  2019-08-01     A       719\n",
       "66  2019-08-01     B       713\n",
       "175 2019-08-02     A      1338\n",
       "173 2019-08-02     B      1294\n",
       "291 2019-08-03     A      1845"
      ]
     },
     "execution_count": 20,
     "metadata": {},
     "output_type": "execute_result"
    }
   ],
   "source": [
    "visitorsAggregated = (datesGroups\n",
    "                      .apply(lambda x: visitors[np.logical_and(visitors['date'] <= x['date'], visitors['group'] == x['group'])]\n",
    "                      .agg({'date' : 'max', 'group' : 'max', 'visitors' : 'sum'}), axis=1)\n",
    "                      .sort_values(by=['date','group'])\n",
    "                     )\n",
    "visitorsAggregated.head()"
   ]
  },
  {
   "cell_type": "markdown",
   "id": "6f506e25",
   "metadata": {},
   "source": [
    "Объединим обе таблицы в одну с понятными названиями столбцов: "
   ]
  },
  {
   "cell_type": "code",
   "execution_count": 21,
   "id": "c866db08",
   "metadata": {},
   "outputs": [
    {
     "data": {
      "text/html": [
       "<div>\n",
       "<style scoped>\n",
       "    .dataframe tbody tr th:only-of-type {\n",
       "        vertical-align: middle;\n",
       "    }\n",
       "\n",
       "    .dataframe tbody tr th {\n",
       "        vertical-align: top;\n",
       "    }\n",
       "\n",
       "    .dataframe thead th {\n",
       "        text-align: right;\n",
       "    }\n",
       "</style>\n",
       "<table border=\"1\" class=\"dataframe\">\n",
       "  <thead>\n",
       "    <tr style=\"text-align: right;\">\n",
       "      <th></th>\n",
       "      <th>date</th>\n",
       "      <th>group</th>\n",
       "      <th>orders</th>\n",
       "      <th>buyers</th>\n",
       "      <th>revenue</th>\n",
       "      <th>visitors</th>\n",
       "    </tr>\n",
       "  </thead>\n",
       "  <tbody>\n",
       "    <tr>\n",
       "      <th>0</th>\n",
       "      <td>2019-08-01</td>\n",
       "      <td>A</td>\n",
       "      <td>23</td>\n",
       "      <td>19</td>\n",
       "      <td>142779</td>\n",
       "      <td>719</td>\n",
       "    </tr>\n",
       "    <tr>\n",
       "      <th>1</th>\n",
       "      <td>2019-08-01</td>\n",
       "      <td>B</td>\n",
       "      <td>17</td>\n",
       "      <td>17</td>\n",
       "      <td>59758</td>\n",
       "      <td>713</td>\n",
       "    </tr>\n",
       "    <tr>\n",
       "      <th>2</th>\n",
       "      <td>2019-08-02</td>\n",
       "      <td>A</td>\n",
       "      <td>42</td>\n",
       "      <td>36</td>\n",
       "      <td>234381</td>\n",
       "      <td>1338</td>\n",
       "    </tr>\n",
       "    <tr>\n",
       "      <th>3</th>\n",
       "      <td>2019-08-02</td>\n",
       "      <td>B</td>\n",
       "      <td>40</td>\n",
       "      <td>39</td>\n",
       "      <td>221801</td>\n",
       "      <td>1294</td>\n",
       "    </tr>\n",
       "    <tr>\n",
       "      <th>4</th>\n",
       "      <td>2019-08-03</td>\n",
       "      <td>A</td>\n",
       "      <td>66</td>\n",
       "      <td>60</td>\n",
       "      <td>346854</td>\n",
       "      <td>1845</td>\n",
       "    </tr>\n",
       "  </tbody>\n",
       "</table>\n",
       "</div>"
      ],
      "text/plain": [
       "        date group  orders  buyers  revenue  visitors\n",
       "0 2019-08-01     A      23      19   142779       719\n",
       "1 2019-08-01     B      17      17    59758       713\n",
       "2 2019-08-02     A      42      36   234381      1338\n",
       "3 2019-08-02     B      40      39   221801      1294\n",
       "4 2019-08-03     A      66      60   346854      1845"
      ]
     },
     "execution_count": 21,
     "metadata": {},
     "output_type": "execute_result"
    }
   ],
   "source": [
    "cumulativeData = ordersAggregated.merge(visitorsAggregated, left_on=['date', 'group'], right_on=['date', 'group'])\n",
    "cumulativeData.columns = ['date', 'group', 'orders', 'buyers', 'revenue', 'visitors']\n",
    "cumulativeData.head()"
   ]
  },
  {
   "cell_type": "markdown",
   "id": "01bf5960",
   "metadata": {},
   "source": [
    "Теперь строим графики с кумулятивной выручкой по дням"
   ]
  },
  {
   "cell_type": "code",
   "execution_count": 22,
   "id": "9c2f2ab1",
   "metadata": {},
   "outputs": [
    {
     "data": {
      "image/png": "[encoded data removed]",
      "text/plain": [
       "<Figure size 432x288 with 1 Axes>"
      ]
     },
     "metadata": {
      "needs_background": "light"
     },
     "output_type": "display_data"
    }
   ],
   "source": [
    "# датафрейм с кумулятивным количеством заказов и кумулятивной выручкой по дням в группе А\n",
    "cumulativeRevenueA = cumulativeData[cumulativeData['group']=='A'][['date','revenue', 'orders']]\n",
    "\n",
    "# датафрейм с кумулятивным количеством заказов и кумулятивной выручкой по дням в группе B\n",
    "cumulativeRevenueB = cumulativeData[cumulativeData['group']=='B'][['date','revenue', 'orders']]\n",
    "\n",
    "# Строим график выручки группы А\n",
    "plt.plot(cumulativeRevenueA['date'], cumulativeRevenueA['revenue'], label='A')\n",
    "\n",
    "# Строим график выручки группы B\n",
    "plt.plot(cumulativeRevenueB['date'], cumulativeRevenueB['revenue'], label='B')\n",
    "plt.xticks(rotation=90)\n",
    "plt.ylabel('Траты пользователей')\n",
    "plt.xlabel('Дата')\n",
    "plt.title('Кумулятивные траты пользователей по дням в разбивке по группам', pad=20)\n",
    "plt.legend();"
   ]
  },
  {
   "cell_type": "markdown",
   "id": "d85e9c34",
   "metadata": {},
   "source": [
    "Зависимость для группы местами резко растёт. Это может свидетельствовать либо об увеличении числа заказов в этот период, либо о появлении очень дорогих заказов в выборке. Это аномально большие росты, которые могут привести к неверным выводам. Разберёмся с ними позже"
   ]
  },
  {
   "cell_type": "markdown",
   "id": "58a8e26b",
   "metadata": {},
   "source": [
    "### Построение графика кумулятивного среднего чека по группам"
   ]
  },
  {
   "cell_type": "code",
   "execution_count": 23,
   "id": "961279c5",
   "metadata": {},
   "outputs": [
    {
     "data": {
      "image/png": "[encoded data removed]",
      "text/plain": [
       "<Figure size 432x288 with 1 Axes>"
      ]
     },
     "metadata": {
      "needs_background": "light"
     },
     "output_type": "display_data"
    }
   ],
   "source": [
    "plt.plot(cumulativeRevenueA['date'], cumulativeRevenueA['revenue']/cumulativeRevenueA['orders'], label='A')\n",
    "plt.plot(cumulativeRevenueB['date'], cumulativeRevenueB['revenue']/cumulativeRevenueB['orders'], label='B')\n",
    "plt.xticks(rotation=90)\n",
    "plt.ylabel('Кумулятивный средний чек')\n",
    "plt.xlabel('Дата')\n",
    "plt.title('Кумулятивный средний чек по дням в разбивке по группам', pad=20)\n",
    "plt.legend(); "
   ]
  },
  {
   "cell_type": "markdown",
   "id": "8c091c71",
   "metadata": {},
   "source": [
    "Похожее поведение наблюдается и для среднего чека. Комулятивные значения продолжают колебаться: нет равномерной зависимости. Решение по этой метрике принимать рано: требуется дополнительный анализ выборосов."
   ]
  },
  {
   "cell_type": "markdown",
   "id": "644525f4",
   "metadata": {},
   "source": [
    "### Построение графика относительного изменения кумулятивного среднего чека группы B к A"
   ]
  },
  {
   "cell_type": "code",
   "execution_count": 24,
   "id": "0c8e5f2a",
   "metadata": {},
   "outputs": [
    {
     "data": {
      "image/png": "[encoded data removed]",
      "text/plain": [
       "<Figure size 432x288 with 1 Axes>"
      ]
     },
     "metadata": {
      "needs_background": "light"
     },
     "output_type": "display_data"
    }
   ],
   "source": [
    "# собираем данные в одном датафрейме mergedCumulativeRevenue (MCR)\n",
    "MCR = cumulativeRevenueA.merge(cumulativeRevenueB,\n",
    "                               left_on='date',\n",
    "                               right_on='date',\n",
    "                               how='left',\n",
    "                               suffixes=['A', 'B'])\n",
    "\n",
    "# cтроим отношение средних чеков\n",
    "plt.plot(MCR['date'], (MCR['revenueB']/MCR['ordersB'])/(MCR['revenueA']/MCR['ordersA'])-1)\n",
    "\n",
    "# добавляем ось X\n",
    "plt.axhline(y=0, color='black', linestyle='--')\n",
    "plt.xticks(rotation=90)\n",
    "plt.ylabel('Относительное различие среднего чека')\n",
    "plt.xlabel('Дата')\n",
    "plt.title('Относительное различие среднего чека группы B к A по датам', pad=20);"
   ]
  },
  {
   "cell_type": "markdown",
   "id": "f51ce370",
   "metadata": {},
   "source": [
    "Результаты теста значительно и резко менялись в несколько дат. Видимо, именно тогда были совершены аномальные заказы."
   ]
  },
  {
   "cell_type": "markdown",
   "id": "99898777",
   "metadata": {},
   "source": [
    "### Построение графика кумулятивного среднего количества заказов по посетителям по группам"
   ]
  },
  {
   "cell_type": "code",
   "execution_count": 25,
   "id": "003e58da",
   "metadata": {},
   "outputs": [
    {
     "data": {
      "image/png": "[encoded data removed]",
      "text/plain": [
       "<Figure size 432x288 with 1 Axes>"
      ]
     },
     "metadata": {
      "needs_background": "light"
     },
     "output_type": "display_data"
    }
   ],
   "source": [
    "# считаем среднее количество заказов на посетителя\n",
    "cumulativeData['conversion'] = cumulativeData['orders']/cumulativeData['visitors']\n",
    "\n",
    "# отделяем данные по группе A\n",
    "cumulativeDataA = cumulativeData[cumulativeData['group']=='A']\n",
    "\n",
    "# отделяем данные по группе B\n",
    "cumulativeDataB = cumulativeData[cumulativeData['group']=='B']\n",
    "\n",
    "# строим графики\n",
    "plt.plot(cumulativeDataA['date'], cumulativeDataA['conversion'], label='A')\n",
    "plt.plot(cumulativeDataB['date'], cumulativeDataB['conversion'], label='B')\n",
    "plt.legend()\n",
    "\n",
    "# задаем масштаб осей\n",
    "start_date = pd.to_datetime('2019-08-01')\n",
    "end_date = pd.to_datetime('2019-09-01')\n",
    "plt.axis([start_date, end_date, 0.02, 0.05])\n",
    "plt.xticks(rotation=90)\n",
    "plt.ylabel('Кумулятивное среднее кол-ва заказов к посетителям')\n",
    "plt.xlabel('Дата')\n",
    "plt.title('Кумулятивое среднее количество заказов по посетителям датам для двух групп', pad=30);"
   ]
  },
  {
   "cell_type": "markdown",
   "id": "ec98941f",
   "metadata": {},
   "source": [
    "В начале, до ~ 2019-08-06 группы колеблились, но затем у группы B среднее количество заказов к пользователям вырвалось вперёд и зафиксировалось. У группы A – просело, но тоже зафиксировалось. "
   ]
  },
  {
   "cell_type": "markdown",
   "id": "cd17e331",
   "metadata": {},
   "source": [
    "### Построение графика относительного изменения кумулятивного среднего количества заказов на посетителя группы B к группе A"
   ]
  },
  {
   "cell_type": "code",
   "execution_count": 26,
   "id": "1eb4f640",
   "metadata": {},
   "outputs": [
    {
     "data": {
      "image/png": "[encoded data removed]",
      "text/plain": [
       "<Figure size 432x288 with 1 Axes>"
      ]
     },
     "metadata": {
      "needs_background": "light"
     },
     "output_type": "display_data"
    }
   ],
   "source": [
    "# mergedCumulativeConversions (MCC) – объединяем две таблицы из прошлого задания\n",
    "MCC = (cumulativeDataA[['date','conversion']]\n",
    "       .merge(cumulativeDataB[['date','conversion']],\n",
    "              left_on='date',\n",
    "              right_on='date',\n",
    "              how='left',\n",
    "              suffixes=['A', 'B'])\n",
    "                              )\n",
    "plt.plot(MCC['date'], MCC['conversionB']/MCC['conversionA']-1)\n",
    "\n",
    "plt.axhline(y=0, color='black', linestyle='--')\n",
    "plt.axhline(y=0.15, color='grey', linestyle='--')\n",
    "plt.axis([start_date, end_date, -0.6, 0.6])\n",
    "plt.xticks(rotation=90)\n",
    "plt.ylabel('Относительный прирост')\n",
    "plt.xlabel('Дата')\n",
    "plt.title(\"Относительный прирост кумулятивного среднего количества заказов на посетителя группы B относительно группы A\",\n",
    "          pad=30);"
   ]
  },
  {
   "cell_type": "markdown",
   "id": "49e251a6",
   "metadata": {},
   "source": [
    "В начале теста наблюдается колебание между средним количеством заказов на посетителя группы B к A. Затем, после 2019-08-06, группа B начала лидировать по метрике. В конце концов, метрика зафиксировалась около прироста в 15% относительно группы A."
   ]
  },
  {
   "cell_type": "markdown",
   "id": "12a89818",
   "metadata": {},
   "source": [
    "### Построение точечного графика количества заказов по пользователям"
   ]
  },
  {
   "cell_type": "code",
   "execution_count": 27,
   "id": "bfebac33",
   "metadata": {},
   "outputs": [
    {
     "name": "stdout",
     "output_type": "stream",
     "text": [
      "         userId  orders\n",
      "908  3967698036       3\n",
      "55    249864742       3\n",
      "478  2108163459       3\n",
      "687  2988190573       3\n",
      "890  3908431265       3\n",
      "138   611059232       3\n",
      "632  2742574263       3\n",
      "157   678354126       2\n",
      "323  1404560065       2\n",
      "452  1985475298       2\n"
     ]
    }
   ],
   "source": [
    "# создаем датафрейм с пользователями и количеством товаров\n",
    "ordersByUsers = orders.groupby('visitorId', as_index=False).agg({'transactionId': 'nunique'})\n",
    "ordersByUsers.columns = ['userId', 'orders']\n",
    "print(ordersByUsers.sort_values(by='orders', ascending=False).head(10)) "
   ]
  },
  {
   "cell_type": "code",
   "execution_count": 28,
   "id": "a9a8e82e",
   "metadata": {},
   "outputs": [
    {
     "data": {
      "image/png": "[encoded data removed]",
      "text/plain": [
       "<Figure size 432x288 with 1 Axes>"
      ]
     },
     "metadata": {
      "needs_background": "light"
     },
     "output_type": "display_data"
    }
   ],
   "source": [
    "# строим график\n",
    "x_values = pd.Series(range(0, len(ordersByUsers)))\n",
    "plt.title('Точеченый график заказов на каждого пользователя', pad=20)\n",
    "plt.xlabel('Пользователи')\n",
    "plt.ylabel('Количество заказов')\n",
    "plt.scatter(x_values, ordersByUsers['orders']);"
   ]
  },
  {
   "cell_type": "markdown",
   "id": "9288c5b5",
   "metadata": {},
   "source": [
    "Из графика рассеяния видно, что в основном пользователи делали 1 покупку, реже две и несколько раз 3."
   ]
  },
  {
   "cell_type": "markdown",
   "id": "24a16d0a",
   "metadata": {},
   "source": [
    "### Расчёт 95-ого и 99-ого процентилей количества заказов на пользователя"
   ]
  },
  {
   "cell_type": "code",
   "execution_count": 29,
   "id": "48d0b372",
   "metadata": {},
   "outputs": [
    {
     "data": {
      "text/plain": [
       "array([1., 2.])"
      ]
     },
     "execution_count": 29,
     "metadata": {},
     "output_type": "execute_result"
    }
   ],
   "source": [
    "np.percentile(ordersByUsers['orders'], [95, 99])"
   ]
  },
  {
   "cell_type": "markdown",
   "id": "87817313",
   "metadata": {},
   "source": [
    "То есть не более 5% пользователей оформляли больше чем 1 заказ и не более 1% – больше двух."
   ]
  },
  {
   "cell_type": "markdown",
   "id": "1ad6eaea",
   "metadata": {},
   "source": [
    "### Построение точечного графика стоимостей заказов"
   ]
  },
  {
   "cell_type": "code",
   "execution_count": 30,
   "id": "0e4ce760",
   "metadata": {},
   "outputs": [
    {
     "data": {
      "image/png": "[encoded data removed]",
      "text/plain": [
       "<Figure size 432x288 with 1 Axes>"
      ]
     },
     "metadata": {
      "needs_background": "light"
     },
     "output_type": "display_data"
    }
   ],
   "source": [
    "x_values = pd.Series(range(0,len(orders['revenue'])))\n",
    "plt.title('Точеченый график стоимостей заказов', pad=20)\n",
    "plt.xlabel('Пользователи')\n",
    "plt.ylabel('Цена заказа')\n",
    "plt.scatter(x_values, orders['revenue']);"
   ]
  },
  {
   "cell_type": "markdown",
   "id": "6c367335",
   "metadata": {},
   "source": [
    "Из графика следует, что есть несколько нетипично дорогих заказов. Например, заказ выше 1.2 млн. денег"
   ]
  },
  {
   "cell_type": "markdown",
   "id": "ab941fbb",
   "metadata": {},
   "source": [
    "### Расчёт 95-ого и 99-ого процентилей стоимости заказов"
   ]
  },
  {
   "cell_type": "code",
   "execution_count": 31,
   "id": "0a28cdfa",
   "metadata": {},
   "outputs": [
    {
     "data": {
      "text/plain": [
       "array([26785., 53904.])"
      ]
     },
     "execution_count": 31,
     "metadata": {},
     "output_type": "execute_result"
    }
   ],
   "source": [
    "np.percentile(orders['revenue'], [95, 99])"
   ]
  },
  {
   "cell_type": "markdown",
   "id": "d41ea809",
   "metadata": {},
   "source": [
    "То есть не более 5% заказов стоят более 26785, не более 1 % – более 53904."
   ]
  },
  {
   "cell_type": "markdown",
   "id": "5cbcfbf9",
   "metadata": {},
   "source": [
    "Таким образом, в дальнейшем примем за аномальных пользователей тех, кто совершил от 2 заказов и более или совершил заказ дороже 30 000. Тем самым мы уберем 5% пользователей с наибольшим числом заказов и от 1% до 5% пользователей с самыми дорогими."
   ]
  },
  {
   "cell_type": "markdown",
   "id": "ed96b682",
   "metadata": {},
   "source": [
    "### Расчёт статистической значимости различий в среднем количестве заказов по посетителям между группами по «сырым» данным"
   ]
  },
  {
   "cell_type": "markdown",
   "id": "cde6ac80",
   "metadata": {},
   "source": [
    "Нулевая гипотеза **H0**: между различий в среднем количестве заказов между группами нет.\n",
    "\n",
    "Альтернативная гипотеза **H1**:  различия в среднем между группами есть. \n",
    "\n",
    "Подготовим данные:"
   ]
  },
  {
   "cell_type": "code",
   "execution_count": 32,
   "id": "0ab29ee8",
   "metadata": {},
   "outputs": [
    {
     "data": {
      "text/html": [
       "<div>\n",
       "<style scoped>\n",
       "    .dataframe tbody tr th:only-of-type {\n",
       "        vertical-align: middle;\n",
       "    }\n",
       "\n",
       "    .dataframe tbody tr th {\n",
       "        vertical-align: top;\n",
       "    }\n",
       "\n",
       "    .dataframe thead th {\n",
       "        text-align: right;\n",
       "    }\n",
       "</style>\n",
       "<table border=\"1\" class=\"dataframe\">\n",
       "  <thead>\n",
       "    <tr style=\"text-align: right;\">\n",
       "      <th></th>\n",
       "      <th>date</th>\n",
       "      <th>ordersPerDateA</th>\n",
       "      <th>revenuePerDateA</th>\n",
       "      <th>ordersPerDateB</th>\n",
       "      <th>revenuePerDateB</th>\n",
       "      <th>ordersCummulativeA</th>\n",
       "      <th>revenueCummulativeA</th>\n",
       "      <th>ordersCummulativeB</th>\n",
       "      <th>revenueCummulativeB</th>\n",
       "      <th>visitorsPerDateA</th>\n",
       "      <th>visitorsPerDateB</th>\n",
       "      <th>visitorsCummulativeA</th>\n",
       "      <th>visitorsCummulativeB</th>\n",
       "    </tr>\n",
       "  </thead>\n",
       "  <tbody>\n",
       "    <tr>\n",
       "      <th>0</th>\n",
       "      <td>2019-08-01</td>\n",
       "      <td>23</td>\n",
       "      <td>142779</td>\n",
       "      <td>17</td>\n",
       "      <td>59758</td>\n",
       "      <td>23</td>\n",
       "      <td>142779</td>\n",
       "      <td>17</td>\n",
       "      <td>59758</td>\n",
       "      <td>719</td>\n",
       "      <td>713</td>\n",
       "      <td>719</td>\n",
       "      <td>713</td>\n",
       "    </tr>\n",
       "    <tr>\n",
       "      <th>1</th>\n",
       "      <td>2019-08-02</td>\n",
       "      <td>19</td>\n",
       "      <td>91602</td>\n",
       "      <td>23</td>\n",
       "      <td>162043</td>\n",
       "      <td>42</td>\n",
       "      <td>234381</td>\n",
       "      <td>40</td>\n",
       "      <td>221801</td>\n",
       "      <td>619</td>\n",
       "      <td>581</td>\n",
       "      <td>1338</td>\n",
       "      <td>1294</td>\n",
       "    </tr>\n",
       "    <tr>\n",
       "      <th>2</th>\n",
       "      <td>2019-08-03</td>\n",
       "      <td>24</td>\n",
       "      <td>112473</td>\n",
       "      <td>14</td>\n",
       "      <td>67049</td>\n",
       "      <td>66</td>\n",
       "      <td>346854</td>\n",
       "      <td>54</td>\n",
       "      <td>288850</td>\n",
       "      <td>507</td>\n",
       "      <td>509</td>\n",
       "      <td>1845</td>\n",
       "      <td>1803</td>\n",
       "    </tr>\n",
       "    <tr>\n",
       "      <th>3</th>\n",
       "      <td>2019-08-04</td>\n",
       "      <td>11</td>\n",
       "      <td>41176</td>\n",
       "      <td>14</td>\n",
       "      <td>96890</td>\n",
       "      <td>77</td>\n",
       "      <td>388030</td>\n",
       "      <td>68</td>\n",
       "      <td>385740</td>\n",
       "      <td>717</td>\n",
       "      <td>770</td>\n",
       "      <td>2562</td>\n",
       "      <td>2573</td>\n",
       "    </tr>\n",
       "    <tr>\n",
       "      <th>4</th>\n",
       "      <td>2019-08-05</td>\n",
       "      <td>22</td>\n",
       "      <td>86383</td>\n",
       "      <td>21</td>\n",
       "      <td>89908</td>\n",
       "      <td>99</td>\n",
       "      <td>474413</td>\n",
       "      <td>89</td>\n",
       "      <td>475648</td>\n",
       "      <td>756</td>\n",
       "      <td>707</td>\n",
       "      <td>3318</td>\n",
       "      <td>3280</td>\n",
       "    </tr>\n",
       "  </tbody>\n",
       "</table>\n",
       "</div>"
      ],
      "text/plain": [
       "        date  ordersPerDateA  revenuePerDateA  ordersPerDateB  \\\n",
       "0 2019-08-01              23           142779              17   \n",
       "1 2019-08-02              19            91602              23   \n",
       "2 2019-08-03              24           112473              14   \n",
       "3 2019-08-04              11            41176              14   \n",
       "4 2019-08-05              22            86383              21   \n",
       "\n",
       "   revenuePerDateB  ordersCummulativeA  revenueCummulativeA  \\\n",
       "0            59758                  23               142779   \n",
       "1           162043                  42               234381   \n",
       "2            67049                  66               346854   \n",
       "3            96890                  77               388030   \n",
       "4            89908                  99               474413   \n",
       "\n",
       "   ordersCummulativeB  revenueCummulativeB  visitorsPerDateA  \\\n",
       "0                  17                59758               719   \n",
       "1                  40               221801               619   \n",
       "2                  54               288850               507   \n",
       "3                  68               385740               717   \n",
       "4                  89               475648               756   \n",
       "\n",
       "   visitorsPerDateB  visitorsCummulativeA  visitorsCummulativeB  \n",
       "0               713                   719                   713  \n",
       "1               581                  1338                  1294  \n",
       "2               509                  1845                  1803  \n",
       "3               770                  2562                  2573  \n",
       "4               707                  3318                  3280  "
      ]
     },
     "metadata": {},
     "output_type": "display_data"
    }
   ],
   "source": [
    "# количество посетителей по дням (группа А)\n",
    "visitorsADaily = visitors[visitors['group'] == 'A'][['date', 'visitors']]\n",
    "visitorsADaily.columns = ['date', 'visitorsPerDateA']\n",
    "\n",
    "# куммулятивная сумма посетителей по дням (группа А)\n",
    "visitorsACummulative = visitorsADaily.apply(lambda x: visitorsADaily[visitorsADaily['date'] <= x['date']]\n",
    "                                     .agg({'date': 'max', 'visitorsPerDateA': 'sum'}), axis=1)\n",
    "\n",
    "visitorsACummulative.columns = ['date', 'visitorsCummulativeA']\n",
    "\n",
    "# количество посетителей по дням и куммулятивная сумма по дням (группа B)\n",
    "visitorsBDaily = visitors[visitors['group'] == 'B'][['date', 'visitors']]\n",
    "visitorsBDaily.columns = ['date', 'visitorsPerDateB']\n",
    "visitorsBCummulative = visitorsBDaily.apply(lambda x: visitorsBDaily[visitorsBDaily['date'] <= x['date']]\n",
    "                                     .agg({'date': 'max', 'visitorsPerDateB': 'sum'}), axis=1)\n",
    "visitorsBCummulative.columns = ['date', 'visitorsCummulativeB']\n",
    "\n",
    "# количество уникальных покупателей по дням и их траты (группа А)\n",
    "ordersADaily = (\n",
    "    orders[orders['group'] == 'A'][['date', 'transactionId', 'visitorId', 'revenue']]\n",
    "    .groupby('date', as_index=False)\n",
    "    .agg({'transactionId': pd.Series.nunique, 'revenue': 'sum'})\n",
    ")\n",
    "ordersADaily.columns = ['date', 'ordersPerDateA', 'revenuePerDateA']\n",
    "\n",
    "# куммулятивная сумма пользователей по дням и сумма их трат\n",
    "ordersACummulative = ordersADaily.apply(\n",
    "    lambda x: ordersADaily[ordersADaily['date'] <= x['date']].agg(\n",
    "        {'date': 'max', 'ordersPerDateA': 'sum', 'revenuePerDateA': 'sum'}\n",
    "    ),\n",
    "    axis=1,\n",
    ").sort_values(by=['date'])\n",
    "\n",
    "ordersACummulative.columns = ['date', 'ordersCummulativeA', 'revenueCummulativeA']\n",
    "\n",
    "# всё тоже самое для группы B\n",
    "ordersBDaily = (\n",
    "    orders[orders['group'] == 'B'][['date', 'transactionId', 'visitorId', 'revenue']]\n",
    "    .groupby('date', as_index=False)\n",
    "    .agg({'transactionId': pd.Series.nunique, 'revenue': 'sum'})\n",
    ")\n",
    "ordersBDaily.columns = ['date', 'ordersPerDateB', 'revenuePerDateB']\n",
    "\n",
    "ordersBCummulative = ordersBDaily.apply(\n",
    "    lambda x: ordersBDaily[ordersBDaily['date'] <= x['date']].agg(\n",
    "        {'date': 'max', 'ordersPerDateB': 'sum', 'revenuePerDateB': 'sum'}\n",
    "    ),\n",
    "    axis=1,\n",
    ").sort_values(by=['date'])\n",
    "ordersBCummulative.columns = [\n",
    "    'date',\n",
    "    'ordersCummulativeB',\n",
    "    'revenueCummulativeB',\n",
    "]\n",
    "\n",
    "# соединяем всё по дате\n",
    "data = (\n",
    "    ordersADaily.merge(\n",
    "        ordersBDaily, left_on='date', right_on='date', how='left'\n",
    "    )\n",
    "    .merge(ordersACummulative, left_on='date', right_on='date', how='left')\n",
    "    .merge(ordersBCummulative, left_on='date', right_on='date', how='left')\n",
    "    .merge(visitorsADaily, left_on='date', right_on='date', how='left')\n",
    "    .merge(visitorsBDaily, left_on='date', right_on='date', how='left')\n",
    "    .merge(visitorsACummulative, left_on='date', right_on='date', how='left')\n",
    "    .merge(visitorsBCummulative, left_on='date', right_on='date', how='left')\n",
    ")\n",
    "\n",
    "display(data.head())"
   ]
  },
  {
   "cell_type": "markdown",
   "id": "214bcf51",
   "metadata": {},
   "source": [
    "Напомним названия столбцов данных:\n",
    "* `date` — дата;\n",
    "* `ordersPerDateA` — количество заказов в выбранную дату в группе A;\n",
    "* `revenuePerDateA` — суммарная выручка в выбранную дату в группе A;\n",
    "* `ordersPerDateB` — количество заказов в выбранную дату в группе B;\n",
    "* `revenuePerDateB` — суммарная выручка в выбранную дату в группе B;\n",
    "* `ordersCummulativeA` — суммарное число заказов до выбранной даты включительно в группе A;\n",
    "* `revenueCummulativeA` — суммарная выручка до выбранной даты включительно в группе A;\n",
    "* `ordersCummulativeB` — суммарное количество заказов до выбранной даты включительно в группе B;\n",
    "* `revenueCummulativeB` — суммарная выручка до выбранной даты включительно в группе B;\n",
    "* `visitorsPerDateA` — количество пользователей в выбранную дату в группе A;\n",
    "* `visitorsPerDateB` — количество пользователей в выбранную дату в группе B;\n",
    "* `visitorsCummulativeA` — количество пользователей до выбранной даты включительно в группе A;\n",
    "* `visitorsCummulativeB` — количество пользователей до выбранной даты включительно в группе B."
   ]
  },
  {
   "cell_type": "markdown",
   "id": "66f3dcc0",
   "metadata": {},
   "source": [
    "Создадим переменные `ordersByUsersA` и `ordersByUsersB` со столбцами `['userId', 'orders']`. В них для пользователей, которые заказывали хотя бы 1 раз, укажем число совершённых заказов. "
   ]
  },
  {
   "cell_type": "code",
   "execution_count": 33,
   "id": "7840423f",
   "metadata": {},
   "outputs": [
    {
     "data": {
      "text/html": [
       "<div>\n",
       "<style scoped>\n",
       "    .dataframe tbody tr th:only-of-type {\n",
       "        vertical-align: middle;\n",
       "    }\n",
       "\n",
       "    .dataframe tbody tr th {\n",
       "        vertical-align: top;\n",
       "    }\n",
       "\n",
       "    .dataframe thead th {\n",
       "        text-align: right;\n",
       "    }\n",
       "</style>\n",
       "<table border=\"1\" class=\"dataframe\">\n",
       "  <thead>\n",
       "    <tr style=\"text-align: right;\">\n",
       "      <th></th>\n",
       "      <th>userId</th>\n",
       "      <th>orders</th>\n",
       "    </tr>\n",
       "  </thead>\n",
       "  <tbody>\n",
       "    <tr>\n",
       "      <th>0</th>\n",
       "      <td>11685486</td>\n",
       "      <td>1</td>\n",
       "    </tr>\n",
       "    <tr>\n",
       "      <th>1</th>\n",
       "      <td>54447517</td>\n",
       "      <td>1</td>\n",
       "    </tr>\n",
       "    <tr>\n",
       "      <th>2</th>\n",
       "      <td>66685450</td>\n",
       "      <td>1</td>\n",
       "    </tr>\n",
       "    <tr>\n",
       "      <th>3</th>\n",
       "      <td>78758296</td>\n",
       "      <td>1</td>\n",
       "    </tr>\n",
       "    <tr>\n",
       "      <th>4</th>\n",
       "      <td>85103373</td>\n",
       "      <td>1</td>\n",
       "    </tr>\n",
       "  </tbody>\n",
       "</table>\n",
       "</div>"
      ],
      "text/plain": [
       "     userId  orders\n",
       "0  11685486       1\n",
       "1  54447517       1\n",
       "2  66685450       1\n",
       "3  78758296       1\n",
       "4  85103373       1"
      ]
     },
     "execution_count": 33,
     "metadata": {},
     "output_type": "execute_result"
    }
   ],
   "source": [
    "ordersByUsersA = (\n",
    "    orders[orders['group'] == 'A']\n",
    "    .groupby('visitorId', as_index=False)\n",
    "    .agg({'transactionId': pd.Series.nunique})\n",
    ")\n",
    "ordersByUsersA.columns = ['userId', 'orders']\n",
    "\n",
    "ordersByUsersB = (\n",
    "    orders[orders['group'] == 'B']\n",
    "    .groupby('visitorId', as_index=False)\n",
    "    .agg({'transactionId': pd.Series.nunique})\n",
    ")\n",
    "ordersByUsersB.columns = ['userId', 'orders'] \n",
    "\n",
    "ordersByUsersA.head()"
   ]
  },
  {
   "cell_type": "markdown",
   "id": "7010461b",
   "metadata": {},
   "source": [
    "Объявим переменные `sampleA` и `sampleB`, в которых пользователям из разных групп будет соответствовать количество заказов. Тем, кто ничего не заказал, будут соответствовать нули. Это нужно, чтобы подготовить выборки к проверке критерием Манна-Уитни."
   ]
  },
  {
   "cell_type": "code",
   "execution_count": 34,
   "id": "5efe4172",
   "metadata": {},
   "outputs": [
    {
     "data": {
      "text/plain": [
       "0    1\n",
       "1    1\n",
       "2    1\n",
       "3    1\n",
       "4    1\n",
       "Name: orders, dtype: int64"
      ]
     },
     "execution_count": 34,
     "metadata": {},
     "output_type": "execute_result"
    }
   ],
   "source": [
    "sampleA = pd.concat([ordersByUsersA['orders'],\n",
    "                     pd.Series(0, index=np.arange(data['visitorsPerDateA'].sum() - len(ordersByUsersA['orders'])),\n",
    "                     name='orders')],\n",
    "                     axis=0)\n",
    "\n",
    "sampleB = pd.concat([ordersByUsersB['orders'],\n",
    "                     pd.Series(0, index=np.arange(data['visitorsPerDateB'].sum() - len(ordersByUsersB['orders'])),\n",
    "                     name='orders')],\n",
    "                     axis=0)\n",
    "sampleA.head()"
   ]
  },
  {
   "cell_type": "markdown",
   "id": "7851dd69",
   "metadata": {},
   "source": [
    "Посчитаем статистическую значимость различия в среднем количестве заказов между группами и относительный прирост среднего числа заказов группы B по сравнению с A."
   ]
  },
  {
   "cell_type": "code",
   "execution_count": 35,
   "id": "42614ac2",
   "metadata": {},
   "outputs": [
    {
     "name": "stdout",
     "output_type": "stream",
     "text": [
      "0.011\n",
      "0.160\n",
      "Отвергаем нулевую гипотезу: разница статистически значима\n"
     ]
    }
   ],
   "source": [
    "# задаем уровень значимости\n",
    "alpha = 0.05\n",
    "\n",
    "# применяем метод Манна-Уитни\n",
    "results = stats.mannwhitneyu(sampleA, sampleB)\n",
    "\n",
    "# выводим p-value\n",
    "print(\"{0:.3f}\".format(results[1]))\n",
    "\n",
    "# выводим относительный прирост\n",
    "print(\"{0:.3f}\".format(sampleB.mean() / sampleA.mean() - 1))\n",
    "\n",
    "if results.pvalue < alpha:\n",
    "    print('Отвергаем нулевую гипотезу: разница статистически значима')\n",
    "else:\n",
    "    print('Не получилось отвергнуть нулевую гипотезу, вывод о различии сделать нельзя') "
   ]
  },
  {
   "cell_type": "markdown",
   "id": "11307f0d",
   "metadata": {},
   "source": [
    "Исходя из результатов: p-value = 1,1%; относительный прирост среднего числа заказов – 16%. \n",
    "\n",
    "Таким образом, поскольку P-value почти в 5 раз меньше, чем alpha, различие в среднем числе заказов присутствует. Отметим, что в предложенной для анализа выборке среднее число заказов в группе B на 16% больше, чем в группе A. Принимаем гипотезу **H1**."
   ]
  },
  {
   "cell_type": "markdown",
   "id": "9652da37",
   "metadata": {},
   "source": [
    "### Расчёт статистической значимости различий в среднем чеке заказа между группами по «сырым» данным"
   ]
  },
  {
   "cell_type": "markdown",
   "id": "15783485",
   "metadata": {},
   "source": [
    "Нулевая гипотеза **H0**: между различий в среднем чеке заказов между группами нет.\n",
    "\n",
    "Альтернативная гипотеза **H1**:  различия в среднем чеке между группами есть. "
   ]
  },
  {
   "cell_type": "code",
   "execution_count": 36,
   "id": "33ffe3b5",
   "metadata": {},
   "outputs": [
    {
     "name": "stdout",
     "output_type": "stream",
     "text": [
      "0.829\n",
      "0.287\n",
      "Не получилось отвергнуть нулевую гипотезу, вывод о различии сделать нельзя\n"
     ]
    }
   ],
   "source": [
    "# применяем метод Манна-Уитни к стоимостям заказов по группам\n",
    "results_revenue = stats.mannwhitneyu(orders[orders['group']=='A']['revenue'],\n",
    "                                     orders[orders['group']=='B']['revenue'])\n",
    "\n",
    "# выводим p-value\n",
    "print('{0:.3f}'.format(results_revenue[1]))\n",
    "\n",
    "# выводим относительный прирост\n",
    "print('{0:.3f}'.format(orders[orders['group']=='B']['revenue'].mean()/orders[orders['group']=='A']['revenue'].mean()-1)) \n",
    "      \n",
    "if results_revenue.pvalue < alpha:\n",
    "    print('Отвергаем нулевую гипотезу: разница статистически значима')\n",
    "else:\n",
    "    print('Не получилось отвергнуть нулевую гипотезу, вывод о различии сделать нельзя') "
   ]
  },
  {
   "cell_type": "markdown",
   "id": "973e0159",
   "metadata": {},
   "source": [
    "P-value = 83%, относительный прирост в среднем чеке – 28,7%. Несмотря на большой относительный прирост в выборке, значение p-value также большое и превосходит alpha. Поэтому вывод о различии делать не можем. Иными словами, 28,7% в выборке не являются статистически значимыми. Гипотезу **H0** не отвергаем."
   ]
  },
  {
   "cell_type": "markdown",
   "id": "77a48791",
   "metadata": {},
   "source": [
    "### Расчёт статистической значимости различий в среднем количестве заказов по посетителям между группами по «очищенным» данным"
   ]
  },
  {
   "cell_type": "markdown",
   "id": "ddbb3709",
   "metadata": {},
   "source": [
    "Нулевая гипотеза **H0**: между различий в среднем количестве заказов между группами нет.\n",
    "\n",
    "Альтернативная гипотеза **H1**:  различия в среднем между группами есть. "
   ]
  },
  {
   "cell_type": "markdown",
   "id": "a811b41a",
   "metadata": {},
   "source": [
    "Как договорились ранее: примем за аномальных пользователей тех, кто совершил от 2 заказов и более или совершил заказ дороже 30 000. \n",
    "\n",
    "Посмотрим на количество таких пользователей и их количество"
   ]
  },
  {
   "cell_type": "code",
   "execution_count": 37,
   "id": "0c1ce32c",
   "metadata": {},
   "outputs": [
    {
     "data": {
      "text/html": [
       "<div>\n",
       "<style scoped>\n",
       "    .dataframe tbody tr th:only-of-type {\n",
       "        vertical-align: middle;\n",
       "    }\n",
       "\n",
       "    .dataframe tbody tr th {\n",
       "        vertical-align: top;\n",
       "    }\n",
       "\n",
       "    .dataframe thead th {\n",
       "        text-align: right;\n",
       "    }\n",
       "</style>\n",
       "<table border=\"1\" class=\"dataframe\">\n",
       "  <thead>\n",
       "    <tr style=\"text-align: right;\">\n",
       "      <th></th>\n",
       "      <th>userId</th>\n",
       "      <th>orders</th>\n",
       "    </tr>\n",
       "  </thead>\n",
       "  <tbody>\n",
       "    <tr>\n",
       "      <th>0</th>\n",
       "      <td>11685486</td>\n",
       "      <td>1</td>\n",
       "    </tr>\n",
       "    <tr>\n",
       "      <th>1</th>\n",
       "      <td>54447517</td>\n",
       "      <td>1</td>\n",
       "    </tr>\n",
       "    <tr>\n",
       "      <th>2</th>\n",
       "      <td>66685450</td>\n",
       "      <td>1</td>\n",
       "    </tr>\n",
       "    <tr>\n",
       "      <th>3</th>\n",
       "      <td>78758296</td>\n",
       "      <td>1</td>\n",
       "    </tr>\n",
       "    <tr>\n",
       "      <th>4</th>\n",
       "      <td>85103373</td>\n",
       "      <td>1</td>\n",
       "    </tr>\n",
       "    <tr>\n",
       "      <th>...</th>\n",
       "      <td>...</td>\n",
       "      <td>...</td>\n",
       "    </tr>\n",
       "    <tr>\n",
       "      <th>440</th>\n",
       "      <td>4227830084</td>\n",
       "      <td>1</td>\n",
       "    </tr>\n",
       "    <tr>\n",
       "      <th>441</th>\n",
       "      <td>4237561104</td>\n",
       "      <td>1</td>\n",
       "    </tr>\n",
       "    <tr>\n",
       "      <th>442</th>\n",
       "      <td>4243832526</td>\n",
       "      <td>1</td>\n",
       "    </tr>\n",
       "    <tr>\n",
       "      <th>443</th>\n",
       "      <td>4259830713</td>\n",
       "      <td>1</td>\n",
       "    </tr>\n",
       "    <tr>\n",
       "      <th>444</th>\n",
       "      <td>4278982564</td>\n",
       "      <td>1</td>\n",
       "    </tr>\n",
       "  </tbody>\n",
       "</table>\n",
       "<p>445 rows × 2 columns</p>\n",
       "</div>"
      ],
      "text/plain": [
       "         userId  orders\n",
       "0      11685486       1\n",
       "1      54447517       1\n",
       "2      66685450       1\n",
       "3      78758296       1\n",
       "4      85103373       1\n",
       "..          ...     ...\n",
       "440  4227830084       1\n",
       "441  4237561104       1\n",
       "442  4243832526       1\n",
       "443  4259830713       1\n",
       "444  4278982564       1\n",
       "\n",
       "[445 rows x 2 columns]"
      ]
     },
     "execution_count": 37,
     "metadata": {},
     "output_type": "execute_result"
    }
   ],
   "source": [
    "ordersByUsersA"
   ]
  },
  {
   "cell_type": "code",
   "execution_count": 38,
   "id": "15b1c7a4",
   "metadata": {},
   "outputs": [
    {
     "name": "stdout",
     "output_type": "stream",
     "text": [
      "1099    148427295\n",
      "928     204675465\n",
      "33      249864742\n",
      "684     358944393\n",
      "36      366673373\n",
      "dtype: int64\n",
      "77\n"
     ]
    }
   ],
   "source": [
    "# выбираем userId пользоваетелей с покупками больше 2 в двух группах и закидываем таких пользователей друг по другом\n",
    "# с помощью pd.concat\n",
    "usersWithManyOrders = pd.concat([ordersByUsersA[ordersByUsersA['orders'] > 1]['userId'],\n",
    "                                 ordersByUsersB[ordersByUsersB['orders'] > 1]['userId']],\n",
    "                                 axis=0)\n",
    "\n",
    "# выбираем visitorId пользователей с большими чеками\n",
    "usersWithExpensiveOrders = orders[orders['revenue'] > 30000]['visitorId']\n",
    "\n",
    "# соединяем обе группы с большими покупками и большими чеками, убирая дубликаты\n",
    "abnormalUsers = (\n",
    "    pd.concat([usersWithManyOrders, usersWithExpensiveOrders], axis=0)\n",
    "    .drop_duplicates()\n",
    "    .sort_values()\n",
    ")\n",
    "print(abnormalUsers.head(5))\n",
    "print(abnormalUsers.shape[0]) "
   ]
  },
  {
   "cell_type": "markdown",
   "id": "eadb990d",
   "metadata": {},
   "source": [
    "Таким образом, у нас 77 аномальных покупателей. Убираем их из `ordersByUsersA` и `ordersByUsersB` "
   ]
  },
  {
   "cell_type": "code",
   "execution_count": 39,
   "id": "09c37f62",
   "metadata": {},
   "outputs": [],
   "source": [
    "sampleAFiltered = pd.concat([ordersByUsersA[np.logical_not(ordersByUsersA['userId'].isin(abnormalUsers))]['orders'],\n",
    "        pd.Series(0, index=np.arange(data['visitorsPerDateA'].sum() - len(ordersByUsersA['orders'])),name='orders')],\n",
    "        axis=0)\n",
    "\n",
    "sampleBFiltered = pd.concat([ordersByUsersB[np.logical_not(ordersByUsersB['userId'].isin(abnormalUsers))]['orders'],\n",
    "        pd.Series(0, index=np.arange(data['visitorsPerDateB'].sum() - len(ordersByUsersB['orders'])),name='orders')],\n",
    "        axis=0)"
   ]
  },
  {
   "cell_type": "markdown",
   "id": "a0f9aafc",
   "metadata": {},
   "source": [
    "Применим статистический критерий Манна-Уитни к полученным выборкам:"
   ]
  },
  {
   "cell_type": "code",
   "execution_count": 40,
   "id": "abf647bf",
   "metadata": {},
   "outputs": [
    {
     "name": "stdout",
     "output_type": "stream",
     "text": [
      "0.013\n",
      "0.180\n",
      "Отвергаем нулевую гипотезу: разница статистически значима\n"
     ]
    }
   ],
   "source": [
    "# задаем уровень значимости\n",
    "alpha = 0.05\n",
    "\n",
    "# применяем метод Манна-Уитни\n",
    "results_withount_anom = stats.mannwhitneyu(sampleAFiltered, sampleBFiltered)\n",
    "\n",
    "# выводим p-value\n",
    "print(\"{0:.3f}\".format(results_withount_anom[1]))\n",
    "\n",
    "# выводим относительный прирост\n",
    "print(\"{0:.3f}\".format(sampleBFiltered.mean() / sampleAFiltered.mean() - 1))\n",
    "\n",
    "if results_withount_anom.pvalue < alpha:\n",
    "    print('Отвергаем нулевую гипотезу: разница статистически значима')\n",
    "else:\n",
    "    print('Не получилось отвергнуть нулевую гипотезу, вывод о различии сделать нельзя') "
   ]
  },
  {
   "cell_type": "markdown",
   "id": "29e5d669",
   "metadata": {},
   "source": [
    "Полученные данные близки к результам с выбросами. \n",
    "\n",
    "**С выбросами** p-value = 1,1%; относительный прирост среднего числа заказов – 16%. \n",
    "\n",
    "**Без выбросов** p-value = 1,3%; относительный прирост среднего числа заказов – 18%. \n",
    "\n",
    "Таким образом, результаты по среднему количеству заказов **практически не изменились**. Разница статистически значима. Принимаем гипотезу **H1**."
   ]
  },
  {
   "cell_type": "markdown",
   "id": "0297134a",
   "metadata": {},
   "source": [
    "### Расчёт статистической значимости различий в среднем чеке заказа между группами по «очищенным» данным"
   ]
  },
  {
   "cell_type": "markdown",
   "id": "997d1aee",
   "metadata": {},
   "source": [
    "Нулевая гипотеза **H0**: между различий в среднем чеке заказов между группами нет.\n",
    "\n",
    "Альтернативная гипотеза **H1**:  различия в среднем чеке между группами есть. "
   ]
  },
  {
   "cell_type": "code",
   "execution_count": 41,
   "id": "813a1d66",
   "metadata": {},
   "outputs": [
    {
     "name": "stdout",
     "output_type": "stream",
     "text": [
      "0.829\n",
      "-0.011\n",
      "Не получилось отвергнуть нулевую гипотезу, вывод о различии сделать нельзя\n"
     ]
    }
   ],
   "source": [
    "# проделываем аналогичные шаги, но уже для трат пользователей\n",
    "sampleAFiltered_revenue = orders[np.logical_and(orders['group'] == 'A',\n",
    "                                                np.logical_not(orders['visitorId'].isin(abnormalUsers)))]['revenue']\n",
    "\n",
    "sampleBFiltered_revenue = orders[np.logical_and(orders['group'] == 'B',\n",
    "                                                np.logical_not(orders['visitorId'].isin(abnormalUsers)))]['revenue']\n",
    "\n",
    "results_wo_anom_rev = stats.mannwhitneyu(sampleAFiltered_revenue, sampleBFiltered_revenue)\n",
    "\n",
    "# выводим p-value\n",
    "print(\"{0:.3f}\".format(results_wo_anom_rev[1]))\n",
    "\n",
    "# выводим относительный прирост\n",
    "print(\"{0:.3f}\".format(sampleBFiltered_revenue.mean() / sampleAFiltered_revenue.mean() - 1))\n",
    "\n",
    "if results_wo_anom_rev.pvalue < alpha:\n",
    "    print('Отвергаем нулевую гипотезу: разница статистически значима')\n",
    "else:\n",
    "    print('Не получилось отвергнуть нулевую гипотезу, вывод о различии сделать нельзя') "
   ]
  },
  {
   "cell_type": "markdown",
   "id": "c6581908",
   "metadata": {},
   "source": [
    "**С выбросами** p-value = 83%; относительный прирост среднего числа заказов – 28,7%. \n",
    "\n",
    "**Без выбросов** p-value = 83%; относительный прирост среднего числа заказов – -1,1%. \n",
    "\n",
    "Таким образом, p-value после удаления выбросов остался прежним (следовательно, гипотезу о равенстве двух средних чеках в группе оставляем). Кроме того, удаление выбросов изменили выборочное среднее. Теперь группа у группы A выборочное среднее на 1,1% выше. Но всё же не является статистически значимым. Гипотезу **H0** не отвергаем."
   ]
  },
  {
   "cell_type": "markdown",
   "id": "fdd49a6f",
   "metadata": {},
   "source": [
    "## Выводы и решение по результатам теста"
   ]
  },
  {
   "cell_type": "markdown",
   "id": "af352482",
   "metadata": {},
   "source": [
    "1. На этапе приоритизации гипотез использовались два фреймворка: ICE и RICE.\n",
    "\n",
    "ТОП-3 гипотез по **ICE**:\n",
    "\n",
    "* 8\tЗапустить акцию, дающую скидку на товар в день рождения\t\n",
    "* 0\tДобавить два новых канала привлечения трафика, что позволит привлекать на 30% больше пользователей\t\n",
    "* 7\tДобавить форму подписки на все основные страницы, чтобы собрать базу клиентов для email-рассылок\t\n",
    "\n",
    "ТОП-3 гипотез по **RICE**:\n",
    "\n",
    "* 7\tДобавить форму подписки на все основные страницы, чтобы собрать базу клиентов для email-рассылок\t\n",
    "* 2\tДобавить блоки рекомендаций товаров на сайт интернет магазина, чтобы повысить конверсию и средний чек заказа\n",
    "* 0\tДобавить два новых канала привлечения трафика, что позволит привлекать на 30% больше пользователей\n",
    "\n",
    "**RICE score** учитывает охваты, поэтому в первую очередь стоит обращать внимание на него. Например, для гипотезы 7: имея базу клиентов, дополнительные рассылки могут побудить сделать больше заказов и, как итог, помочь бизнесу.\n",
    "\n",
    "2. На этапе предобработке данных было выяснено, что некоторые из покупателей попали сразу в две группы. Таких человек оказалось 58, и, чтобы не искажать действительность, было принято от них избавиться.\n",
    "\n",
    "3. На основании изучаемых датасетов был построен ряд графиков и сделаны следующие выводы:\n",
    "\n",
    "* Кумулятивные траты пользователей по дням в разбивке по группам, начиная с определенного момента, лидируют для пользователей из группы B. График не представляет из себя равномерное увеличение трат и имеет резкие скачки. Это может быть связано с аномальным количеством трат в определенный день;\n",
    "\n",
    "* Аналогичная ситуация наблюдается для среднего чека;\n",
    "\n",
    "* Кумулятивое среднее число заказов по посетителям для двух групп указывает, что в начале, до ~ 2019-08-06, группы колеблились, но затем у группы B среднее количество заказов к пользователям вырвалось вперёд и зафиксировалось. У группы A – просело, но тоже зафиксировалось. К концу изучаемого временного периода, относительный прирост среднего количества заказов по посетителям в группе B составлял 15%;\n",
    "\n",
    "* Точечный график заказов на каждого пользователя показал, что совершается в основном одна покупка. Реже 2 и 3. Расчёт 95-го и 99-го процентеля показал, что не более 5% пользователей оформляли больше чем один заказ и не более 1% – больше двух;\n",
    "\n",
    "* Точечный график стоимостей заказов показал, что в данных присутствуют выбросы. В частности, один из заказов превышает 1,2 млн денег. Расчёт 95-го и 99-го процентеля показал, что не более 5% заказов стоят более 26785 денег, не более 1 % – более 53904 денег.\n",
    "\n",
    "Таким образом, для дальнейших вычислений за аномальных принимались такие пользователи, кто совершил от 2 заказов и более или совершил заказ дороже 30 000. Тем самым убирался 5% пользователей с наибольшим числом заказов и от 1% до 5% пользователей с самыми дорогими.\n",
    "\n",
    "4. Расчитывая статистическую значимость различий в среднем количестве заказов по посетителям между группами по \"аномальным\" и \"очищенным\" от аномалий данным, было выяснено:\n",
    "\n",
    "* Учёт аномалий не сильно изменяет результат. Разница между группами статистически значима. Поэтому нулевая гипотеза о равенстве двух групп отклонилась. Заказы увеличились.\n",
    "\n",
    "5. Расчитывая статистическую значимость различий в среднем чеке заказа между группами по \"аномальным\" и \"очищенным\" от аномалий данным, было выяснено:\n",
    "\n",
    "* Относительный прирост среднего чека в группе B по отношению к группе А составил 28,7% и -1,1% по \"аномальным\" и \"очищенным\" от аномалий данных соответственно;\n",
    "\n",
    "* При этом по результатам статистического теста, p-value остался прежним и составлял 83%, что не позволило отвергнуть гипотезу о равенстве двух групп.\n",
    "\n",
    "* Таким образом, прирост в среднем чеке в 28,7% был вызван аномалиями.\n",
    "\n",
    "Исходя из всего вышеописанного, можно принять решение по результатам теста.\n",
    "\n",
    "**Решение по результатам теста**\n",
    "\n",
    "В группе B произошло статистически значимое изменение в среднем количестве заказов на пользователя. При этом статистически значимого изменения в среднем чеке нет. Тестирование необходимо остановить и признать победу группы B.\n"
   ]
  }
 ],
 "metadata": {
  "ExecuteTimeLog": [
   {
    "duration": 52,
    "start_time": "2024-07-07T12:02:38.970Z"
   },
   {
    "duration": 1286,
    "start_time": "2024-07-07T12:02:42.989Z"
   },
   {
    "duration": 101,
    "start_time": "2024-07-07T12:02:45.995Z"
   },
   {
    "duration": 71,
    "start_time": "2024-07-07T12:02:52.738Z"
   },
   {
    "duration": 78,
    "start_time": "2024-07-07T12:03:51.389Z"
   },
   {
    "duration": 10,
    "start_time": "2024-07-07T12:03:56.006Z"
   },
   {
    "duration": 3,
    "start_time": "2024-07-07T12:03:58.247Z"
   },
   {
    "duration": 4,
    "start_time": "2024-07-07T12:04:00.035Z"
   },
   {
    "duration": 43,
    "start_time": "2024-07-07T12:04:02.787Z"
   },
   {
    "duration": 8,
    "start_time": "2024-07-07T12:04:15.456Z"
   },
   {
    "duration": 9,
    "start_time": "2024-07-07T12:04:19.245Z"
   },
   {
    "duration": 8,
    "start_time": "2024-07-07T12:04:26.346Z"
   },
   {
    "duration": 9,
    "start_time": "2024-07-07T12:04:28.782Z"
   },
   {
    "duration": 9,
    "start_time": "2024-07-07T12:04:41.392Z"
   },
   {
    "duration": 10,
    "start_time": "2024-07-07T12:04:44.003Z"
   },
   {
    "duration": 8,
    "start_time": "2024-07-07T12:04:48.872Z"
   },
   {
    "duration": 9,
    "start_time": "2024-07-07T12:04:50.892Z"
   },
   {
    "duration": 8,
    "start_time": "2024-07-07T12:11:23.157Z"
   },
   {
    "duration": 10,
    "start_time": "2024-07-07T12:11:26.070Z"
   },
   {
    "duration": 2,
    "start_time": "2024-07-07T12:17:26.644Z"
   },
   {
    "duration": 64,
    "start_time": "2024-07-07T12:17:26.648Z"
   },
   {
    "duration": 8,
    "start_time": "2024-07-07T12:17:26.713Z"
   },
   {
    "duration": 9,
    "start_time": "2024-07-07T12:17:26.722Z"
   },
   {
    "duration": 4,
    "start_time": "2024-07-07T12:17:26.733Z"
   },
   {
    "duration": 8,
    "start_time": "2024-07-07T12:17:26.738Z"
   },
   {
    "duration": 8,
    "start_time": "2024-07-07T12:17:26.748Z"
   },
   {
    "duration": 196,
    "start_time": "2024-07-07T12:17:26.758Z"
   },
   {
    "duration": 8,
    "start_time": "2024-07-07T12:17:26.955Z"
   },
   {
    "duration": 7,
    "start_time": "2024-07-07T12:17:26.965Z"
   },
   {
    "duration": 20,
    "start_time": "2024-07-07T12:17:26.973Z"
   },
   {
    "duration": 67,
    "start_time": "2024-07-07T12:17:26.994Z"
   },
   {
    "duration": 4,
    "start_time": "2024-07-07T12:17:27.062Z"
   },
   {
    "duration": 6,
    "start_time": "2024-07-07T12:17:27.068Z"
   },
   {
    "duration": 4,
    "start_time": "2024-07-07T12:17:27.076Z"
   },
   {
    "duration": 10,
    "start_time": "2024-07-07T12:17:27.081Z"
   },
   {
    "duration": 19,
    "start_time": "2024-07-07T12:17:27.093Z"
   },
   {
    "duration": 10,
    "start_time": "2024-07-07T12:17:27.114Z"
   },
   {
    "duration": 168,
    "start_time": "2024-07-07T12:17:27.125Z"
   },
   {
    "duration": 121,
    "start_time": "2024-07-07T12:17:27.294Z"
   },
   {
    "duration": 11,
    "start_time": "2024-07-07T12:17:27.417Z"
   },
   {
    "duration": 259,
    "start_time": "2024-07-07T12:17:27.429Z"
   },
   {
    "duration": 184,
    "start_time": "2024-07-07T12:17:27.690Z"
   },
   {
    "duration": 337,
    "start_time": "2024-07-07T12:17:27.876Z"
   },
   {
    "duration": 187,
    "start_time": "2024-07-07T12:17:28.214Z"
   },
   {
    "duration": 300,
    "start_time": "2024-07-07T12:17:28.402Z"
   },
   {
    "duration": 15,
    "start_time": "2024-07-07T12:17:28.703Z"
   },
   {
    "duration": 138,
    "start_time": "2024-07-07T12:17:28.719Z"
   },
   {
    "duration": 4,
    "start_time": "2024-07-07T12:17:28.858Z"
   },
   {
    "duration": 172,
    "start_time": "2024-07-07T12:17:28.864Z"
   },
   {
    "duration": 4,
    "start_time": "2024-07-07T12:17:29.038Z"
   },
   {
    "duration": 199,
    "start_time": "2024-07-07T12:17:29.044Z"
   },
   {
    "duration": 132,
    "start_time": "2024-07-07T12:17:29.244Z"
   },
   {
    "duration": 7,
    "start_time": "2024-07-07T12:17:29.377Z"
   },
   {
    "duration": 38,
    "start_time": "2024-07-07T12:17:29.385Z"
   },
   {
    "duration": 8,
    "start_time": "2024-07-07T12:17:29.425Z"
   },
   {
    "duration": 34,
    "start_time": "2024-07-07T12:17:29.435Z"
   },
   {
    "duration": 23,
    "start_time": "2024-07-07T12:17:29.470Z"
   },
   {
    "duration": 7,
    "start_time": "2024-07-07T12:17:29.494Z"
   },
   {
    "duration": 20,
    "start_time": "2024-07-07T12:17:29.502Z"
   },
   {
    "duration": 8,
    "start_time": "2024-07-07T12:17:29.526Z"
   },
   {
    "duration": 1089,
    "start_time": "2024-07-07T12:20:12.501Z"
   },
   {
    "duration": 65,
    "start_time": "2024-07-07T12:20:13.592Z"
   },
   {
    "duration": 9,
    "start_time": "2024-07-07T12:20:13.659Z"
   },
   {
    "duration": 9,
    "start_time": "2024-07-07T12:20:13.669Z"
   },
   {
    "duration": 5,
    "start_time": "2024-07-07T12:20:13.679Z"
   },
   {
    "duration": 42,
    "start_time": "2024-07-07T12:20:13.685Z"
   },
   {
    "duration": 9,
    "start_time": "2024-07-07T12:20:13.729Z"
   },
   {
    "duration": 84,
    "start_time": "2024-07-07T12:20:13.740Z"
   },
   {
    "duration": 9,
    "start_time": "2024-07-07T12:20:13.826Z"
   },
   {
    "duration": 4,
    "start_time": "2024-07-07T12:20:13.837Z"
   },
   {
    "duration": 7,
    "start_time": "2024-07-07T12:20:13.842Z"
   },
   {
    "duration": 91,
    "start_time": "2024-07-07T12:20:13.851Z"
   },
   {
    "duration": 4,
    "start_time": "2024-07-07T12:20:13.943Z"
   },
   {
    "duration": 6,
    "start_time": "2024-07-07T12:20:13.949Z"
   },
   {
    "duration": 6,
    "start_time": "2024-07-07T12:20:13.956Z"
   },
   {
    "duration": 8,
    "start_time": "2024-07-07T12:20:13.964Z"
   },
   {
    "duration": 5,
    "start_time": "2024-07-07T12:20:13.973Z"
   },
   {
    "duration": 7,
    "start_time": "2024-07-07T12:20:13.979Z"
   },
   {
    "duration": 169,
    "start_time": "2024-07-07T12:20:13.988Z"
   },
   {
    "duration": 117,
    "start_time": "2024-07-07T12:20:14.158Z"
   },
   {
    "duration": 10,
    "start_time": "2024-07-07T12:20:14.276Z"
   },
   {
    "duration": 334,
    "start_time": "2024-07-07T12:20:14.288Z"
   },
   {
    "duration": 177,
    "start_time": "2024-07-07T12:20:14.624Z"
   },
   {
    "duration": 284,
    "start_time": "2024-07-07T12:20:14.802Z"
   },
   {
    "duration": 208,
    "start_time": "2024-07-07T12:20:15.087Z"
   },
   {
    "duration": 308,
    "start_time": "2024-07-07T12:20:15.297Z"
   },
   {
    "duration": 8,
    "start_time": "2024-07-07T12:20:15.611Z"
   },
   {
    "duration": 135,
    "start_time": "2024-07-07T12:20:15.623Z"
   },
   {
    "duration": 4,
    "start_time": "2024-07-07T12:20:15.760Z"
   },
   {
    "duration": 190,
    "start_time": "2024-07-07T12:20:15.766Z"
   },
   {
    "duration": 5,
    "start_time": "2024-07-07T12:20:15.957Z"
   },
   {
    "duration": 201,
    "start_time": "2024-07-07T12:20:15.963Z"
   },
   {
    "duration": 122,
    "start_time": "2024-07-07T12:20:16.165Z"
   },
   {
    "duration": 7,
    "start_time": "2024-07-07T12:20:16.289Z"
   },
   {
    "duration": 99,
    "start_time": "2024-07-07T12:20:16.297Z"
   },
   {
    "duration": 10,
    "start_time": "2024-07-07T12:20:16.398Z"
   },
   {
    "duration": 9,
    "start_time": "2024-07-07T12:20:16.409Z"
   },
   {
    "duration": 11,
    "start_time": "2024-07-07T12:20:16.419Z"
   },
   {
    "duration": 12,
    "start_time": "2024-07-07T12:20:16.431Z"
   },
   {
    "duration": 21,
    "start_time": "2024-07-07T12:20:16.445Z"
   },
   {
    "duration": 11,
    "start_time": "2024-07-07T12:20:16.467Z"
   }
  ],
  "kernelspec": {
   "display_name": "Python 3 (ipykernel)",
   "language": "python",
   "name": "python3"
  },
  "language_info": {
   "codemirror_mode": {
    "name": "ipython",
    "version": 3
   },
   "file_extension": ".py",
   "mimetype": "text/x-python",
   "name": "python",
   "nbconvert_exporter": "python",
   "pygments_lexer": "ipython3",
   "version": "3.9.18"
  },
  "toc": {
   "base_numbering": 1,
   "nav_menu": {},
   "number_sections": true,
   "sideBar": true,
   "skip_h1_title": true,
   "title_cell": "Содержание ",
   "title_sidebar": "Contents",
   "toc_cell": true,
   "toc_position": {
    "height": "calc(100% - 180px)",
    "left": "10px",
    "top": "150px",
    "width": "307.194px"
   },
   "toc_section_display": true,
   "toc_window_display": true
  }
 },
 "nbformat": 4,
 "nbformat_minor": 5
}
