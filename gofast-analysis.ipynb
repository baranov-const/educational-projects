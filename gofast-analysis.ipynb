{
 "cells": [
  {
   "cell_type": "markdown",
   "id": "aacb1ab0",
   "metadata": {},
   "source": [
    "# Аналитика сервиса самокатов GoFast"
   ]
  },
  {
   "cell_type": "markdown",
   "id": "2a1e5757",
   "metadata": {},
   "source": [
    "**Заказчик исследования:** сервис по прокату самокатов GoFast.\n",
    "\n",
    "**Цель исследования:** проанализировать данные и провести проверку гипотез, которые будут способствовать росту бизнеса.\n",
    "\n",
    "Исследование базируется на данных о некоторых пользователях из нескольких городов, а также об их поездках.\n",
    "\n",
    "**Немного информации о сервисе**\n",
    "\n",
    "Чтобы совершать поездки по городу, пользователи сервиса GoFast пользуются мобильным приложением. Сервисом можно пользоваться:\n",
    "- без подписки\n",
    "    - абонентская плата отсутствует;\n",
    "    - стоимость одной минуты поездки — 8 рублей;\n",
    "    - стоимость старта (начала поездки) — 50 рублей;\n",
    "- с подпиской Ultra       \n",
    "    - абонентская плата — 199 рублей в месяц;\n",
    "    - стоимость одной минуты поездки — 6 рублей;\n",
    "    - стоимость старта — бесплатно.\n"
   ]
  },
  {
   "cell_type": "markdown",
   "id": "6cbd0d4d",
   "metadata": {
    "toc": true
   },
   "source": [
    "<h1>Содержание <span class=\"tocSkip\"></span></h1>\n",
    "<div class=\"toc\"><ul class=\"toc-item\"><li><span><a href=\"#Описание-данных\" data-toc-modified-id=\"Описание-данных-1\"><span class=\"toc-item-num\">1&nbsp;&nbsp;</span>Описание данных</a></span></li><li><span><a href=\"#Обзор-данных\" data-toc-modified-id=\"Обзор-данных-2\"><span class=\"toc-item-num\">2&nbsp;&nbsp;</span>Обзор данных</a></span></li><li><span><a href=\"#Предобработка-данных\" data-toc-modified-id=\"Предобработка-данных-3\"><span class=\"toc-item-num\">3&nbsp;&nbsp;</span>Предобработка данных</a></span></li><li><span><a href=\"#Исследовательский-анализ-данных\" data-toc-modified-id=\"Исследовательский-анализ-данных-4\"><span class=\"toc-item-num\">4&nbsp;&nbsp;</span>Исследовательский анализ данных</a></span><ul class=\"toc-item\"><li><span><a href=\"#Частота-встречаемости-городов\" data-toc-modified-id=\"Частота-встречаемости-городов-4.1\"><span class=\"toc-item-num\">4.1&nbsp;&nbsp;</span>Частота встречаемости городов</a></span></li><li><span><a href=\"#Соотношение-пользователей-с-подпиской-и-без-подписки\" data-toc-modified-id=\"Соотношение-пользователей-с-подпиской-и-без-подписки-4.2\"><span class=\"toc-item-num\">4.2&nbsp;&nbsp;</span>Соотношение пользователей с подпиской и без подписки</a></span></li><li><span><a href=\"#Возраст-пользователей\" data-toc-modified-id=\"Возраст-пользователей-4.3\"><span class=\"toc-item-num\">4.3&nbsp;&nbsp;</span>Возраст пользователей</a></span></li><li><span><a href=\"#Расстояние,-которое-пользователь-преодолел-за-одну-поездку\" data-toc-modified-id=\"Расстояние,-которое-пользователь-преодолел-за-одну-поездку-4.4\"><span class=\"toc-item-num\">4.4&nbsp;&nbsp;</span>Расстояние, которое пользователь преодолел за одну поездку</a></span></li><li><span><a href=\"#Продолжительность-поездок\" data-toc-modified-id=\"Продолжительность-поездок-4.5\"><span class=\"toc-item-num\">4.5&nbsp;&nbsp;</span>Продолжительность поездок</a></span></li></ul></li><li><span><a href=\"#Объединение-данных\" data-toc-modified-id=\"Объединение-данных-5\"><span class=\"toc-item-num\">5&nbsp;&nbsp;</span>Объединение данных</a></span><ul class=\"toc-item\"><li><span><a href=\"#Объединение-трёх-таблиц\" data-toc-modified-id=\"Объединение-трёх-таблиц-5.1\"><span class=\"toc-item-num\">5.1&nbsp;&nbsp;</span>Объединение трёх таблиц</a></span></li><li><span><a href=\"#Создание-отдельных-датафреймов-с-подписками-и-без\" data-toc-modified-id=\"Создание-отдельных-датафреймов-с-подписками-и-без-5.2\"><span class=\"toc-item-num\">5.2&nbsp;&nbsp;</span>Создание отдельных датафреймов с подписками и без</a></span></li><li><span><a href=\"#Визуализация-информации-о-расстоянии-и-времени-поездок-для-пользователей-обеих-категорий\" data-toc-modified-id=\"Визуализация-информации-о-расстоянии-и-времени-поездок-для-пользователей-обеих-категорий-5.3\"><span class=\"toc-item-num\">5.3&nbsp;&nbsp;</span>Визуализация информации о расстоянии и времени поездок для пользователей обеих категорий</a></span><ul class=\"toc-item\"><li><span><a href=\"#Информация-о-расстоянии\" data-toc-modified-id=\"Информация-о-расстоянии-5.3.1\"><span class=\"toc-item-num\">5.3.1&nbsp;&nbsp;</span>Информация о расстоянии</a></span></li><li><span><a href=\"#Информация-о-времени\" data-toc-modified-id=\"Информация-о-времени-5.3.2\"><span class=\"toc-item-num\">5.3.2&nbsp;&nbsp;</span>Информация о времени</a></span></li></ul></li></ul></li><li><span><a href=\"#Подсчёт-выручки\" data-toc-modified-id=\"Подсчёт-выручки-6\"><span class=\"toc-item-num\">6&nbsp;&nbsp;</span>Подсчёт выручки</a></span><ul class=\"toc-item\"><li><span><a href=\"#Создание-датафрейма-с-суммарным-расстоянием,-количеством-поездок-и-суммарным-временем-для-каждого-пользователя-в-месяц\" data-toc-modified-id=\"Создание-датафрейма-с-суммарным-расстоянием,-количеством-поездок-и-суммарным-временем-для-каждого-пользователя-в-месяц-6.1\"><span class=\"toc-item-num\">6.1&nbsp;&nbsp;</span>Создание датафрейма с суммарным расстоянием, количеством поездок и суммарным временем для каждого пользователя в месяц</a></span></li><li><span><a href=\"#Добавление-столбца-с-оплатой-каждого-пользователя-за-месяц\" data-toc-modified-id=\"Добавление-столбца-с-оплатой-каждого-пользователя-за-месяц-6.2\"><span class=\"toc-item-num\">6.2&nbsp;&nbsp;</span>Добавление столбца с оплатой каждого пользователя за месяц</a></span></li></ul></li><li><span><a href=\"#Проверка-гипотез\" data-toc-modified-id=\"Проверка-гипотез-7\"><span class=\"toc-item-num\">7&nbsp;&nbsp;</span>Проверка гипотез</a></span><ul class=\"toc-item\"><li><span><a href=\"#Гипотеза-1\" data-toc-modified-id=\"Гипотеза-1-7.1\"><span class=\"toc-item-num\">7.1&nbsp;&nbsp;</span>Гипотеза 1</a></span></li><li><span><a href=\"#Гипотеза-2\" data-toc-modified-id=\"Гипотеза-2-7.2\"><span class=\"toc-item-num\">7.2&nbsp;&nbsp;</span>Гипотеза 2</a></span></li><li><span><a href=\"#Гипотеза-3\" data-toc-modified-id=\"Гипотеза-3-7.3\"><span class=\"toc-item-num\">7.3&nbsp;&nbsp;</span>Гипотеза 3</a></span></li></ul></li><li><span><a href=\"#Распределения\" data-toc-modified-id=\"Распределения-8\"><span class=\"toc-item-num\">8&nbsp;&nbsp;</span>Распределения</a></span><ul class=\"toc-item\"><li><span><a href=\"#Задача-1\" data-toc-modified-id=\"Задача-1-8.1\"><span class=\"toc-item-num\">8.1&nbsp;&nbsp;</span>Задача 1</a></span></li><li><span><a href=\"#Задача-2\" data-toc-modified-id=\"Задача-2-8.2\"><span class=\"toc-item-num\">8.2&nbsp;&nbsp;</span>Задача 2</a></span></li></ul></li><li><span><a href=\"#Вывод\" data-toc-modified-id=\"Вывод-9\"><span class=\"toc-item-num\">9&nbsp;&nbsp;</span>Вывод</a></span></li></ul></div>"
   ]
  },
  {
   "cell_type": "markdown",
   "id": "a159274d",
   "metadata": {},
   "source": [
    "## Описание данных"
   ]
  },
  {
   "cell_type": "markdown",
   "id": "f232b748",
   "metadata": {},
   "source": [
    "**Описание полей в датасетах**\n",
    "\n",
    "Пользователи — `users_go.csv`\n",
    "\n",
    "- `user_id` — уникальный идентификатор пользователя\n",
    "- `name` — имя пользователя\n",
    "- `age` — возраст\n",
    "- `city` — город\n",
    "- `subscription_type` — тип подписки (free, ultra)\n",
    "\n",
    "Поeздки — `rides_go.csv`\n",
    "\n",
    "- `user_id` — уникальный идентификатор пользователя\n",
    "- `distance` — расстояние, которое пользователь проехал в текущей сессии (в метрах)\n",
    "- `duration` — продолжительность сессии (в минутах) — время с того момента, как пользователь нажал кнопку «Начать поездку» до момента, как он нажал кнопку «Завершить поездку»\n",
    "- `date` — дата совершения поездки\n",
    "\n",
    "Подписки — `subscriptions_go.csv`\n",
    "\n",
    "- `subscription_type` — тип подписки\n",
    "- `minute_price` — стоимость одной минуты поездки по данной подписке\n",
    "- `start_ride_price` — стоимость начала поездки\n",
    "- `subscription_fee` — стоимость ежемесячного платежа"
   ]
  },
  {
   "cell_type": "code",
   "execution_count": 1,
   "id": "fb2dbce5",
   "metadata": {},
   "outputs": [],
   "source": [
    "import pandas as pd\n",
    "import numpy as np\n",
    "import matplotlib.pyplot as plt\n",
    "from scipy import stats as st\n",
    "from math import factorial, exp\n",
    "from scipy.stats import poisson"
   ]
  },
  {
   "cell_type": "markdown",
   "id": "d129719c",
   "metadata": {},
   "source": [
    "---"
   ]
  },
  {
   "cell_type": "markdown",
   "id": "a509a514",
   "metadata": {},
   "source": [
    "## Обзор данных"
   ]
  },
  {
   "cell_type": "code",
   "execution_count": 2,
   "id": "3ce92bdd",
   "metadata": {},
   "outputs": [
    {
     "data": {
      "text/html": [
       "<div>\n",
       "<style scoped>\n",
       "    .dataframe tbody tr th:only-of-type {\n",
       "        vertical-align: middle;\n",
       "    }\n",
       "\n",
       "    .dataframe tbody tr th {\n",
       "        vertical-align: top;\n",
       "    }\n",
       "\n",
       "    .dataframe thead th {\n",
       "        text-align: right;\n",
       "    }\n",
       "</style>\n",
       "<table border=\"1\" class=\"dataframe\">\n",
       "  <thead>\n",
       "    <tr style=\"text-align: right;\">\n",
       "      <th></th>\n",
       "      <th>user_id</th>\n",
       "      <th>name</th>\n",
       "      <th>age</th>\n",
       "      <th>city</th>\n",
       "      <th>subscription_type</th>\n",
       "    </tr>\n",
       "  </thead>\n",
       "  <tbody>\n",
       "    <tr>\n",
       "      <th>0</th>\n",
       "      <td>1</td>\n",
       "      <td>Кира</td>\n",
       "      <td>22</td>\n",
       "      <td>Тюмень</td>\n",
       "      <td>ultra</td>\n",
       "    </tr>\n",
       "    <tr>\n",
       "      <th>1</th>\n",
       "      <td>2</td>\n",
       "      <td>Станислав</td>\n",
       "      <td>31</td>\n",
       "      <td>Омск</td>\n",
       "      <td>ultra</td>\n",
       "    </tr>\n",
       "    <tr>\n",
       "      <th>2</th>\n",
       "      <td>3</td>\n",
       "      <td>Алексей</td>\n",
       "      <td>20</td>\n",
       "      <td>Москва</td>\n",
       "      <td>ultra</td>\n",
       "    </tr>\n",
       "    <tr>\n",
       "      <th>3</th>\n",
       "      <td>4</td>\n",
       "      <td>Константин</td>\n",
       "      <td>26</td>\n",
       "      <td>Ростов-на-Дону</td>\n",
       "      <td>ultra</td>\n",
       "    </tr>\n",
       "    <tr>\n",
       "      <th>4</th>\n",
       "      <td>5</td>\n",
       "      <td>Адель</td>\n",
       "      <td>28</td>\n",
       "      <td>Омск</td>\n",
       "      <td>ultra</td>\n",
       "    </tr>\n",
       "  </tbody>\n",
       "</table>\n",
       "</div>"
      ],
      "text/plain": [
       "   user_id        name  age            city subscription_type\n",
       "0        1        Кира   22          Тюмень             ultra\n",
       "1        2   Станислав   31            Омск             ultra\n",
       "2        3     Алексей   20          Москва             ultra\n",
       "3        4  Константин   26  Ростов-на-Дону             ultra\n",
       "4        5       Адель   28            Омск             ultra"
      ]
     },
     "metadata": {},
     "output_type": "display_data"
    },
    {
     "name": "stdout",
     "output_type": "stream",
     "text": [
      "<class 'pandas.core.frame.DataFrame'>\n",
      "RangeIndex: 1565 entries, 0 to 1564\n",
      "Data columns (total 5 columns):\n",
      " #   Column             Non-Null Count  Dtype \n",
      "---  ------             --------------  ----- \n",
      " 0   user_id            1565 non-null   int64 \n",
      " 1   name               1565 non-null   object\n",
      " 2   age                1565 non-null   int64 \n",
      " 3   city               1565 non-null   object\n",
      " 4   subscription_type  1565 non-null   object\n",
      "dtypes: int64(2), object(3)\n",
      "memory usage: 61.3+ KB\n"
     ]
    }
   ],
   "source": [
    "# загружаем датасет users_go\n",
    "try:\n",
    "    users = pd.read_csv(r'C:\\Users\\baran\\data analysis\\datasets\\спринт 4\\users_go.csv')\n",
    "except:\n",
    "    users = pd.read_csv('/datasets/users_go.csv')\n",
    "    \n",
    "display(users.head())\n",
    "users.info()"
   ]
  },
  {
   "cell_type": "markdown",
   "id": "01f800ef",
   "metadata": {},
   "source": [
    "В таблице **users** наблюдается 1565 строк. Пропусков нет. Типы данных в порядке. "
   ]
  },
  {
   "cell_type": "code",
   "execution_count": 3,
   "id": "7490c2b9",
   "metadata": {},
   "outputs": [
    {
     "data": {
      "text/html": [
       "<div>\n",
       "<style scoped>\n",
       "    .dataframe tbody tr th:only-of-type {\n",
       "        vertical-align: middle;\n",
       "    }\n",
       "\n",
       "    .dataframe tbody tr th {\n",
       "        vertical-align: top;\n",
       "    }\n",
       "\n",
       "    .dataframe thead th {\n",
       "        text-align: right;\n",
       "    }\n",
       "</style>\n",
       "<table border=\"1\" class=\"dataframe\">\n",
       "  <thead>\n",
       "    <tr style=\"text-align: right;\">\n",
       "      <th></th>\n",
       "      <th>user_id</th>\n",
       "      <th>distance</th>\n",
       "      <th>duration</th>\n",
       "      <th>date</th>\n",
       "    </tr>\n",
       "  </thead>\n",
       "  <tbody>\n",
       "    <tr>\n",
       "      <th>0</th>\n",
       "      <td>1</td>\n",
       "      <td>4409.919140</td>\n",
       "      <td>25.599769</td>\n",
       "      <td>2021-01-01</td>\n",
       "    </tr>\n",
       "    <tr>\n",
       "      <th>1</th>\n",
       "      <td>1</td>\n",
       "      <td>2617.592153</td>\n",
       "      <td>15.816871</td>\n",
       "      <td>2021-01-18</td>\n",
       "    </tr>\n",
       "    <tr>\n",
       "      <th>2</th>\n",
       "      <td>1</td>\n",
       "      <td>754.159807</td>\n",
       "      <td>6.232113</td>\n",
       "      <td>2021-04-20</td>\n",
       "    </tr>\n",
       "    <tr>\n",
       "      <th>3</th>\n",
       "      <td>1</td>\n",
       "      <td>2694.783254</td>\n",
       "      <td>18.511000</td>\n",
       "      <td>2021-08-11</td>\n",
       "    </tr>\n",
       "    <tr>\n",
       "      <th>4</th>\n",
       "      <td>1</td>\n",
       "      <td>4028.687306</td>\n",
       "      <td>26.265803</td>\n",
       "      <td>2021-08-28</td>\n",
       "    </tr>\n",
       "  </tbody>\n",
       "</table>\n",
       "</div>"
      ],
      "text/plain": [
       "   user_id     distance   duration        date\n",
       "0        1  4409.919140  25.599769  2021-01-01\n",
       "1        1  2617.592153  15.816871  2021-01-18\n",
       "2        1   754.159807   6.232113  2021-04-20\n",
       "3        1  2694.783254  18.511000  2021-08-11\n",
       "4        1  4028.687306  26.265803  2021-08-28"
      ]
     },
     "metadata": {},
     "output_type": "display_data"
    },
    {
     "name": "stdout",
     "output_type": "stream",
     "text": [
      "<class 'pandas.core.frame.DataFrame'>\n",
      "RangeIndex: 18068 entries, 0 to 18067\n",
      "Data columns (total 4 columns):\n",
      " #   Column    Non-Null Count  Dtype  \n",
      "---  ------    --------------  -----  \n",
      " 0   user_id   18068 non-null  int64  \n",
      " 1   distance  18068 non-null  float64\n",
      " 2   duration  18068 non-null  float64\n",
      " 3   date      18068 non-null  object \n",
      "dtypes: float64(2), int64(1), object(1)\n",
      "memory usage: 564.8+ KB\n"
     ]
    }
   ],
   "source": [
    "# загружаем датасет rides_go\n",
    "try:\n",
    "    rides = pd.read_csv(r'C:\\Users\\baran\\data analysis\\datasets\\спринт 4\\rides_go.csv')\n",
    "except:\n",
    "    rides = pd.read_csv(r\"/datasets/rides_go.csv\")\n",
    "\n",
    "display(rides.head())\n",
    "rides.info()"
   ]
  },
  {
   "cell_type": "markdown",
   "id": "024ff1fc",
   "metadata": {},
   "source": [
    "В таблице **rides** 18068 строк. Пропусков нет. Дата совершения поездки в неудобном формате. На этапе предобработки данных исправим это."
   ]
  },
  {
   "cell_type": "code",
   "execution_count": 4,
   "id": "7c5e5280",
   "metadata": {},
   "outputs": [
    {
     "data": {
      "text/html": [
       "<div>\n",
       "<style scoped>\n",
       "    .dataframe tbody tr th:only-of-type {\n",
       "        vertical-align: middle;\n",
       "    }\n",
       "\n",
       "    .dataframe tbody tr th {\n",
       "        vertical-align: top;\n",
       "    }\n",
       "\n",
       "    .dataframe thead th {\n",
       "        text-align: right;\n",
       "    }\n",
       "</style>\n",
       "<table border=\"1\" class=\"dataframe\">\n",
       "  <thead>\n",
       "    <tr style=\"text-align: right;\">\n",
       "      <th></th>\n",
       "      <th>subscription_type</th>\n",
       "      <th>minute_price</th>\n",
       "      <th>start_ride_price</th>\n",
       "      <th>subscription_fee</th>\n",
       "    </tr>\n",
       "  </thead>\n",
       "  <tbody>\n",
       "    <tr>\n",
       "      <th>0</th>\n",
       "      <td>free</td>\n",
       "      <td>8</td>\n",
       "      <td>50</td>\n",
       "      <td>0</td>\n",
       "    </tr>\n",
       "    <tr>\n",
       "      <th>1</th>\n",
       "      <td>ultra</td>\n",
       "      <td>6</td>\n",
       "      <td>0</td>\n",
       "      <td>199</td>\n",
       "    </tr>\n",
       "  </tbody>\n",
       "</table>\n",
       "</div>"
      ],
      "text/plain": [
       "  subscription_type  minute_price  start_ride_price  subscription_fee\n",
       "0              free             8                50                 0\n",
       "1             ultra             6                 0               199"
      ]
     },
     "metadata": {},
     "output_type": "display_data"
    },
    {
     "name": "stdout",
     "output_type": "stream",
     "text": [
      "<class 'pandas.core.frame.DataFrame'>\n",
      "RangeIndex: 2 entries, 0 to 1\n",
      "Data columns (total 4 columns):\n",
      " #   Column             Non-Null Count  Dtype \n",
      "---  ------             --------------  ----- \n",
      " 0   subscription_type  2 non-null      object\n",
      " 1   minute_price       2 non-null      int64 \n",
      " 2   start_ride_price   2 non-null      int64 \n",
      " 3   subscription_fee   2 non-null      int64 \n",
      "dtypes: int64(3), object(1)\n",
      "memory usage: 192.0+ bytes\n"
     ]
    }
   ],
   "source": [
    "# загружаем датасет subscriptions_go\n",
    "try:\n",
    "    sub = pd.read_csv(r'C:\\Users\\baran\\data analysis\\datasets\\спринт 4\\subscriptions_go.csv')\n",
    "except:\n",
    "    sub = pd.read_csv(r\"/datasets/subscriptions_go.csv\")\n",
    "\n",
    "display(sub.head())\n",
    "sub.info()"
   ]
  },
  {
   "cell_type": "markdown",
   "id": "496431d9",
   "metadata": {},
   "source": [
    "В таблице **sub** всего две строки. Пропущенных значений нет. Тип данных везде корректный."
   ]
  },
  {
   "cell_type": "markdown",
   "id": "e40d1df8",
   "metadata": {},
   "source": [
    "---"
   ]
  },
  {
   "cell_type": "markdown",
   "id": "3ab55859",
   "metadata": {},
   "source": [
    "## Предобработка данных"
   ]
  },
  {
   "cell_type": "markdown",
   "id": "1c8af7fe",
   "metadata": {},
   "source": [
    "Изменим тип данных для столбца **date** таблицы **rides**. Затем добавим столбец **month** с номером месяца."
   ]
  },
  {
   "cell_type": "code",
   "execution_count": 5,
   "id": "e6d4b780",
   "metadata": {},
   "outputs": [
    {
     "name": "stdout",
     "output_type": "stream",
     "text": [
      "<class 'pandas.core.frame.DataFrame'>\n",
      "RangeIndex: 18068 entries, 0 to 18067\n",
      "Data columns (total 5 columns):\n",
      " #   Column    Non-Null Count  Dtype         \n",
      "---  ------    --------------  -----         \n",
      " 0   user_id   18068 non-null  int64         \n",
      " 1   distance  18068 non-null  float64       \n",
      " 2   duration  18068 non-null  float64       \n",
      " 3   date      18068 non-null  datetime64[ns]\n",
      " 4   month     18068 non-null  int64         \n",
      "dtypes: datetime64[ns](1), float64(2), int64(2)\n",
      "memory usage: 705.9 KB\n"
     ]
    }
   ],
   "source": [
    "rides['date'] = pd.to_datetime(rides['date'], format='%Y-%m-%d') # изменяем \n",
    "rides['month'] = rides['date'].dt.month # добавление столбца с номером месяца\n",
    "rides.info() # проверяем"
   ]
  },
  {
   "cell_type": "markdown",
   "id": "ee91899e",
   "metadata": {},
   "source": [
    "Проверим количество явных дубликатов в таблице **users**"
   ]
  },
  {
   "cell_type": "code",
   "execution_count": 6,
   "id": "8627fd74",
   "metadata": {},
   "outputs": [
    {
     "data": {
      "text/plain": [
       "31"
      ]
     },
     "execution_count": 6,
     "metadata": {},
     "output_type": "execute_result"
    }
   ],
   "source": [
    "users.duplicated().sum()"
   ]
  },
  {
   "cell_type": "markdown",
   "id": "7c837bed",
   "metadata": {},
   "source": [
    "Удалим их и заменим индексы на новые"
   ]
  },
  {
   "cell_type": "code",
   "execution_count": 7,
   "id": "dbc1cda1",
   "metadata": {},
   "outputs": [],
   "source": [
    "users = users.drop_duplicates().reset_index(drop=True)"
   ]
  },
  {
   "cell_type": "markdown",
   "id": "0bc0c08a",
   "metadata": {},
   "source": [
    "Запомним количество строк для датасетов"
   ]
  },
  {
   "cell_type": "code",
   "execution_count": 8,
   "id": "8c833492",
   "metadata": {},
   "outputs": [],
   "source": [
    "len_users = users.shape[0]\n",
    "len_rides = rides.shape[0]"
   ]
  },
  {
   "cell_type": "markdown",
   "id": "66252daf",
   "metadata": {},
   "source": [
    "**Вывод:** на этапе предобработки данных был удалён 31 дубликат. Был исправлен тип данных в столбце **date** таблицы **rides**. "
   ]
  },
  {
   "cell_type": "markdown",
   "id": "fe049acc",
   "metadata": {},
   "source": [
    "---"
   ]
  },
  {
   "cell_type": "markdown",
   "id": "9b002166",
   "metadata": {},
   "source": [
    "## Исследовательский анализ данных"
   ]
  },
  {
   "cell_type": "markdown",
   "id": "6afda161",
   "metadata": {},
   "source": [
    "### Частота встречаемости городов"
   ]
  },
  {
   "cell_type": "markdown",
   "id": "496c52b7",
   "metadata": {},
   "source": [
    "Будем работать со столбцом **city** таблицы **users**."
   ]
  },
  {
   "cell_type": "code",
   "execution_count": 9,
   "id": "befea278",
   "metadata": {},
   "outputs": [
    {
     "data": {
      "image/png": "[encoded data removed]",
      "text/plain": [
       "<Figure size 640x480 with 1 Axes>"
      ]
     },
     "metadata": {},
     "output_type": "display_data"
    }
   ],
   "source": [
    "# сгруппируем данные по городам, считаем количество пользователей, строим график\n",
    "users.groupby('city')['user_id'].agg({'count'}).sort_values(by = 'count').plot(kind='barh',\n",
    "                                                       y='count',\n",
    "                                                       grid=True);\n",
    "plt.title('Частота встречаемости городов')\n",
    "plt.xlabel('Количество')\n",
    "plt.ylabel('Город')\n",
    "plt.show()"
   ]
  },
  {
   "cell_type": "markdown",
   "id": "c8dc7b17",
   "metadata": {},
   "source": [
    "Разброс по пользователям из разных городов небольшой. Больше всего пользователей в Пятигорске, меньше всего - в Москве."
   ]
  },
  {
   "cell_type": "markdown",
   "id": "c1a1a767",
   "metadata": {},
   "source": [
    "### Соотношение пользователей с подпиской и без подписки"
   ]
  },
  {
   "cell_type": "markdown",
   "id": "2fb11025",
   "metadata": {},
   "source": [
    "Будем работать со столбцом **subscription_type** таблицы **users**"
   ]
  },
  {
   "cell_type": "code",
   "execution_count": 10,
   "id": "69c45668",
   "metadata": {},
   "outputs": [
    {
     "data": {
      "text/plain": [
       "free     835\n",
       "ultra    699\n",
       "Name: subscription_type, dtype: int64"
      ]
     },
     "execution_count": 10,
     "metadata": {},
     "output_type": "execute_result"
    }
   ],
   "source": [
    "# смотрим количество пользователей с подпиской и без среди всех\n",
    "users['subscription_type'].value_counts()"
   ]
  },
  {
   "cell_type": "code",
   "execution_count": 11,
   "id": "48bf5835",
   "metadata": {},
   "outputs": [
    {
     "name": "stdout",
     "output_type": "stream",
     "text": [
      "Доля пользователей с подпиской равна 0.46\n",
      "Доля пользователей без подписки равна 0.54\n"
     ]
    }
   ],
   "source": [
    "print(f'Доля пользователей с подпиской равна {round(699/(835+699), 2)}')\n",
    "print(f'Доля пользователей без подписки равна {round(835/(835+699), 2)}')"
   ]
  },
  {
   "cell_type": "markdown",
   "id": "eaf86ff1",
   "metadata": {},
   "source": [
    "Следовательно, 46% пользователей пользуются подпиской и 54% - нет."
   ]
  },
  {
   "cell_type": "code",
   "execution_count": 12,
   "id": "289f00c9",
   "metadata": {},
   "outputs": [
    {
     "data": {
      "image/png": "[encoded data removed]",
      "text/plain": [
       "<Figure size 1500x600 with 1 Axes>"
      ]
     },
     "metadata": {},
     "output_type": "display_data"
    }
   ],
   "source": [
    "users['subscription_type'].value_counts().plot(kind='pie', autopct='%1.1f%%', figsize=(15, 6))\n",
    "plt.title('Круговая диаграмма распределения количества пользователей с подпиской и без')\n",
    "plt.show()"
   ]
  },
  {
   "cell_type": "markdown",
   "id": "26880b98",
   "metadata": {},
   "source": [
    "Посмотрим на процент пользователей с подпиской и без по разным городам. Визуализируем эти данные:"
   ]
  },
  {
   "cell_type": "code",
   "execution_count": 13,
   "id": "49848bb4",
   "metadata": {},
   "outputs": [
    {
     "data": {
      "image/png": "[encoded data removed]",
      "text/plain": [
       "<Figure size 640x480 with 1 Axes>"
      ]
     },
     "metadata": {},
     "output_type": "display_data"
    }
   ],
   "source": [
    "# создаем кросс-таблицу\n",
    "sub_city = pd.crosstab(users['city'], users['subscription_type'], values='subscription_type', aggfunc='count')\n",
    "\n",
    "# добавляем столбец суммы\n",
    "sub_city['sum'] = sub_city['free'] + sub_city['ultra']\n",
    "\n",
    "# считаем долю по free и ultra\n",
    "sub_city['free'] = round(sub_city['free'] / sub_city['sum'], 2)\n",
    "sub_city['ultra'] = round(sub_city['ultra'] / sub_city['sum'], 2)\n",
    "\n",
    "# удаляем столбец sum\n",
    "sub_city.drop('sum', axis= 1 , inplace= True )\n",
    "\n",
    "# строим график\n",
    "sub_city.plot(kind='barh');\n",
    "plt.title('Доли пользователей с подпиской и без подписки по городам')\n",
    "plt.ylabel('Город')\n",
    "plt.xlabel('Доля пользователей')\n",
    "plt.show()"
   ]
  },
  {
   "cell_type": "markdown",
   "id": "7b483672",
   "metadata": {},
   "source": [
    "Из графика видно, что в Москве и Омске пользователей с подпиской и без поровну. Во всех остальных городах преобладают пользователи без подписки. "
   ]
  },
  {
   "cell_type": "markdown",
   "id": "f381fdd4",
   "metadata": {},
   "source": [
    "### Возраст пользователей"
   ]
  },
  {
   "cell_type": "markdown",
   "id": "4cf2940b",
   "metadata": {},
   "source": [
    "Построим распределение пользователей по возрасту и боксплот. Будем работать со столбцом **age** таблицы **users**:"
   ]
  },
  {
   "cell_type": "code",
   "execution_count": 14,
   "id": "5ae69668",
   "metadata": {},
   "outputs": [
    {
     "data": {
      "image/png": "[encoded data removed]",
      "text/plain": [
       "<Figure size 1500x300 with 1 Axes>"
      ]
     },
     "metadata": {},
     "output_type": "display_data"
    }
   ],
   "source": [
    "# строим гистограмму\n",
    "users.hist('age', bins = 100, figsize=(15,3)) # общая\n",
    "plt.xlabel('Возраст')\n",
    "plt.ylabel('Количество')\n",
    "plt.title('Распределение пользователей по возрасту')\n",
    "plt.show()"
   ]
  },
  {
   "cell_type": "code",
   "execution_count": 15,
   "id": "08f72beb",
   "metadata": {},
   "outputs": [
    {
     "data": {
      "image/png": "[encoded data removed]",
      "text/plain": [
       "<Figure size 1700x200 with 1 Axes>"
      ]
     },
     "metadata": {},
     "output_type": "display_data"
    },
    {
     "data": {
      "text/plain": [
       "count    1534.000000\n",
       "mean       24.903520\n",
       "std         4.572367\n",
       "min        12.000000\n",
       "25%        22.000000\n",
       "50%        25.000000\n",
       "75%        28.000000\n",
       "max        43.000000\n",
       "Name: age, dtype: float64"
      ]
     },
     "execution_count": 15,
     "metadata": {},
     "output_type": "execute_result"
    }
   ],
   "source": [
    "# строим боксплот\n",
    "fig, ax = plt.subplots(figsize = (17,2))\n",
    "ax = users[['age']].boxplot(vert = False, ax =ax)\n",
    "ax.set_title('Диаграмма размаха возраста пользователей')\n",
    "ax.set_xlim(0, 50);\n",
    "plt.show()\n",
    "users['age'].describe() # числовое представление боксплота "
   ]
  },
  {
   "cell_type": "markdown",
   "id": "2e00f302",
   "metadata": {},
   "source": [
    "Средний возраст и медиана практически равны друг другу и составляют 25 лет. Кроме того, на диаграмме размаха присутствуют выбросы. Однако они вряд ли противоречат здравому смыслу: люди старше 35 лет могут кататься на самокатах. Люди младше 15 - тоже. Оставляем их.  "
   ]
  },
  {
   "cell_type": "markdown",
   "id": "0622ea77",
   "metadata": {},
   "source": [
    "### Расстояние, которое пользователь преодолел за одну поездку"
   ]
  },
  {
   "cell_type": "markdown",
   "id": "24924dc6",
   "metadata": {},
   "source": [
    "Построим гистограмму и боксплот по столбцу **distance** таблицы **rides**.\n"
   ]
  },
  {
   "cell_type": "code",
   "execution_count": 16,
   "id": "0eb49f40",
   "metadata": {},
   "outputs": [
    {
     "data": {
      "image/png": "[encoded data removed]",
      "text/plain": [
       "<Figure size 1500x300 with 1 Axes>"
      ]
     },
     "metadata": {},
     "output_type": "display_data"
    },
    {
     "data": {
      "image/png": "[encoded data removed]",
      "text/plain": [
       "<Figure size 1500x300 with 1 Axes>"
      ]
     },
     "metadata": {},
     "output_type": "display_data"
    },
    {
     "data": {
      "image/png": "[encoded data removed]",
      "text/plain": [
       "<Figure size 1500x300 with 1 Axes>"
      ]
     },
     "metadata": {},
     "output_type": "display_data"
    }
   ],
   "source": [
    "# строим гистограмму\n",
    "rides.hist('distance', bins = 100, figsize=(15,3)) # общая\n",
    "plt.xlabel('Расстояние, метры')\n",
    "plt.ylabel('Количество')\n",
    "plt.title('Распределение пользователей по преодоленному расстоянию за поездку')\n",
    "plt.show()\n",
    "\n",
    "# строим отдельные гистограммы для двух хвостов \n",
    "rides.hist('distance', bins = 100, figsize=(15,3), range=(5000, 8000)) # общая\n",
    "plt.xlabel('Расстояние, метры')\n",
    "plt.ylabel('Количество')\n",
    "plt.title('Распределение пользователей по преодоленному расстоянию за поездку')\n",
    "plt.show()\n",
    "\n",
    "rides.hist('distance', bins = 100, figsize=(15,3), range=(0, 500)) # общая\n",
    "plt.xlabel('Расстояние, метры')\n",
    "plt.ylabel('Количество')\n",
    "plt.title('Распределение пользователей по преодоленному расстоянию за поездку')\n",
    "plt.show()"
   ]
  },
  {
   "cell_type": "code",
   "execution_count": 17,
   "id": "cb622fed",
   "metadata": {},
   "outputs": [
    {
     "data": {
      "image/png": "[encoded data removed]",
      "text/plain": [
       "<Figure size 1700x200 with 1 Axes>"
      ]
     },
     "metadata": {},
     "output_type": "display_data"
    },
    {
     "data": {
      "text/plain": [
       "count    18068.000000\n",
       "mean      3070.659976\n",
       "std       1116.831209\n",
       "min          0.855683\n",
       "25%       2543.226360\n",
       "50%       3133.609994\n",
       "75%       3776.222735\n",
       "max       7211.007745\n",
       "Name: distance, dtype: float64"
      ]
     },
     "execution_count": 17,
     "metadata": {},
     "output_type": "execute_result"
    }
   ],
   "source": [
    "# строим боксплот\n",
    "fig, ax = plt.subplots(figsize = (17,2))\n",
    "ax = rides[['distance']].boxplot(vert = False, ax =ax)\n",
    "ax.set_title('Диаграмма размаха преодоленного расстояния')\n",
    "ax.set_xlim(0, 6000);\n",
    "plt.show()\n",
    "rides['distance'].describe() # числовое представление боксплота "
   ]
  },
  {
   "cell_type": "markdown",
   "id": "b5da9e16",
   "metadata": {},
   "source": [
    "Среднее и медана близки друг к другу. Медиана - 3133 метра, среднее - 3070. Кроме того, более 75% пользователей проезжают более 2500 метров на самокате. "
   ]
  },
  {
   "cell_type": "markdown",
   "id": "4aa15f55",
   "metadata": {},
   "source": [
    "### Продолжительность поездок"
   ]
  },
  {
   "cell_type": "markdown",
   "id": "8c0403ae",
   "metadata": {},
   "source": [
    "Построим гистограмму и боксплот по столбцу **duration** таблицы **rides**."
   ]
  },
  {
   "cell_type": "code",
   "execution_count": 18,
   "id": "080478ea",
   "metadata": {},
   "outputs": [
    {
     "data": {
      "image/png": "[encoded data removed]",
      "text/plain": [
       "<Figure size 1500x300 with 1 Axes>"
      ]
     },
     "metadata": {},
     "output_type": "display_data"
    }
   ],
   "source": [
    "# строим гистограмму\n",
    "rides.hist('duration', bins = 100, figsize=(15,3)) # общая\n",
    "plt.xlabel('Продолжительность сессии, минуты')\n",
    "plt.ylabel('Количество')\n",
    "plt.title('Распределение пользователей по времени поездки')\n",
    "plt.show()"
   ]
  },
  {
   "cell_type": "markdown",
   "id": "f54a4729",
   "metadata": {},
   "source": [
    "Рассмотрим строки со временем заезда 0,5 минуты отдельно"
   ]
  },
  {
   "cell_type": "code",
   "execution_count": 19,
   "id": "4d2fb4f2",
   "metadata": {},
   "outputs": [
    {
     "data": {
      "text/html": [
       "<div>\n",
       "<style scoped>\n",
       "    .dataframe tbody tr th:only-of-type {\n",
       "        vertical-align: middle;\n",
       "    }\n",
       "\n",
       "    .dataframe tbody tr th {\n",
       "        vertical-align: top;\n",
       "    }\n",
       "\n",
       "    .dataframe thead th {\n",
       "        text-align: right;\n",
       "    }\n",
       "</style>\n",
       "<table border=\"1\" class=\"dataframe\">\n",
       "  <thead>\n",
       "    <tr style=\"text-align: right;\">\n",
       "      <th></th>\n",
       "      <th>user_id</th>\n",
       "      <th>distance</th>\n",
       "      <th>duration</th>\n",
       "      <th>date</th>\n",
       "      <th>month</th>\n",
       "    </tr>\n",
       "  </thead>\n",
       "  <tbody>\n",
       "    <tr>\n",
       "      <th>6531</th>\n",
       "      <td>701</td>\n",
       "      <td>4196.445201</td>\n",
       "      <td>0.5</td>\n",
       "      <td>2021-08-31</td>\n",
       "      <td>8</td>\n",
       "    </tr>\n",
       "    <tr>\n",
       "      <th>6570</th>\n",
       "      <td>704</td>\n",
       "      <td>4830.824371</td>\n",
       "      <td>0.5</td>\n",
       "      <td>2021-10-14</td>\n",
       "      <td>10</td>\n",
       "    </tr>\n",
       "    <tr>\n",
       "      <th>6680</th>\n",
       "      <td>712</td>\n",
       "      <td>4684.004397</td>\n",
       "      <td>0.5</td>\n",
       "      <td>2021-03-04</td>\n",
       "      <td>3</td>\n",
       "    </tr>\n",
       "    <tr>\n",
       "      <th>6695</th>\n",
       "      <td>713</td>\n",
       "      <td>5215.642710</td>\n",
       "      <td>0.5</td>\n",
       "      <td>2021-02-25</td>\n",
       "      <td>2</td>\n",
       "    </tr>\n",
       "    <tr>\n",
       "      <th>6768</th>\n",
       "      <td>718</td>\n",
       "      <td>5197.436649</td>\n",
       "      <td>0.5</td>\n",
       "      <td>2021-02-11</td>\n",
       "      <td>2</td>\n",
       "    </tr>\n",
       "    <tr>\n",
       "      <th>...</th>\n",
       "      <td>...</td>\n",
       "      <td>...</td>\n",
       "      <td>...</td>\n",
       "      <td>...</td>\n",
       "      <td>...</td>\n",
       "    </tr>\n",
       "    <tr>\n",
       "      <th>17004</th>\n",
       "      <td>1460</td>\n",
       "      <td>5531.335845</td>\n",
       "      <td>0.5</td>\n",
       "      <td>2021-01-19</td>\n",
       "      <td>1</td>\n",
       "    </tr>\n",
       "    <tr>\n",
       "      <th>17242</th>\n",
       "      <td>1477</td>\n",
       "      <td>6724.932981</td>\n",
       "      <td>0.5</td>\n",
       "      <td>2021-01-12</td>\n",
       "      <td>1</td>\n",
       "    </tr>\n",
       "    <tr>\n",
       "      <th>17314</th>\n",
       "      <td>1483</td>\n",
       "      <td>4445.481070</td>\n",
       "      <td>0.5</td>\n",
       "      <td>2021-03-06</td>\n",
       "      <td>3</td>\n",
       "    </tr>\n",
       "    <tr>\n",
       "      <th>17505</th>\n",
       "      <td>1496</td>\n",
       "      <td>5722.551787</td>\n",
       "      <td>0.5</td>\n",
       "      <td>2021-02-14</td>\n",
       "      <td>2</td>\n",
       "    </tr>\n",
       "    <tr>\n",
       "      <th>17909</th>\n",
       "      <td>1524</td>\n",
       "      <td>4103.998874</td>\n",
       "      <td>0.5</td>\n",
       "      <td>2021-06-18</td>\n",
       "      <td>6</td>\n",
       "    </tr>\n",
       "  </tbody>\n",
       "</table>\n",
       "<p>95 rows × 5 columns</p>\n",
       "</div>"
      ],
      "text/plain": [
       "       user_id     distance  duration       date  month\n",
       "6531       701  4196.445201       0.5 2021-08-31      8\n",
       "6570       704  4830.824371       0.5 2021-10-14     10\n",
       "6680       712  4684.004397       0.5 2021-03-04      3\n",
       "6695       713  5215.642710       0.5 2021-02-25      2\n",
       "6768       718  5197.436649       0.5 2021-02-11      2\n",
       "...        ...          ...       ...        ...    ...\n",
       "17004     1460  5531.335845       0.5 2021-01-19      1\n",
       "17242     1477  6724.932981       0.5 2021-01-12      1\n",
       "17314     1483  4445.481070       0.5 2021-03-06      3\n",
       "17505     1496  5722.551787       0.5 2021-02-14      2\n",
       "17909     1524  4103.998874       0.5 2021-06-18      6\n",
       "\n",
       "[95 rows x 5 columns]"
      ]
     },
     "execution_count": 19,
     "metadata": {},
     "output_type": "execute_result"
    }
   ],
   "source": [
    "rides.query('duration == 0.5')"
   ]
  },
  {
   "cell_type": "markdown",
   "id": "073e34df",
   "metadata": {},
   "source": [
    "Как можно заметить таких строк обнаружилось 85. Эти случаи соответствуют длинным дистанциям. Возможно сервис 30 минут записывает как 0,5, имеяя ввиду полчаса. Однако мы не можем быть в этом уверенными. Необходимо написать разработчикам или датаинженерам. Оставлять значение 0.5 опасно для дальнейших исследований.\n",
    "\n",
    "Посмотрим, какой процент они составляют от датасета после обработки дубликатов."
   ]
  },
  {
   "cell_type": "code",
   "execution_count": 20,
   "id": "91cf1162",
   "metadata": {},
   "outputs": [
    {
     "data": {
      "text/plain": [
       "0.5257914545052026"
      ]
     },
     "execution_count": 20,
     "metadata": {},
     "output_type": "execute_result"
    }
   ],
   "source": [
    "rides.query('duration == 0.5').shape[0] / len_rides *100"
   ]
  },
  {
   "cell_type": "markdown",
   "id": "948c4e97",
   "metadata": {},
   "source": [
    "Таких строк менее 1%. Исключим их"
   ]
  },
  {
   "cell_type": "code",
   "execution_count": 21,
   "id": "ee3796c9",
   "metadata": {},
   "outputs": [],
   "source": [
    "rides = rides.query('duration != 0.5')"
   ]
  },
  {
   "cell_type": "markdown",
   "id": "066f6b80",
   "metadata": {},
   "source": [
    "Построим диаграмму размаха"
   ]
  },
  {
   "cell_type": "code",
   "execution_count": 22,
   "id": "b0d5c45b",
   "metadata": {},
   "outputs": [
    {
     "data": {
      "image/png": "[encoded data removed]",
      "text/plain": [
       "<Figure size 1700x200 with 1 Axes>"
      ]
     },
     "metadata": {},
     "output_type": "display_data"
    },
    {
     "data": {
      "text/plain": [
       "count    17973.000000\n",
       "mean        17.896480\n",
       "std          5.975424\n",
       "min          2.035632\n",
       "25%         13.670439\n",
       "50%         17.714122\n",
       "75%         21.747016\n",
       "max         40.823963\n",
       "Name: duration, dtype: float64"
      ]
     },
     "execution_count": 22,
     "metadata": {},
     "output_type": "execute_result"
    }
   ],
   "source": [
    "# строим боксплот\n",
    "fig, ax = plt.subplots(figsize = (17,2))\n",
    "ax = rides[['duration']].boxplot(vert = False, ax =ax)\n",
    "ax.set_title('Диаграмма размаха по времени поездки')\n",
    "ax.set_xlim(0, 50);\n",
    "plt.show()\n",
    "rides['duration'].describe() # числовое представление боксплота "
   ]
  },
  {
   "cell_type": "markdown",
   "id": "16509d0a",
   "metadata": {},
   "source": [
    "Минимальное время поездки - 2 минуты, максимальное - 41 минута. Среднее и медианное близки. Они составляют примерно 18 минут."
   ]
  },
  {
   "cell_type": "markdown",
   "id": "bf86c59d",
   "metadata": {},
   "source": [
    "**Вывод:** в результате исследовательского анализа было выявлено:\n",
    "\n",
    "* Больше всего пользователей находятся в Пятигорске, меньше всего - в Москве;\n",
    "\n",
    "* Среди пользователей 46% пользуются подпиской, оставшиеся 54% нет; \n",
    "\n",
    "* Расчёт доли пользователей с подпиской и без подписки по городам показал, что в Москве и Омске она одинаковая. В остальных городах доля пользователей без подписки больше;\n",
    "\n",
    "* Средний возраст пользователей составляет 25 лет;\n",
    "\n",
    "* Среднее расстояние, которые преодолевают пользователи ~ 3000 метров;\n",
    "\n",
    "* Среднее время пользования самокатом составило 18 минут."
   ]
  },
  {
   "cell_type": "markdown",
   "id": "86be2faa",
   "metadata": {},
   "source": [
    "---"
   ]
  },
  {
   "cell_type": "markdown",
   "id": "497e0f8d",
   "metadata": {},
   "source": [
    "## Объединение данных"
   ]
  },
  {
   "cell_type": "markdown",
   "id": "cc03d52e",
   "metadata": {},
   "source": [
    "### Объединение трёх таблиц"
   ]
  },
  {
   "cell_type": "markdown",
   "id": "cb32f2b3",
   "metadata": {},
   "source": [
    "Объединим три таблицы. При этом нужно учесть, что некоторые пользователи могут иметь несколько поездок. Покажем это"
   ]
  },
  {
   "cell_type": "code",
   "execution_count": 23,
   "id": "741ebb42",
   "metadata": {},
   "outputs": [
    {
     "data": {
      "text/plain": [
       "1236    27\n",
       "1063    26\n",
       "783     26\n",
       "1204    24\n",
       "1531    23\n",
       "        ..\n",
       "644      3\n",
       "104      3\n",
       "412      3\n",
       "342      2\n",
       "366      2\n",
       "Name: user_id, Length: 1534, dtype: int64"
      ]
     },
     "execution_count": 23,
     "metadata": {},
     "output_type": "execute_result"
    }
   ],
   "source": [
    "rides['user_id'].value_counts()"
   ]
  },
  {
   "cell_type": "markdown",
   "id": "d90f10eb",
   "metadata": {},
   "source": [
    "Пользователь с user_id = 1236 является самым активным. Поэтому после объединения он должен будет повториться 1236 раз. С остальными по аналогии. Используем метод **merge**"
   ]
  },
  {
   "cell_type": "code",
   "execution_count": 24,
   "id": "eb3cfe04",
   "metadata": {},
   "outputs": [
    {
     "data": {
      "text/plain": [
       "1236    27\n",
       "1063    26\n",
       "783     26\n",
       "1204    24\n",
       "1531    23\n",
       "        ..\n",
       "644      3\n",
       "104      3\n",
       "412      3\n",
       "342      2\n",
       "366      2\n",
       "Name: user_id, Length: 1534, dtype: int64"
      ]
     },
     "execution_count": 24,
     "metadata": {},
     "output_type": "execute_result"
    }
   ],
   "source": [
    "# объединяем rides и users\n",
    "rides_a_users = rides.merge(users, on='user_id', how='left')\n",
    "\n",
    "# объединям результат с таблицой sub\n",
    "overall_data = rides_a_users.merge(sub, on='subscription_type', how='left')\n",
    "\n",
    "# проверяем\n",
    "overall_data['user_id'].value_counts()"
   ]
  },
  {
   "cell_type": "code",
   "execution_count": 25,
   "id": "3610b23b",
   "metadata": {},
   "outputs": [
    {
     "data": {
      "text/html": [
       "<div>\n",
       "<style scoped>\n",
       "    .dataframe tbody tr th:only-of-type {\n",
       "        vertical-align: middle;\n",
       "    }\n",
       "\n",
       "    .dataframe tbody tr th {\n",
       "        vertical-align: top;\n",
       "    }\n",
       "\n",
       "    .dataframe thead th {\n",
       "        text-align: right;\n",
       "    }\n",
       "</style>\n",
       "<table border=\"1\" class=\"dataframe\">\n",
       "  <thead>\n",
       "    <tr style=\"text-align: right;\">\n",
       "      <th></th>\n",
       "      <th>user_id</th>\n",
       "      <th>distance</th>\n",
       "      <th>duration</th>\n",
       "      <th>date</th>\n",
       "      <th>month</th>\n",
       "      <th>name</th>\n",
       "      <th>age</th>\n",
       "      <th>city</th>\n",
       "      <th>subscription_type</th>\n",
       "      <th>minute_price</th>\n",
       "      <th>start_ride_price</th>\n",
       "      <th>subscription_fee</th>\n",
       "    </tr>\n",
       "  </thead>\n",
       "  <tbody>\n",
       "    <tr>\n",
       "      <th>0</th>\n",
       "      <td>1</td>\n",
       "      <td>4409.919140</td>\n",
       "      <td>25.599769</td>\n",
       "      <td>2021-01-01</td>\n",
       "      <td>1</td>\n",
       "      <td>Кира</td>\n",
       "      <td>22</td>\n",
       "      <td>Тюмень</td>\n",
       "      <td>ultra</td>\n",
       "      <td>6</td>\n",
       "      <td>0</td>\n",
       "      <td>199</td>\n",
       "    </tr>\n",
       "    <tr>\n",
       "      <th>1</th>\n",
       "      <td>1</td>\n",
       "      <td>2617.592153</td>\n",
       "      <td>15.816871</td>\n",
       "      <td>2021-01-18</td>\n",
       "      <td>1</td>\n",
       "      <td>Кира</td>\n",
       "      <td>22</td>\n",
       "      <td>Тюмень</td>\n",
       "      <td>ultra</td>\n",
       "      <td>6</td>\n",
       "      <td>0</td>\n",
       "      <td>199</td>\n",
       "    </tr>\n",
       "    <tr>\n",
       "      <th>2</th>\n",
       "      <td>1</td>\n",
       "      <td>754.159807</td>\n",
       "      <td>6.232113</td>\n",
       "      <td>2021-04-20</td>\n",
       "      <td>4</td>\n",
       "      <td>Кира</td>\n",
       "      <td>22</td>\n",
       "      <td>Тюмень</td>\n",
       "      <td>ultra</td>\n",
       "      <td>6</td>\n",
       "      <td>0</td>\n",
       "      <td>199</td>\n",
       "    </tr>\n",
       "    <tr>\n",
       "      <th>3</th>\n",
       "      <td>1</td>\n",
       "      <td>2694.783254</td>\n",
       "      <td>18.511000</td>\n",
       "      <td>2021-08-11</td>\n",
       "      <td>8</td>\n",
       "      <td>Кира</td>\n",
       "      <td>22</td>\n",
       "      <td>Тюмень</td>\n",
       "      <td>ultra</td>\n",
       "      <td>6</td>\n",
       "      <td>0</td>\n",
       "      <td>199</td>\n",
       "    </tr>\n",
       "    <tr>\n",
       "      <th>4</th>\n",
       "      <td>1</td>\n",
       "      <td>4028.687306</td>\n",
       "      <td>26.265803</td>\n",
       "      <td>2021-08-28</td>\n",
       "      <td>8</td>\n",
       "      <td>Кира</td>\n",
       "      <td>22</td>\n",
       "      <td>Тюмень</td>\n",
       "      <td>ultra</td>\n",
       "      <td>6</td>\n",
       "      <td>0</td>\n",
       "      <td>199</td>\n",
       "    </tr>\n",
       "  </tbody>\n",
       "</table>\n",
       "</div>"
      ],
      "text/plain": [
       "   user_id     distance   duration       date  month  name  age    city  \\\n",
       "0        1  4409.919140  25.599769 2021-01-01      1  Кира   22  Тюмень   \n",
       "1        1  2617.592153  15.816871 2021-01-18      1  Кира   22  Тюмень   \n",
       "2        1   754.159807   6.232113 2021-04-20      4  Кира   22  Тюмень   \n",
       "3        1  2694.783254  18.511000 2021-08-11      8  Кира   22  Тюмень   \n",
       "4        1  4028.687306  26.265803 2021-08-28      8  Кира   22  Тюмень   \n",
       "\n",
       "  subscription_type  minute_price  start_ride_price  subscription_fee  \n",
       "0             ultra             6                 0               199  \n",
       "1             ultra             6                 0               199  \n",
       "2             ultra             6                 0               199  \n",
       "3             ultra             6                 0               199  \n",
       "4             ultra             6                 0               199  "
      ]
     },
     "execution_count": 25,
     "metadata": {},
     "output_type": "execute_result"
    }
   ],
   "source": [
    "# выводим первые 5 строк нашей общей таблицы\n",
    "overall_data.head()"
   ]
  },
  {
   "cell_type": "code",
   "execution_count": 26,
   "id": "2b1ec943",
   "metadata": {},
   "outputs": [
    {
     "data": {
      "text/plain": [
       "user_id              0\n",
       "distance             0\n",
       "duration             0\n",
       "date                 0\n",
       "month                0\n",
       "name                 0\n",
       "age                  0\n",
       "city                 0\n",
       "subscription_type    0\n",
       "minute_price         0\n",
       "start_ride_price     0\n",
       "subscription_fee     0\n",
       "dtype: int64"
      ]
     },
     "execution_count": 26,
     "metadata": {},
     "output_type": "execute_result"
    }
   ],
   "source": [
    "overall_data.isna().sum()"
   ]
  },
  {
   "cell_type": "markdown",
   "id": "c384be96",
   "metadata": {},
   "source": [
    "### Создание отдельных датафреймов с подписками и без"
   ]
  },
  {
   "cell_type": "markdown",
   "id": "6716e831",
   "metadata": {},
   "source": [
    "Все три таблицы объединены в одну общую **overall_data**. Теперь создадим ещё два датафрейма: с подписками (**overall_subs**) и без подписок (**overall_no_subs**). "
   ]
  },
  {
   "cell_type": "code",
   "execution_count": 27,
   "id": "481cdf3e",
   "metadata": {},
   "outputs": [
    {
     "name": "stdout",
     "output_type": "stream",
     "text": [
      "Датасет overall_subs с подписками\n"
     ]
    },
    {
     "data": {
      "text/html": [
       "<div>\n",
       "<style scoped>\n",
       "    .dataframe tbody tr th:only-of-type {\n",
       "        vertical-align: middle;\n",
       "    }\n",
       "\n",
       "    .dataframe tbody tr th {\n",
       "        vertical-align: top;\n",
       "    }\n",
       "\n",
       "    .dataframe thead th {\n",
       "        text-align: right;\n",
       "    }\n",
       "</style>\n",
       "<table border=\"1\" class=\"dataframe\">\n",
       "  <thead>\n",
       "    <tr style=\"text-align: right;\">\n",
       "      <th></th>\n",
       "      <th>user_id</th>\n",
       "      <th>distance</th>\n",
       "      <th>duration</th>\n",
       "      <th>date</th>\n",
       "      <th>month</th>\n",
       "      <th>name</th>\n",
       "      <th>age</th>\n",
       "      <th>city</th>\n",
       "      <th>subscription_type</th>\n",
       "      <th>minute_price</th>\n",
       "      <th>start_ride_price</th>\n",
       "      <th>subscription_fee</th>\n",
       "    </tr>\n",
       "  </thead>\n",
       "  <tbody>\n",
       "    <tr>\n",
       "      <th>0</th>\n",
       "      <td>1</td>\n",
       "      <td>4409.919140</td>\n",
       "      <td>25.599769</td>\n",
       "      <td>2021-01-01</td>\n",
       "      <td>1</td>\n",
       "      <td>Кира</td>\n",
       "      <td>22</td>\n",
       "      <td>Тюмень</td>\n",
       "      <td>ultra</td>\n",
       "      <td>6</td>\n",
       "      <td>0</td>\n",
       "      <td>199</td>\n",
       "    </tr>\n",
       "    <tr>\n",
       "      <th>1</th>\n",
       "      <td>1</td>\n",
       "      <td>2617.592153</td>\n",
       "      <td>15.816871</td>\n",
       "      <td>2021-01-18</td>\n",
       "      <td>1</td>\n",
       "      <td>Кира</td>\n",
       "      <td>22</td>\n",
       "      <td>Тюмень</td>\n",
       "      <td>ultra</td>\n",
       "      <td>6</td>\n",
       "      <td>0</td>\n",
       "      <td>199</td>\n",
       "    </tr>\n",
       "    <tr>\n",
       "      <th>2</th>\n",
       "      <td>1</td>\n",
       "      <td>754.159807</td>\n",
       "      <td>6.232113</td>\n",
       "      <td>2021-04-20</td>\n",
       "      <td>4</td>\n",
       "      <td>Кира</td>\n",
       "      <td>22</td>\n",
       "      <td>Тюмень</td>\n",
       "      <td>ultra</td>\n",
       "      <td>6</td>\n",
       "      <td>0</td>\n",
       "      <td>199</td>\n",
       "    </tr>\n",
       "    <tr>\n",
       "      <th>3</th>\n",
       "      <td>1</td>\n",
       "      <td>2694.783254</td>\n",
       "      <td>18.511000</td>\n",
       "      <td>2021-08-11</td>\n",
       "      <td>8</td>\n",
       "      <td>Кира</td>\n",
       "      <td>22</td>\n",
       "      <td>Тюмень</td>\n",
       "      <td>ultra</td>\n",
       "      <td>6</td>\n",
       "      <td>0</td>\n",
       "      <td>199</td>\n",
       "    </tr>\n",
       "    <tr>\n",
       "      <th>4</th>\n",
       "      <td>1</td>\n",
       "      <td>4028.687306</td>\n",
       "      <td>26.265803</td>\n",
       "      <td>2021-08-28</td>\n",
       "      <td>8</td>\n",
       "      <td>Кира</td>\n",
       "      <td>22</td>\n",
       "      <td>Тюмень</td>\n",
       "      <td>ultra</td>\n",
       "      <td>6</td>\n",
       "      <td>0</td>\n",
       "      <td>199</td>\n",
       "    </tr>\n",
       "  </tbody>\n",
       "</table>\n",
       "</div>"
      ],
      "text/plain": [
       "   user_id     distance   duration       date  month  name  age    city  \\\n",
       "0        1  4409.919140  25.599769 2021-01-01      1  Кира   22  Тюмень   \n",
       "1        1  2617.592153  15.816871 2021-01-18      1  Кира   22  Тюмень   \n",
       "2        1   754.159807   6.232113 2021-04-20      4  Кира   22  Тюмень   \n",
       "3        1  2694.783254  18.511000 2021-08-11      8  Кира   22  Тюмень   \n",
       "4        1  4028.687306  26.265803 2021-08-28      8  Кира   22  Тюмень   \n",
       "\n",
       "  subscription_type  minute_price  start_ride_price  subscription_fee  \n",
       "0             ultra             6                 0               199  \n",
       "1             ultra             6                 0               199  \n",
       "2             ultra             6                 0               199  \n",
       "3             ultra             6                 0               199  \n",
       "4             ultra             6                 0               199  "
      ]
     },
     "metadata": {},
     "output_type": "display_data"
    },
    {
     "name": "stdout",
     "output_type": "stream",
     "text": [
      "\n",
      "Датасет overall_no_subs без подписок\n"
     ]
    },
    {
     "data": {
      "text/html": [
       "<div>\n",
       "<style scoped>\n",
       "    .dataframe tbody tr th:only-of-type {\n",
       "        vertical-align: middle;\n",
       "    }\n",
       "\n",
       "    .dataframe tbody tr th {\n",
       "        vertical-align: top;\n",
       "    }\n",
       "\n",
       "    .dataframe thead th {\n",
       "        text-align: right;\n",
       "    }\n",
       "</style>\n",
       "<table border=\"1\" class=\"dataframe\">\n",
       "  <thead>\n",
       "    <tr style=\"text-align: right;\">\n",
       "      <th></th>\n",
       "      <th>user_id</th>\n",
       "      <th>distance</th>\n",
       "      <th>duration</th>\n",
       "      <th>date</th>\n",
       "      <th>month</th>\n",
       "      <th>name</th>\n",
       "      <th>age</th>\n",
       "      <th>city</th>\n",
       "      <th>subscription_type</th>\n",
       "      <th>minute_price</th>\n",
       "      <th>start_ride_price</th>\n",
       "      <th>subscription_fee</th>\n",
       "    </tr>\n",
       "  </thead>\n",
       "  <tbody>\n",
       "    <tr>\n",
       "      <th>6500</th>\n",
       "      <td>700</td>\n",
       "      <td>2515.690719</td>\n",
       "      <td>14.944286</td>\n",
       "      <td>2021-01-02</td>\n",
       "      <td>1</td>\n",
       "      <td>Айдар</td>\n",
       "      <td>22</td>\n",
       "      <td>Омск</td>\n",
       "      <td>free</td>\n",
       "      <td>8</td>\n",
       "      <td>50</td>\n",
       "      <td>0</td>\n",
       "    </tr>\n",
       "    <tr>\n",
       "      <th>6501</th>\n",
       "      <td>700</td>\n",
       "      <td>846.932642</td>\n",
       "      <td>16.234663</td>\n",
       "      <td>2021-02-01</td>\n",
       "      <td>2</td>\n",
       "      <td>Айдар</td>\n",
       "      <td>22</td>\n",
       "      <td>Омск</td>\n",
       "      <td>free</td>\n",
       "      <td>8</td>\n",
       "      <td>50</td>\n",
       "      <td>0</td>\n",
       "    </tr>\n",
       "    <tr>\n",
       "      <th>6502</th>\n",
       "      <td>700</td>\n",
       "      <td>4004.434142</td>\n",
       "      <td>20.016628</td>\n",
       "      <td>2021-02-04</td>\n",
       "      <td>2</td>\n",
       "      <td>Айдар</td>\n",
       "      <td>22</td>\n",
       "      <td>Омск</td>\n",
       "      <td>free</td>\n",
       "      <td>8</td>\n",
       "      <td>50</td>\n",
       "      <td>0</td>\n",
       "    </tr>\n",
       "    <tr>\n",
       "      <th>6503</th>\n",
       "      <td>700</td>\n",
       "      <td>1205.911290</td>\n",
       "      <td>9.782872</td>\n",
       "      <td>2021-02-10</td>\n",
       "      <td>2</td>\n",
       "      <td>Айдар</td>\n",
       "      <td>22</td>\n",
       "      <td>Омск</td>\n",
       "      <td>free</td>\n",
       "      <td>8</td>\n",
       "      <td>50</td>\n",
       "      <td>0</td>\n",
       "    </tr>\n",
       "    <tr>\n",
       "      <th>6504</th>\n",
       "      <td>700</td>\n",
       "      <td>3047.379435</td>\n",
       "      <td>17.427673</td>\n",
       "      <td>2021-02-14</td>\n",
       "      <td>2</td>\n",
       "      <td>Айдар</td>\n",
       "      <td>22</td>\n",
       "      <td>Омск</td>\n",
       "      <td>free</td>\n",
       "      <td>8</td>\n",
       "      <td>50</td>\n",
       "      <td>0</td>\n",
       "    </tr>\n",
       "  </tbody>\n",
       "</table>\n",
       "</div>"
      ],
      "text/plain": [
       "      user_id     distance   duration       date  month   name  age  city  \\\n",
       "6500      700  2515.690719  14.944286 2021-01-02      1  Айдар   22  Омск   \n",
       "6501      700   846.932642  16.234663 2021-02-01      2  Айдар   22  Омск   \n",
       "6502      700  4004.434142  20.016628 2021-02-04      2  Айдар   22  Омск   \n",
       "6503      700  1205.911290   9.782872 2021-02-10      2  Айдар   22  Омск   \n",
       "6504      700  3047.379435  17.427673 2021-02-14      2  Айдар   22  Омск   \n",
       "\n",
       "     subscription_type  minute_price  start_ride_price  subscription_fee  \n",
       "6500              free             8                50                 0  \n",
       "6501              free             8                50                 0  \n",
       "6502              free             8                50                 0  \n",
       "6503              free             8                50                 0  \n",
       "6504              free             8                50                 0  "
      ]
     },
     "metadata": {},
     "output_type": "display_data"
    }
   ],
   "source": [
    "overall_subs = overall_data.query('subscription_type == \"ultra\"')\n",
    "overall_no_subs = overall_data.query('subscription_type == \"free\"')\n",
    "\n",
    "print('Датасет overall_subs с подписками')\n",
    "display(overall_subs.head())\n",
    "print()\n",
    "print('Датасет overall_no_subs без подписок')\n",
    "display(overall_no_subs.head())"
   ]
  },
  {
   "cell_type": "markdown",
   "id": "9addc701",
   "metadata": {},
   "source": [
    "### Визуализация информации о расстоянии и времени поездок для пользователей обеих категорий"
   ]
  },
  {
   "cell_type": "markdown",
   "id": "00c5e50e",
   "metadata": {},
   "source": [
    "#### Информация о расстоянии "
   ]
  },
  {
   "cell_type": "code",
   "execution_count": 28,
   "id": "9b618cb5",
   "metadata": {},
   "outputs": [
    {
     "data": {
      "image/png": "[encoded data removed]",
      "text/plain": [
       "<Figure size 640x480 with 1 Axes>"
      ]
     },
     "metadata": {},
     "output_type": "display_data"
    }
   ],
   "source": [
    "# с подпиской\n",
    "ax = overall_subs.plot(y='distance', kind='hist', histtype='step', bins=60, color='red', label='С подпиской')\n",
    "\n",
    "# без подписки\n",
    "overall_no_subs.plot(y='distance', kind='hist', bins=60, color='blue', alpha=0.3, ax=ax, label='Без подписки')\n",
    "plt.xlabel('Расстояние, метры')\n",
    "plt.ylabel('Количество')\n",
    "plt.title('Распределение поездок по расстоянию для пользователей с подпиской и без')\n",
    "plt.show()"
   ]
  },
  {
   "cell_type": "code",
   "execution_count": 29,
   "id": "f35877d1",
   "metadata": {},
   "outputs": [
    {
     "data": {
      "text/plain": [
       "count    6500.000000\n",
       "mean     3115.445388\n",
       "std       836.895330\n",
       "min       244.210438\n",
       "25%      2785.444017\n",
       "50%      3148.637229\n",
       "75%      3560.574425\n",
       "max      5699.769662\n",
       "Name: distance, dtype: float64"
      ]
     },
     "execution_count": 29,
     "metadata": {},
     "output_type": "execute_result"
    }
   ],
   "source": [
    "overall_subs['distance'].describe() # числовое представление боксплота"
   ]
  },
  {
   "cell_type": "code",
   "execution_count": 30,
   "id": "51bb6c02",
   "metadata": {},
   "outputs": [
    {
     "data": {
      "text/plain": [
       "count    11473.000000\n",
       "mean      3028.374239\n",
       "std       1235.541051\n",
       "min          0.855683\n",
       "25%       2360.878149\n",
       "50%       3102.083025\n",
       "75%       3883.979311\n",
       "max       7066.003772\n",
       "Name: distance, dtype: float64"
      ]
     },
     "execution_count": 30,
     "metadata": {},
     "output_type": "execute_result"
    }
   ],
   "source": [
    "overall_no_subs['distance'].describe() # числовое представление боксплота"
   ]
  },
  {
   "cell_type": "markdown",
   "id": "b2489a93",
   "metadata": {},
   "source": [
    "#### Информация о времени"
   ]
  },
  {
   "cell_type": "code",
   "execution_count": 31,
   "id": "76340813",
   "metadata": {},
   "outputs": [
    {
     "data": {
      "image/png": "[encoded data removed]",
      "text/plain": [
       "<Figure size 640x480 with 1 Axes>"
      ]
     },
     "metadata": {},
     "output_type": "display_data"
    }
   ],
   "source": [
    "# с подпиской\n",
    "ax = overall_subs.plot(y='duration', kind='hist', histtype='step', bins=60, color='red', label='С подпиской')\n",
    "\n",
    "# без подписки\n",
    "overall_no_subs.plot(y='duration', kind='hist', bins=60, color='blue', alpha=0.3, ax=ax, label='Без подписки')\n",
    "plt.xlabel('Продолжительность поездки, минуты')\n",
    "plt.ylabel('Количество')\n",
    "plt.title('Распределение поездок по времени для пользователей с подпиской и без')\n",
    "plt.show()"
   ]
  },
  {
   "cell_type": "code",
   "execution_count": 32,
   "id": "3b799806",
   "metadata": {},
   "outputs": [
    {
     "data": {
      "text/plain": [
       "count    6500.000000\n",
       "mean       18.541985\n",
       "std         5.572048\n",
       "min         3.760353\n",
       "25%        14.524654\n",
       "50%        18.178153\n",
       "75%        21.884129\n",
       "max        40.823963\n",
       "Name: duration, dtype: float64"
      ]
     },
     "execution_count": 32,
     "metadata": {},
     "output_type": "execute_result"
    }
   ],
   "source": [
    "overall_subs['duration'].describe() # числовое представление боксплота для пользователей с подпиской"
   ]
  },
  {
   "cell_type": "code",
   "execution_count": 33,
   "id": "3c7a69ed",
   "metadata": {},
   "outputs": [
    {
     "data": {
      "text/plain": [
       "count    11473.000000\n",
       "mean        17.530771\n",
       "std          6.162609\n",
       "min          2.035632\n",
       "25%         13.085688\n",
       "50%         17.383807\n",
       "75%         21.638038\n",
       "max         34.948498\n",
       "Name: duration, dtype: float64"
      ]
     },
     "execution_count": 33,
     "metadata": {},
     "output_type": "execute_result"
    }
   ],
   "source": [
    "overall_no_subs['duration'].describe() # числовое представление боксплота для пользователей без подписки"
   ]
  },
  {
   "cell_type": "markdown",
   "id": "fb8e83d5",
   "metadata": {},
   "source": [
    "**Вывод:** на распределении поездок по расстоянию для пользователей с подпиской и без наблюдаются два пика. Средние и медианные значения в обоих случаях в районе 3000 метров. Минимальное расстояние после предобработки данных для подписчиков составляет 244 метра, для пользователей без подписки - 0,85 метра. Распределения по времени имеют также похожую форму. Среднее для времени подписчиков - 18,54 минуты, для пользователей без подписки - 17,53. Минимальное время для подписчиков составляет 3,76 минуты. Для пользователей без подписки минимальное время - 2,03 минуты. "
   ]
  },
  {
   "cell_type": "markdown",
   "id": "89deb35a",
   "metadata": {},
   "source": [
    "---"
   ]
  },
  {
   "cell_type": "markdown",
   "id": "f814a1b0",
   "metadata": {},
   "source": [
    "## Подсчёт выручки"
   ]
  },
  {
   "cell_type": "markdown",
   "id": "407de5c1",
   "metadata": {},
   "source": [
    "### Создание датафрейма с суммарным расстоянием, количеством поездок и суммарным временем для каждого пользователя в месяц"
   ]
  },
  {
   "cell_type": "code",
   "execution_count": 34,
   "id": "354fe6fc",
   "metadata": {},
   "outputs": [
    {
     "data": {
      "text/html": [
       "<div>\n",
       "<style scoped>\n",
       "    .dataframe tbody tr th:only-of-type {\n",
       "        vertical-align: middle;\n",
       "    }\n",
       "\n",
       "    .dataframe tbody tr th {\n",
       "        vertical-align: top;\n",
       "    }\n",
       "\n",
       "    .dataframe thead th {\n",
       "        text-align: right;\n",
       "    }\n",
       "</style>\n",
       "<table border=\"1\" class=\"dataframe\">\n",
       "  <thead>\n",
       "    <tr style=\"text-align: right;\">\n",
       "      <th></th>\n",
       "      <th>user_id</th>\n",
       "      <th>month</th>\n",
       "      <th>number</th>\n",
       "      <th>sum_dist</th>\n",
       "      <th>sum_dur</th>\n",
       "    </tr>\n",
       "  </thead>\n",
       "  <tbody>\n",
       "    <tr>\n",
       "      <th>0</th>\n",
       "      <td>1</td>\n",
       "      <td>1</td>\n",
       "      <td>2</td>\n",
       "      <td>7027.5</td>\n",
       "      <td>42</td>\n",
       "    </tr>\n",
       "    <tr>\n",
       "      <th>1</th>\n",
       "      <td>1</td>\n",
       "      <td>4</td>\n",
       "      <td>1</td>\n",
       "      <td>754.2</td>\n",
       "      <td>7</td>\n",
       "    </tr>\n",
       "    <tr>\n",
       "      <th>2</th>\n",
       "      <td>1</td>\n",
       "      <td>8</td>\n",
       "      <td>2</td>\n",
       "      <td>6723.5</td>\n",
       "      <td>46</td>\n",
       "    </tr>\n",
       "    <tr>\n",
       "      <th>3</th>\n",
       "      <td>1</td>\n",
       "      <td>10</td>\n",
       "      <td>2</td>\n",
       "      <td>5809.9</td>\n",
       "      <td>32</td>\n",
       "    </tr>\n",
       "    <tr>\n",
       "      <th>4</th>\n",
       "      <td>1</td>\n",
       "      <td>11</td>\n",
       "      <td>3</td>\n",
       "      <td>7003.5</td>\n",
       "      <td>56</td>\n",
       "    </tr>\n",
       "    <tr>\n",
       "      <th>...</th>\n",
       "      <td>...</td>\n",
       "      <td>...</td>\n",
       "      <td>...</td>\n",
       "      <td>...</td>\n",
       "      <td>...</td>\n",
       "    </tr>\n",
       "    <tr>\n",
       "      <th>11295</th>\n",
       "      <td>1534</td>\n",
       "      <td>6</td>\n",
       "      <td>2</td>\n",
       "      <td>3409.5</td>\n",
       "      <td>26</td>\n",
       "    </tr>\n",
       "    <tr>\n",
       "      <th>11296</th>\n",
       "      <td>1534</td>\n",
       "      <td>8</td>\n",
       "      <td>2</td>\n",
       "      <td>7622.5</td>\n",
       "      <td>48</td>\n",
       "    </tr>\n",
       "    <tr>\n",
       "      <th>11297</th>\n",
       "      <td>1534</td>\n",
       "      <td>9</td>\n",
       "      <td>1</td>\n",
       "      <td>4928.2</td>\n",
       "      <td>23</td>\n",
       "    </tr>\n",
       "    <tr>\n",
       "      <th>11298</th>\n",
       "      <td>1534</td>\n",
       "      <td>11</td>\n",
       "      <td>4</td>\n",
       "      <td>13350.0</td>\n",
       "      <td>78</td>\n",
       "    </tr>\n",
       "    <tr>\n",
       "      <th>11299</th>\n",
       "      <td>1534</td>\n",
       "      <td>12</td>\n",
       "      <td>1</td>\n",
       "      <td>2371.7</td>\n",
       "      <td>16</td>\n",
       "    </tr>\n",
       "  </tbody>\n",
       "</table>\n",
       "<p>11300 rows × 5 columns</p>\n",
       "</div>"
      ],
      "text/plain": [
       "       user_id  month  number  sum_dist  sum_dur\n",
       "0            1      1       2    7027.5       42\n",
       "1            1      4       1     754.2        7\n",
       "2            1      8       2    6723.5       46\n",
       "3            1     10       2    5809.9       32\n",
       "4            1     11       3    7003.5       56\n",
       "...        ...    ...     ...       ...      ...\n",
       "11295     1534      6       2    3409.5       26\n",
       "11296     1534      8       2    7622.5       48\n",
       "11297     1534      9       1    4928.2       23\n",
       "11298     1534     11       4   13350.0       78\n",
       "11299     1534     12       1    2371.7       16\n",
       "\n",
       "[11300 rows x 5 columns]"
      ]
     },
     "execution_count": 34,
     "metadata": {},
     "output_type": "execute_result"
    }
   ],
   "source": [
    "# округлим заранее столбец duration в большую сторону\n",
    "overall_data['duration'] = np.ceil(overall_data['duration']).astype(int)\n",
    "\n",
    "# создадим агрегированную таблцу\n",
    "agg_table=overall_data.pivot_table(index=['user_id', 'month'],\n",
    "                         values=['duration', 'distance'], aggfunc=['count','sum'])\n",
    "\n",
    "# переименование столбцов\n",
    "agg_table.columns=['number', 'number_1', 'sum_dist', 'sum_dur'] \n",
    "\n",
    "# округлим sum_dist\n",
    "agg_table['sum_dist'] = round(agg_table['sum_dist'], 1)\n",
    "\n",
    "# удаляем одно number, которое дублируется\n",
    "agg_table.drop('number_1', axis= 1 , inplace=True)\n",
    "\n",
    "# ресетаем индексы, чтобы дальше было удобнее работать\n",
    "agg_table = agg_table.reset_index()\n",
    "agg_table"
   ]
  },
  {
   "cell_type": "markdown",
   "id": "3be86846",
   "metadata": {},
   "source": [
    "### Добавление столбца с оплатой каждого пользователя за месяц"
   ]
  },
  {
   "cell_type": "markdown",
   "id": "dbb0833a",
   "metadata": {},
   "source": [
    "Анализ таблиц **overall_subs** и **overall_no_subs** показывает, что пользователи с подпиской не делали поездок без подписки. Аналогично для пользователей без подписок. То есть, пользователи с **user_id** < 700 всегда оформляли подписку. Это позволяет посчитать траты по агрегированной таблице выше."
   ]
  },
  {
   "cell_type": "code",
   "execution_count": 35,
   "id": "227bda35",
   "metadata": {},
   "outputs": [
    {
     "data": {
      "text/html": [
       "<div>\n",
       "<style scoped>\n",
       "    .dataframe tbody tr th:only-of-type {\n",
       "        vertical-align: middle;\n",
       "    }\n",
       "\n",
       "    .dataframe tbody tr th {\n",
       "        vertical-align: top;\n",
       "    }\n",
       "\n",
       "    .dataframe thead th {\n",
       "        text-align: right;\n",
       "    }\n",
       "</style>\n",
       "<table border=\"1\" class=\"dataframe\">\n",
       "  <thead>\n",
       "    <tr style=\"text-align: right;\">\n",
       "      <th></th>\n",
       "      <th>user_id</th>\n",
       "      <th>month</th>\n",
       "      <th>number</th>\n",
       "      <th>sum_dist</th>\n",
       "      <th>sum_dur</th>\n",
       "      <th>price</th>\n",
       "    </tr>\n",
       "  </thead>\n",
       "  <tbody>\n",
       "    <tr>\n",
       "      <th>0</th>\n",
       "      <td>1</td>\n",
       "      <td>1</td>\n",
       "      <td>2</td>\n",
       "      <td>7027.5</td>\n",
       "      <td>42</td>\n",
       "      <td>451</td>\n",
       "    </tr>\n",
       "    <tr>\n",
       "      <th>1</th>\n",
       "      <td>1</td>\n",
       "      <td>4</td>\n",
       "      <td>1</td>\n",
       "      <td>754.2</td>\n",
       "      <td>7</td>\n",
       "      <td>241</td>\n",
       "    </tr>\n",
       "    <tr>\n",
       "      <th>2</th>\n",
       "      <td>1</td>\n",
       "      <td>8</td>\n",
       "      <td>2</td>\n",
       "      <td>6723.5</td>\n",
       "      <td>46</td>\n",
       "      <td>475</td>\n",
       "    </tr>\n",
       "    <tr>\n",
       "      <th>3</th>\n",
       "      <td>1</td>\n",
       "      <td>10</td>\n",
       "      <td>2</td>\n",
       "      <td>5809.9</td>\n",
       "      <td>32</td>\n",
       "      <td>391</td>\n",
       "    </tr>\n",
       "    <tr>\n",
       "      <th>4</th>\n",
       "      <td>1</td>\n",
       "      <td>11</td>\n",
       "      <td>3</td>\n",
       "      <td>7003.5</td>\n",
       "      <td>56</td>\n",
       "      <td>535</td>\n",
       "    </tr>\n",
       "    <tr>\n",
       "      <th>5</th>\n",
       "      <td>1</td>\n",
       "      <td>12</td>\n",
       "      <td>2</td>\n",
       "      <td>6751.6</td>\n",
       "      <td>28</td>\n",
       "      <td>367</td>\n",
       "    </tr>\n",
       "    <tr>\n",
       "      <th>6</th>\n",
       "      <td>2</td>\n",
       "      <td>3</td>\n",
       "      <td>3</td>\n",
       "      <td>10187.7</td>\n",
       "      <td>63</td>\n",
       "      <td>577</td>\n",
       "    </tr>\n",
       "    <tr>\n",
       "      <th>7</th>\n",
       "      <td>2</td>\n",
       "      <td>4</td>\n",
       "      <td>2</td>\n",
       "      <td>6164.4</td>\n",
       "      <td>40</td>\n",
       "      <td>439</td>\n",
       "    </tr>\n",
       "    <tr>\n",
       "      <th>8</th>\n",
       "      <td>2</td>\n",
       "      <td>6</td>\n",
       "      <td>1</td>\n",
       "      <td>3255.3</td>\n",
       "      <td>14</td>\n",
       "      <td>283</td>\n",
       "    </tr>\n",
       "    <tr>\n",
       "      <th>9</th>\n",
       "      <td>2</td>\n",
       "      <td>7</td>\n",
       "      <td>2</td>\n",
       "      <td>6780.7</td>\n",
       "      <td>48</td>\n",
       "      <td>487</td>\n",
       "    </tr>\n",
       "  </tbody>\n",
       "</table>\n",
       "</div>"
      ],
      "text/plain": [
       "   user_id  month  number  sum_dist  sum_dur  price\n",
       "0        1      1       2    7027.5       42    451\n",
       "1        1      4       1     754.2        7    241\n",
       "2        1      8       2    6723.5       46    475\n",
       "3        1     10       2    5809.9       32    391\n",
       "4        1     11       3    7003.5       56    535\n",
       "5        1     12       2    6751.6       28    367\n",
       "6        2      3       3   10187.7       63    577\n",
       "7        2      4       2    6164.4       40    439\n",
       "8        2      6       1    3255.3       14    283\n",
       "9        2      7       2    6780.7       48    487"
      ]
     },
     "execution_count": 35,
     "metadata": {},
     "output_type": "execute_result"
    }
   ],
   "source": [
    "# подписка = 199 + 6 * sum_dur; без подписки = 50 * number + 8 * sum_dur\n",
    "def price(row):\n",
    "    try:\n",
    "        if row['user_id'] < 700: # id меньше 700 соответствуют пользователям с подпиской\n",
    "            sum_sub = 199 + row['sum_dur']*6\n",
    "            return sum_sub \n",
    "        elif row['user_id'] >= 700: # id ансабов\n",
    "            sum_unsub = 50*row['number'] + row['sum_dur']*8    \n",
    "            return sum_unsub\n",
    "    except:\n",
    "        pass\n",
    "\n",
    "# применяем функцию \n",
    "agg_table['price'] = agg_table[['user_id', 'number', 'sum_dur']].apply(price, axis=1)\n",
    "agg_table.head(10)"
   ]
  },
  {
   "cell_type": "markdown",
   "id": "4cdee505",
   "metadata": {},
   "source": [
    "**Вывод:** \n",
    "\n",
    "* Создан датафрейм с агрегированными данными о поездках: суммарное расстояние и время, количество поездок для каждого пользователя в месяц;\n",
    "\n",
    "* Добавлен столбец с помесячной тратой пользователей в месяц с учётом их категории (подписчик или нет)"
   ]
  },
  {
   "cell_type": "markdown",
   "id": "90933d87",
   "metadata": {},
   "source": [
    "---"
   ]
  },
  {
   "cell_type": "markdown",
   "id": "f71de1a3",
   "metadata": {},
   "source": [
    "## Проверка гипотез"
   ]
  },
  {
   "cell_type": "markdown",
   "id": "06c870b3",
   "metadata": {},
   "source": [
    "### Гипотеза 1"
   ]
  },
  {
   "cell_type": "markdown",
   "id": "40b5e755",
   "metadata": {},
   "source": [
    "**Формулировка:** Важно понять, тратят ли пользователи с подпиской больше времени на поездки? Если да, то пользователи с подпиской могут быть «выгоднее» для компании. Проверим гипотезу. Будем использовать исходные данные о продолжительности каждой сессии — отдельно для подписчиков и тех, у кого нет подписки"
   ]
  },
  {
   "cell_type": "markdown",
   "id": "6ad4d255",
   "metadata": {},
   "source": [
    "Переформулируем запрос в нулевую и альтернативную гипотезу:\n",
    "\n",
    "**h0:** Разница между средним временем поездки пользователей с подпиской и без подписки равна нулю.\n",
    "\n",
    "**h1:** Разница между средним временем поездки пользователей с подпиской и без подписки больше нуля"
   ]
  },
  {
   "cell_type": "markdown",
   "id": "b27dd29f",
   "metadata": {},
   "source": [
    "**Проверка:** для ответа на этот вопрос воспользуемся методом **scipy.stats.ttest_ind()** для проверки гипотезы о равенстве среднего двух генеральных совокупностей по взятым из них выборкам.\n",
    "\n",
    "Для начала сгруппируем датафреймы **overall_subs** и **overall_no_subs** по пользователям и просуммируем по **duration**. Получим датафреймы с суммарным временем каждого пользователя за всё время."
   ]
  },
  {
   "cell_type": "code",
   "execution_count": 36,
   "id": "acaa7d38",
   "metadata": {},
   "outputs": [],
   "source": [
    "arr_subs = overall_subs['duration']\n",
    "\n",
    "arr_no_subs = overall_no_subs['duration']"
   ]
  },
  {
   "cell_type": "markdown",
   "id": "e7742153",
   "metadata": {},
   "source": [
    "Теперь проверим длину каждого столбца типа Series"
   ]
  },
  {
   "cell_type": "code",
   "execution_count": 37,
   "id": "6e9908c6",
   "metadata": {},
   "outputs": [
    {
     "name": "stdout",
     "output_type": "stream",
     "text": [
      "6500 11473\n"
     ]
    }
   ],
   "source": [
    "print(len(arr_subs), len(arr_no_subs))"
   ]
  },
  {
   "cell_type": "markdown",
   "id": "a17a7ba8",
   "metadata": {},
   "source": [
    "Как можно заметить, их количество разное. Поэтому дисперсия двух выборок может отличаться. Для этого передадим параметру **equal_var** значение **False**."
   ]
  },
  {
   "cell_type": "code",
   "execution_count": 38,
   "id": "1b2c3291",
   "metadata": {},
   "outputs": [
    {
     "name": "stdout",
     "output_type": "stream",
     "text": [
      "среднее выборочное значение продолжительности поездки пользователей с подпиской: 18.542\n",
      "среднее выборочное значение пользователей продолжительности поездки без подписки: 17.531\n",
      "p-value: 1.6162210195310587e-29\n",
      "Отвергаем нулевую гипотезу\n"
     ]
    }
   ],
   "source": [
    "# проводим тест для двух выборок\n",
    "\n",
    "alpha = 0.05 # уровень стат. значимости\n",
    "\n",
    "test_1 = st.ttest_ind(arr_subs, arr_no_subs, equal_var=False, alternative='greater')\n",
    "\n",
    "print(f'среднее выборочное значение продолжительности поездки пользователей с подпиской: {round(arr_subs.mean(), 3)}')\n",
    "print(f'среднее выборочное значение пользователей продолжительности поездки без подписки: {round(arr_no_subs.mean(), 3)}')\n",
    "\n",
    "print(f'p-value: {test_1.pvalue}')\n",
    "\n",
    "# проверяем p-value\n",
    "if test_1.pvalue < alpha:\n",
    "    print('Отвергаем нулевую гипотезу')\n",
    "else:\n",
    "    print('Нет оснований отвергнуть нулевую гипотезу')"
   ]
  },
  {
   "cell_type": "markdown",
   "id": "85964639",
   "metadata": {},
   "source": [
    "**Вывод:** полученное p-value позволяет отвергнуть нулевую гипотезу и принять альтернативную: пользователи с подпиской тратят в среднем тратят больше времени на поездку. Данный результат совпал со средними выборочными значениями пользователей с подпиской и без."
   ]
  },
  {
   "cell_type": "markdown",
   "id": "ca4e3ef3",
   "metadata": {},
   "source": [
    "### Гипотеза 2"
   ]
  },
  {
   "cell_type": "markdown",
   "id": "1fed2904",
   "metadata": {},
   "source": [
    "**Формулировка:** Расстояние одной поездки в 3130 метров — оптимальное с точки зрения износа самоката. Можно ли сказать, что среднее расстояние, которое проезжают пользователи с подпиской за одну поездку, не превышает 3130 метров?"
   ]
  },
  {
   "cell_type": "markdown",
   "id": "17577e6d",
   "metadata": {},
   "source": [
    "Переформулируем запрос в нулевую и альтернативную гипотезу:\n",
    "    \n",
    "**h0:** Среднее расстояние, которое проезжают пользователи с подпиской за одну поездку равно 3130 метров.\n",
    "\n",
    "**h1:** Среднее расстояние, которое проезжают пользователи с подпиской за одну поездку больше 3130 метров.\n",
    "\n",
    "**Проверка**:"
   ]
  },
  {
   "cell_type": "code",
   "execution_count": 39,
   "id": "0ba3af2e",
   "metadata": {},
   "outputs": [
    {
     "name": "stdout",
     "output_type": "stream",
     "text": [
      "p-значение: 0.9195368847849785\n",
      "Не получилось отвергнуть нулевую гипотезу: расстояние достигает запланированных показателей\n"
     ]
    }
   ],
   "source": [
    "interested_value = 3130\n",
    "alpha = 0.05\n",
    "\n",
    "test_2 = st.ttest_1samp(overall_subs['distance'], interested_value, alternative='greater')\n",
    "\n",
    "print('p-значение:', test_2.pvalue)\n",
    "\n",
    "if test_2.pvalue < alpha:\n",
    "    print('Отвергаем нулевую гипотезу: расстояние значимо превышает 3130 метра')\n",
    "else:\n",
    "    print('Не получилось отвергнуть нулевую гипотезу: расстояние достигает запланированных показателей')"
   ]
  },
  {
   "cell_type": "markdown",
   "id": "3f74c5a7",
   "metadata": {},
   "source": [
    "**Вывод:** полученный результат не позволил отвернуть гипотезу, что среднее расстояние пользователей с подпиской равно 3130 метра. Однако вряд ли оно больше."
   ]
  },
  {
   "cell_type": "markdown",
   "id": "c80936f8",
   "metadata": {},
   "source": [
    "### Гипотеза 3"
   ]
  },
  {
   "cell_type": "markdown",
   "id": "170234ca",
   "metadata": {},
   "source": [
    "**Формулировка**: Провеим гипотезу о том, будет ли помесячная выручка от пользователей с подпиской по месяцам выше, чем выручка от пользователей без подписки"
   ]
  },
  {
   "cell_type": "markdown",
   "id": "f438df1a",
   "metadata": {},
   "source": [
    "Переформулируем запрос в нулевую и альтернативную гипотезу:\n",
    "    \n",
    "**h0:** Разница между средней выручкой от пользователей с подпиской и без подписки равна нулю.\n",
    "\n",
    "**h1:** Разница между средней выручкой от пользователей с подпиской и без подписки больше нуля."
   ]
  },
  {
   "cell_type": "markdown",
   "id": "ac83f937",
   "metadata": {},
   "source": [
    "**Проверка:** в таблице agg_table у нас находятся пользователи с подписками и без, а также их траты по месяцам. Поскольку мы знаем, что user_id < 700 - это подписчики, а остальные - пользователи без неё, можно использовать данные из этой таблицы. Будем проверять гипотезу о равенстве среднего двух генеральных совокупностей по взятым из них выборкам. Такой метод уже использовали в проверке первой гипотезы"
   ]
  },
  {
   "cell_type": "code",
   "execution_count": 40,
   "id": "d78e0737",
   "metadata": {},
   "outputs": [
    {
     "name": "stdout",
     "output_type": "stream",
     "text": [
      "среднее выборочное значение оплаты пользователей с подпиской за месяц: 362.792\n",
      "среднее выборочное значение оплаты пользователей без подписки за месяц: 329.333\n",
      "p-value: 2.4970242872858465e-38\n",
      "Отвергаем нулевую гипотезу\n"
     ]
    }
   ],
   "source": [
    "# проводим тест для двух выборок\n",
    "\n",
    "alpha = 0.05 # уровень стат. значимости\n",
    "\n",
    "sub_month_price = agg_table.query('user_id < 700')['price']\n",
    "unsub_month_price = agg_table.query('user_id >= 700')['price']\n",
    "\n",
    "test_3 = st.ttest_ind(sub_month_price,\n",
    "                      unsub_month_price,\n",
    "                      equal_var=False,\n",
    "                      alternative='greater')\n",
    "\n",
    "print(f'среднее выборочное значение оплаты пользователей с подпиской за месяц: {round(sub_month_price.mean(), 3)}')\n",
    "\n",
    "print(f'среднее выборочное значение оплаты пользователей без подписки за месяц: {round(unsub_month_price.mean(), 3)}')\n",
    "\n",
    "print(f'p-value: {test_3.pvalue}')\n",
    "\n",
    "# проверяем p-value\n",
    "if test_3.pvalue < alpha:\n",
    "    print('Отвергаем нулевую гипотезу')\n",
    "else:\n",
    "    print('Нет оснований отвергнуть нулевую гипотезу')"
   ]
  },
  {
   "cell_type": "markdown",
   "id": "bdd93738",
   "metadata": {},
   "source": [
    "**Вывод:** следовательно, есть веские основания полагать, что подписчики приносят больше выручки в месяц."
   ]
  },
  {
   "cell_type": "markdown",
   "id": "85ec22e9",
   "metadata": {},
   "source": [
    "---"
   ]
  },
  {
   "cell_type": "markdown",
   "id": "f127c9ed",
   "metadata": {},
   "source": [
    "##  Распределения"
   ]
  },
  {
   "cell_type": "markdown",
   "id": "3af4abd9",
   "metadata": {},
   "source": [
    "### Задача 1"
   ]
  },
  {
   "cell_type": "markdown",
   "id": "476d3073",
   "metadata": {},
   "source": [
    "**Формулировка:**\n",
    "\n",
    "Отделу маркетинга GoFast поставили задачу: нужно провести акцию с раздачей промокодов на один бесплатный месяц подписки, в рамках которой как минимум 100 существующих клиентов должны продлить эту подписку. То есть по завершении периода действия подписки пользователь может либо отказаться от неё, либо продлить, совершив соответствующий платёж. \n",
    "\n",
    "Эта акция уже проводилась ранее и по итогу выяснилось, что после бесплатного пробного периода подписку продлевают 10% пользователей. Выясните, какое минимальное количество промокодов нужно разослать, чтобы вероятность не выполнить план была примерно 5%. Подберите параметры распределения, описывающего эту ситуацию, постройте график распределения и сформулируйте ответ на вопрос о количестве промокодов."
   ]
  },
  {
   "cell_type": "markdown",
   "id": "8215c91b",
   "metadata": {},
   "source": [
    "**Решение:** Идея и план решения следующие:\n",
    "\n",
    "1) Биномиальное распределение иногда может быть аппроксимировано нормальным.\n",
    "\n",
    "2) Если это возможно, то может быть получено минимальное число для раздачи бесплатных подписок, вероятность которого выполнить план (не менее 100 подписок) будет равна 95%. Для этого можно использовать функцию **ppf**. \n",
    "\n",
    "3) В конце построим биномиальное распределение и его аппроксимацию нормальным, чтобы убедиться в корректности используемой аппроксимации"
   ]
  },
  {
   "cell_type": "code",
   "execution_count": 41,
   "id": "e6ae2d04",
   "metadata": {},
   "outputs": [
    {
     "data": {
      "text/plain": [
       "[1164, 1165, 1166, 1167, 1168, 1169, 1170, 1171, 1172, 1173, 1174]"
      ]
     },
     "execution_count": 41,
     "metadata": {},
     "output_type": "execute_result"
    }
   ],
   "source": [
    "# в цикле ищем такие целые n, чтобы вероятность выполнить план была 95%\n",
    "numbers=[]\n",
    "for n in range(1000, 2000):\n",
    "    p = 0.1\n",
    "    mu = n * p\n",
    "    sigma = np.sqrt(n * p * (1 - p))\n",
    "    distr = st.norm(mu, sigma)\n",
    "    if round(distr.ppf(0.05), 0) == 100:\n",
    "        numbers.append(n)\n",
    "numbers"
   ]
  },
  {
   "cell_type": "code",
   "execution_count": 42,
   "id": "71b9bf00",
   "metadata": {},
   "outputs": [
    {
     "name": "stderr",
     "output_type": "stream",
     "text": [
      "C:\\Users\\baran\\anaconda3\\envs\\practicum\\lib\\site-packages\\scipy\\stats\\_discrete_distns.py:69: RuntimeWarning: divide by zero encountered in _binom_pdf\n",
      "  return _boost._binom_pdf(x, n, p)\n"
     ]
    },
    {
     "data": {
      "image/png": "[encoded data removed]",
      "text/plain": [
       "<Figure size 640x480 with 1 Axes>"
      ]
     },
     "metadata": {},
     "output_type": "display_data"
    }
   ],
   "source": [
    "# из найденных n возьмём первое - оно будет минимальным\n",
    "ideal_n = numbers[0]\n",
    "\n",
    "# построим теперь биномиальное распределение с ideal_n = 1164\n",
    "distr=[]\n",
    "\n",
    "for k in range(0, ideal_n + 1):\n",
    "    current_value = st.binom.pmf(k, ideal_n, p)\n",
    "    distr.append(current_value)\n",
    "plt.plot(range(0, ideal_n + 1), distr, 'bo')\n",
    "plt.xlim(75, 160)\n",
    "plt.xlabel('Количество клиентов')\n",
    "plt.ylabel('Вероятность')\n",
    "plt.title('Биномиальное распределение при n = 1164')\n",
    "plt.show()"
   ]
  },
  {
   "cell_type": "code",
   "execution_count": 43,
   "id": "0beb07b8",
   "metadata": {},
   "outputs": [
    {
     "data": {
      "image/png": "[encoded data removed]",
      "text/plain": [
       "<Figure size 640x480 with 1 Axes>"
      ]
     },
     "metadata": {},
     "output_type": "display_data"
    }
   ],
   "source": [
    "# посмотрим на графики двух распределений\n",
    "p = 0.1\n",
    "n = ideal_n\n",
    "mu = n * p\n",
    "sigma = np.sqrt(n * p * (1 - p))\n",
    "\n",
    "# задаём пределы по оси икс от мат ожидания до +- 4 стандартных отклонений\n",
    "left = int(n * p - 4 * np.sqrt(n * p * (1 - p)))\n",
    "right = int(n * p + 4 * np.sqrt(n * p * (1 - p)))\n",
    "\n",
    "# строим биномиальное распределение\n",
    "x = list(range(max(0, left), right))\n",
    "ax = plt.subplot()\n",
    "ax.plot(x, st.binom.pmf(x, n, p), 'bo', ms=5, label='вероятности биномиального распределения')\n",
    "\n",
    "# строим нормальное распределение\n",
    "x = np.linspace(left, right, 100)\n",
    "ax.plot(x, st.norm.pdf(x, mu, sigma), 'r-', lw=3, alpha=0.3, label='плотность вероятности нормального распределения')\n",
    "ax.legend(loc='best')\n",
    "plt.xlabel('Количество клиентов')\n",
    "plt.ylabel('Вероятность')\n",
    "plt.title('Сравнение двух распределений')\n",
    "plt.show()"
   ]
  },
  {
   "cell_type": "code",
   "execution_count": 44,
   "id": "bf105394",
   "metadata": {},
   "outputs": [
    {
     "name": "stdout",
     "output_type": "stream",
     "text": [
      "Условие выполняется\n"
     ]
    }
   ],
   "source": [
    "# проверка условия аппроксимации\n",
    "if (mu - (3 * sigma) >= 0) and ((mu + (3 * sigma) <= n)):\n",
    "    print('Условие выполняется')\n",
    "else:\n",
    "    print('Условие не выполняется')"
   ]
  },
  {
   "cell_type": "markdown",
   "id": "8d534f69",
   "metadata": {},
   "source": [
    "**Вывод:** чтобы после бесплатного месяца подписки как минимум 100 пользователей оформили новую подписку с вероятностью 95%, необходимо раздать 1164 промокода."
   ]
  },
  {
   "cell_type": "markdown",
   "id": "db4c812e",
   "metadata": {},
   "source": [
    "### Задача 2"
   ]
  },
  {
   "cell_type": "markdown",
   "id": "9cd94bb5",
   "metadata": {},
   "source": [
    "**Формулировка:**\n",
    "\n",
    "Отдел маркетинга рассылает клиентам push-уведомления в мобильном приложении. Клиенты могут открыть его или не открывать. Известно, что уведомления открывают около 40% получивших клиентов. Отдел планирует разослать 1 млн уведомлений. . С помощью аппроксимации постройте примерный график распределения и оцените вероятность того, что уведомление откроют не более 399,5 тыс. пользователей"
   ]
  },
  {
   "cell_type": "markdown",
   "id": "f07cdc25",
   "metadata": {},
   "source": [
    "**Решение:**"
   ]
  },
  {
   "cell_type": "code",
   "execution_count": 45,
   "id": "517ffae1",
   "metadata": {},
   "outputs": [
    {
     "data": {
      "image/png": "[encoded data removed]",
      "text/plain": [
       "<Figure size 640x480 with 1 Axes>"
      ]
     },
     "metadata": {},
     "output_type": "display_data"
    }
   ],
   "source": [
    "# строим графики\n",
    "p = 0.4\n",
    "n = 1000000\n",
    "\n",
    "mu = n * p\n",
    "sigma = np.sqrt(n * p * (1 - p))\n",
    "\n",
    "# задаём пределы по оси икс от мат ожидания до +- 4 стандартных отклонений\n",
    "left = int(n * p - 4 * np.sqrt(n * p * (1 - p)))\n",
    "right = int(n * p + 4 * np.sqrt(n * p * (1 - p)))\n",
    "\n",
    "# строим биномиальное распределение\n",
    "x = list(range(max(0, left), right))\n",
    "ax = plt.subplot()\n",
    "ax.plot(x, st.binom.pmf(x, n, p), 'bo', ms=5, label='вероятности биномиального распределения')\n",
    "\n",
    "# строим нормальное распределение\n",
    "x = np.linspace(left, right, 100)\n",
    "ax.plot(x, st.norm.pdf(x, mu, sigma), 'r-', lw=4, alpha=0.6, label='плотность вероятности нормального распределения')\n",
    "ax.legend(loc='best')\n",
    "plt.xlabel('Количество рассылок')\n",
    "plt.ylabel('Вероятность')\n",
    "plt.title('Сравнение двух распределений')\n",
    "plt.show()"
   ]
  },
  {
   "cell_type": "markdown",
   "id": "c0987b7c",
   "metadata": {},
   "source": [
    "Нормальное распределение отлично аппроксимирует биномиальное. Поэтому можно считать площадь под графиком от плотности вероятности нормального распределения"
   ]
  },
  {
   "cell_type": "code",
   "execution_count": 46,
   "id": "f6544ef1",
   "metadata": {},
   "outputs": [
    {
     "data": {
      "text/plain": [
       "0.15371708296369768"
      ]
     },
     "execution_count": 46,
     "metadata": {},
     "output_type": "execute_result"
    }
   ],
   "source": [
    "distr = st.norm(mu, sigma)\n",
    "distr.cdf(399500)"
   ]
  },
  {
   "cell_type": "markdown",
   "id": "72ba1021",
   "metadata": {},
   "source": [
    "**Вывод:** 399,5 тыс. пользователей и менее из 1 млн откроют уведомление с вероятностью ~ 15%."
   ]
  },
  {
   "cell_type": "markdown",
   "id": "21dcba8a",
   "metadata": {},
   "source": [
    "---"
   ]
  },
  {
   "cell_type": "markdown",
   "id": "3dd8df5f",
   "metadata": {},
   "source": [
    "## Вывод"
   ]
  },
  {
   "cell_type": "markdown",
   "id": "25126e57",
   "metadata": {},
   "source": [
    "В проведенное работе проводилось исследование данных, полученных сервисом аренды самокатов GoFast. \n",
    "\n",
    "**Общий исследовательский анализ данных показал:**\n",
    "\n",
    "1. Больше всего пользователей в Пятигорске, меньше всего – в Москве;\n",
    "2. Доля пользователей среди всех городов, которые владеют подпиской – 0,46;\n",
    "3. В Краснодаре доля пользователей без подписки больше, чем во всех остальных городах. В Москве и Омске доля подписчиков и пользователей без подписки одинакова. Во всех остальных городах преобладают пользователи без подписки;\n",
    "4. Средний возраст пользователей составляет 25 лет;\n",
    "5. Среднее расстояние, которые проезжают пользователи за одну поездку ~ 3 км. Среднее время – 18 минут;\n",
    "\n",
    "Кроме того, на этапе предобработки данных были обнаружены аномальные значения продолжительности поездки (0,5 минуты) при расстояниях более 4 км. Данный результат не соответствует реальности, поэтому стоит обратиться к разработчикам сервиса. Вторая проблема – наличие дубликатов. Был удалён 31 дубликат в таблице **rides_go**. Данный результат не стоит оставлять без внимания и следует обратиться к разработчикам сервиса.\n",
    "\n",
    "**Анализ пользователей с подписками и без подписок:**\n",
    "\n",
    "1. Количество поездок пользователей с подпиской ~ 6500, без подписки ~ 11473.\n",
    "2. Среднее выборочное время продолжительности поездки пользователей с подпиской составляет 18,54 минуты, без подписки – 17,53 минуты. Данный результат был подтверждён гипотезой 1: пользователи с подпиской в среднем тратят больше времени.\n",
    "3. Несмотря на то, что поездок с подпиской в 2 раза меньше, среднее значение выручки от таких пользователей больше (гипотеза 3);\n",
    "4. Среднее расстояние пользователей без подписки не превышает 3130 метра (гипотеза 2)\n",
    "\n",
    "Таким образом, пользователи с подпиской являются более выгодными для компании. Поэтому побуждать пользователей подписать может повысить доход компании.\n",
    "\n",
    "**Дополнительный анализ показал:**\n",
    "1. Чтобы после бесплатного месяца подписки как минимум 100 пользователей оформили новую подписку с вероятностью 95%, необходимо раздать 1164 промокода при условии, что после пробного периода подписку продлевают 10%;\n",
    "2.  Вероятность открыть 399,5 тыс. push-уведомления при 1 млн отправленных составляет 15% при условии, что их открывают 40% клиентов."
   ]
  }
 ],
 "metadata": {
  "ExecuteTimeLog": [
   {
    "duration": 991,
    "start_time": "2024-04-16T16:34:54.610Z"
   },
   {
    "duration": 84,
    "start_time": "2024-04-16T16:34:55.603Z"
   },
   {
    "duration": 80,
    "start_time": "2024-04-16T16:34:55.689Z"
   },
   {
    "duration": 109,
    "start_time": "2024-04-16T16:34:55.771Z"
   },
   {
    "duration": 14,
    "start_time": "2024-04-16T16:34:55.881Z"
   },
   {
    "duration": 12,
    "start_time": "2024-04-16T16:34:55.897Z"
   },
   {
    "duration": 17,
    "start_time": "2024-04-16T16:34:55.910Z"
   },
   {
    "duration": 20,
    "start_time": "2024-04-16T16:34:55.928Z"
   },
   {
    "duration": 154,
    "start_time": "2024-04-16T16:34:55.950Z"
   },
   {
    "duration": 5,
    "start_time": "2024-04-16T16:34:56.106Z"
   },
   {
    "duration": 12,
    "start_time": "2024-04-16T16:34:56.112Z"
   },
   {
    "duration": 180,
    "start_time": "2024-04-16T16:34:56.126Z"
   },
   {
    "duration": 216,
    "start_time": "2024-04-16T16:34:56.307Z"
   },
   {
    "duration": 95,
    "start_time": "2024-04-16T16:34:56.525Z"
   },
   {
    "duration": 725,
    "start_time": "2024-04-16T16:34:56.622Z"
   },
   {
    "duration": 122,
    "start_time": "2024-04-16T16:34:57.348Z"
   },
   {
    "duration": 17,
    "start_time": "2024-04-16T16:34:57.472Z"
   },
   {
    "duration": 6,
    "start_time": "2024-04-16T16:34:57.491Z"
   },
   {
    "duration": 233,
    "start_time": "2024-04-16T16:34:57.498Z"
   },
   {
    "duration": 14,
    "start_time": "2024-04-16T16:34:57.733Z"
   },
   {
    "duration": 7,
    "start_time": "2024-04-16T16:34:57.749Z"
   },
   {
    "duration": 5,
    "start_time": "2024-04-16T16:34:57.758Z"
   },
   {
    "duration": 109,
    "start_time": "2024-04-16T16:34:57.784Z"
   },
   {
    "duration": 6,
    "start_time": "2024-04-16T16:34:57.895Z"
   },
   {
    "duration": 17,
    "start_time": "2024-04-16T16:34:57.903Z"
   },
   {
    "duration": 13,
    "start_time": "2024-04-16T16:34:57.922Z"
   },
   {
    "duration": 53,
    "start_time": "2024-04-16T16:34:57.937Z"
   },
   {
    "duration": 223,
    "start_time": "2024-04-16T16:34:57.994Z"
   },
   {
    "duration": 7,
    "start_time": "2024-04-16T16:34:58.218Z"
   },
   {
    "duration": 11,
    "start_time": "2024-04-16T16:34:58.226Z"
   },
   {
    "duration": 226,
    "start_time": "2024-04-16T16:34:58.239Z"
   },
   {
    "duration": 17,
    "start_time": "2024-04-16T16:34:58.467Z"
   },
   {
    "duration": 7,
    "start_time": "2024-04-16T16:34:58.486Z"
   },
   {
    "duration": 32,
    "start_time": "2024-04-16T16:34:58.494Z"
   },
   {
    "duration": 155,
    "start_time": "2024-04-16T16:34:58.527Z"
   },
   {
    "duration": 15,
    "start_time": "2024-04-16T16:34:58.684Z"
   },
   {
    "duration": 5,
    "start_time": "2024-04-16T16:34:58.701Z"
   },
   {
    "duration": 7,
    "start_time": "2024-04-16T16:34:58.707Z"
   },
   {
    "duration": 6,
    "start_time": "2024-04-16T16:34:58.715Z"
   },
   {
    "duration": 13,
    "start_time": "2024-04-16T16:34:58.723Z"
   },
   {
    "duration": 784,
    "start_time": "2024-04-16T16:34:58.737Z"
   },
   {
    "duration": 249,
    "start_time": "2024-04-16T16:34:59.523Z"
   },
   {
    "duration": 144,
    "start_time": "2024-04-16T16:34:59.773Z"
   },
   {
    "duration": 3,
    "start_time": "2024-04-16T16:34:59.918Z"
   },
   {
    "duration": 183,
    "start_time": "2024-04-16T16:34:59.922Z"
   },
   {
    "duration": 4,
    "start_time": "2024-04-16T16:35:00.106Z"
   },
   {
    "duration": 10,
    "start_time": "2024-04-16T16:43:19.179Z"
   },
   {
    "duration": 1003,
    "start_time": "2024-04-16T16:49:00.663Z"
   },
   {
    "duration": 83,
    "start_time": "2024-04-16T16:49:01.668Z"
   },
   {
    "duration": 107,
    "start_time": "2024-04-16T16:49:01.752Z"
   },
   {
    "duration": 80,
    "start_time": "2024-04-16T16:49:01.860Z"
   },
   {
    "duration": 12,
    "start_time": "2024-04-16T16:49:01.941Z"
   },
   {
    "duration": 60,
    "start_time": "2024-04-16T16:49:01.954Z"
   },
   {
    "duration": 33,
    "start_time": "2024-04-16T16:49:02.015Z"
   },
   {
    "duration": 33,
    "start_time": "2024-04-16T16:49:02.049Z"
   },
   {
    "duration": 186,
    "start_time": "2024-04-16T16:49:02.084Z"
   },
   {
    "duration": 4,
    "start_time": "2024-04-16T16:49:02.273Z"
   },
   {
    "duration": 56,
    "start_time": "2024-04-16T16:49:02.284Z"
   },
   {
    "duration": 197,
    "start_time": "2024-04-16T16:49:02.341Z"
   },
   {
    "duration": 209,
    "start_time": "2024-04-16T16:49:02.539Z"
   },
   {
    "duration": 92,
    "start_time": "2024-04-16T16:49:02.749Z"
   },
   {
    "duration": 655,
    "start_time": "2024-04-16T16:49:02.842Z"
   },
   {
    "duration": 107,
    "start_time": "2024-04-16T16:49:03.499Z"
   },
   {
    "duration": 6,
    "start_time": "2024-04-16T16:49:03.607Z"
   },
   {
    "duration": 20,
    "start_time": "2024-04-16T16:49:03.614Z"
   },
   {
    "duration": 199,
    "start_time": "2024-04-16T16:49:03.635Z"
   },
   {
    "duration": 12,
    "start_time": "2024-04-16T16:49:03.836Z"
   },
   {
    "duration": 20,
    "start_time": "2024-04-16T16:49:03.849Z"
   },
   {
    "duration": 23,
    "start_time": "2024-04-16T16:49:03.870Z"
   },
   {
    "duration": 100,
    "start_time": "2024-04-16T16:49:03.894Z"
   },
   {
    "duration": 5,
    "start_time": "2024-04-16T16:49:03.996Z"
   },
   {
    "duration": 45,
    "start_time": "2024-04-16T16:49:04.002Z"
   },
   {
    "duration": 28,
    "start_time": "2024-04-16T16:49:04.048Z"
   },
   {
    "duration": 43,
    "start_time": "2024-04-16T16:49:04.077Z"
   },
   {
    "duration": 198,
    "start_time": "2024-04-16T16:49:04.122Z"
   },
   {
    "duration": 7,
    "start_time": "2024-04-16T16:49:04.321Z"
   },
   {
    "duration": 20,
    "start_time": "2024-04-16T16:49:04.329Z"
   },
   {
    "duration": 200,
    "start_time": "2024-04-16T16:49:04.350Z"
   },
   {
    "duration": 8,
    "start_time": "2024-04-16T16:49:04.551Z"
   },
   {
    "duration": 29,
    "start_time": "2024-04-16T16:49:04.560Z"
   },
   {
    "duration": 55,
    "start_time": "2024-04-16T16:49:04.591Z"
   },
   {
    "duration": 138,
    "start_time": "2024-04-16T16:49:04.647Z"
   },
   {
    "duration": 11,
    "start_time": "2024-04-16T16:49:04.786Z"
   },
   {
    "duration": 10,
    "start_time": "2024-04-16T16:49:04.798Z"
   },
   {
    "duration": 24,
    "start_time": "2024-04-16T16:49:04.809Z"
   },
   {
    "duration": 23,
    "start_time": "2024-04-16T16:49:04.834Z"
   },
   {
    "duration": 38,
    "start_time": "2024-04-16T16:49:04.858Z"
   },
   {
    "duration": 680,
    "start_time": "2024-04-16T16:49:04.897Z"
   },
   {
    "duration": 282,
    "start_time": "2024-04-16T16:49:05.578Z"
   },
   {
    "duration": 145,
    "start_time": "2024-04-16T16:49:05.861Z"
   },
   {
    "duration": 3,
    "start_time": "2024-04-16T16:49:06.007Z"
   },
   {
    "duration": 188,
    "start_time": "2024-04-16T16:49:06.011Z"
   },
   {
    "duration": 4,
    "start_time": "2024-04-16T16:49:06.200Z"
   },
   {
    "duration": 64,
    "start_time": "2024-04-16T16:57:56.557Z"
   },
   {
    "duration": 1442,
    "start_time": "2024-04-16T16:58:00.824Z"
   },
   {
    "duration": 164,
    "start_time": "2024-04-16T16:58:02.272Z"
   },
   {
    "duration": 314,
    "start_time": "2024-04-16T16:58:02.437Z"
   },
   {
    "duration": 124,
    "start_time": "2024-04-16T16:58:02.753Z"
   },
   {
    "duration": 25,
    "start_time": "2024-04-16T16:58:02.879Z"
   },
   {
    "duration": 8,
    "start_time": "2024-04-16T16:58:02.906Z"
   },
   {
    "duration": 24,
    "start_time": "2024-04-16T16:58:02.916Z"
   },
   {
    "duration": 10,
    "start_time": "2024-04-16T16:58:02.942Z"
   },
   {
    "duration": 198,
    "start_time": "2024-04-16T16:58:14.448Z"
   },
   {
    "duration": 4,
    "start_time": "2024-04-16T16:59:45.207Z"
   },
   {
    "duration": 7,
    "start_time": "2024-04-16T16:59:47.483Z"
   },
   {
    "duration": 79,
    "start_time": "2024-04-16T17:00:06.168Z"
   },
   {
    "duration": 76,
    "start_time": "2024-04-16T17:00:50.889Z"
   },
   {
    "duration": 101,
    "start_time": "2024-04-16T17:03:11.553Z"
   },
   {
    "duration": 75,
    "start_time": "2024-04-16T17:04:29.279Z"
   },
   {
    "duration": 122,
    "start_time": "2024-04-16T17:05:15.806Z"
   },
   {
    "duration": 115,
    "start_time": "2024-04-16T17:05:31.303Z"
   },
   {
    "duration": 230,
    "start_time": "2024-04-16T17:05:48.685Z"
   },
   {
    "duration": 298,
    "start_time": "2024-04-16T17:05:52.624Z"
   },
   {
    "duration": 198,
    "start_time": "2024-04-16T17:05:54.702Z"
   },
   {
    "duration": 882,
    "start_time": "2024-04-16T17:06:09.832Z"
   },
   {
    "duration": 295,
    "start_time": "2024-04-16T17:07:24.837Z"
   },
   {
    "duration": 988,
    "start_time": "2024-04-16T17:07:56.816Z"
   },
   {
    "duration": 32,
    "start_time": "2024-04-16T17:09:21.216Z"
   },
   {
    "duration": 135,
    "start_time": "2024-04-16T17:11:32.691Z"
   },
   {
    "duration": 306,
    "start_time": "2024-04-16T17:13:29.866Z"
   },
   {
    "duration": 19,
    "start_time": "2024-04-16T17:13:42.463Z"
   },
   {
    "duration": 6,
    "start_time": "2024-04-16T17:14:56.769Z"
   },
   {
    "duration": 4,
    "start_time": "2024-04-16T17:15:02.128Z"
   },
   {
    "duration": 117,
    "start_time": "2024-04-16T17:15:02.134Z"
   },
   {
    "duration": 132,
    "start_time": "2024-04-16T17:15:02.254Z"
   },
   {
    "duration": 68,
    "start_time": "2024-04-16T17:15:02.388Z"
   },
   {
    "duration": 20,
    "start_time": "2024-04-16T17:15:02.458Z"
   },
   {
    "duration": 8,
    "start_time": "2024-04-16T17:15:02.480Z"
   },
   {
    "duration": 18,
    "start_time": "2024-04-16T17:15:02.490Z"
   },
   {
    "duration": 7,
    "start_time": "2024-04-16T17:15:02.510Z"
   },
   {
    "duration": 196,
    "start_time": "2024-04-16T17:15:02.520Z"
   },
   {
    "duration": 6,
    "start_time": "2024-04-16T17:15:02.718Z"
   },
   {
    "duration": 36,
    "start_time": "2024-04-16T17:15:02.726Z"
   },
   {
    "duration": 113,
    "start_time": "2024-04-16T17:15:02.764Z"
   },
   {
    "duration": 221,
    "start_time": "2024-04-16T17:15:02.879Z"
   },
   {
    "duration": 385,
    "start_time": "2024-04-16T17:15:03.102Z"
   },
   {
    "duration": 131,
    "start_time": "2024-04-16T17:15:03.488Z"
   },
   {
    "duration": 910,
    "start_time": "2024-04-16T17:15:03.621Z"
   },
   {
    "duration": 159,
    "start_time": "2024-04-16T17:15:04.533Z"
   },
   {
    "duration": 3,
    "start_time": "2024-04-16T17:15:04.693Z"
   },
   {
    "duration": 10,
    "start_time": "2024-04-16T17:15:04.697Z"
   },
   {
    "duration": 395,
    "start_time": "2024-04-16T17:15:04.709Z"
   },
   {
    "duration": 17,
    "start_time": "2024-04-16T17:15:05.106Z"
   },
   {
    "duration": 7,
    "start_time": "2024-04-16T17:15:09.535Z"
   },
   {
    "duration": 6,
    "start_time": "2024-04-16T17:15:15.829Z"
   },
   {
    "duration": 224,
    "start_time": "2024-04-16T17:15:20.956Z"
   },
   {
    "duration": 7,
    "start_time": "2024-04-16T17:15:55.350Z"
   },
   {
    "duration": 27,
    "start_time": "2024-04-16T17:16:02.922Z"
   },
   {
    "duration": 12,
    "start_time": "2024-04-16T17:16:21.837Z"
   },
   {
    "duration": 14,
    "start_time": "2024-04-16T17:16:44.039Z"
   },
   {
    "duration": 30,
    "start_time": "2024-04-16T17:17:50.669Z"
   },
   {
    "duration": 295,
    "start_time": "2024-04-16T17:17:54.263Z"
   },
   {
    "duration": 284,
    "start_time": "2024-04-16T17:17:59.614Z"
   },
   {
    "duration": 9,
    "start_time": "2024-04-16T17:18:07.368Z"
   },
   {
    "duration": 8,
    "start_time": "2024-04-16T17:18:07.847Z"
   },
   {
    "duration": 41,
    "start_time": "2024-04-16T17:19:14.183Z"
   },
   {
    "duration": 3,
    "start_time": "2024-04-16T17:19:22.111Z"
   },
   {
    "duration": 91,
    "start_time": "2024-04-16T17:19:22.116Z"
   },
   {
    "duration": 82,
    "start_time": "2024-04-16T17:19:22.209Z"
   },
   {
    "duration": 67,
    "start_time": "2024-04-16T17:19:22.293Z"
   },
   {
    "duration": 17,
    "start_time": "2024-04-16T17:19:22.362Z"
   },
   {
    "duration": 6,
    "start_time": "2024-04-16T17:19:22.380Z"
   },
   {
    "duration": 7,
    "start_time": "2024-04-16T17:19:22.388Z"
   },
   {
    "duration": 13,
    "start_time": "2024-04-16T17:19:22.397Z"
   },
   {
    "duration": 168,
    "start_time": "2024-04-16T17:19:22.412Z"
   },
   {
    "duration": 5,
    "start_time": "2024-04-16T17:19:22.582Z"
   },
   {
    "duration": 4,
    "start_time": "2024-04-16T17:19:22.590Z"
   },
   {
    "duration": 114,
    "start_time": "2024-04-16T17:19:22.595Z"
   },
   {
    "duration": 224,
    "start_time": "2024-04-16T17:19:22.711Z"
   },
   {
    "duration": 287,
    "start_time": "2024-04-16T17:19:22.937Z"
   },
   {
    "duration": 134,
    "start_time": "2024-04-16T17:19:23.226Z"
   },
   {
    "duration": 979,
    "start_time": "2024-04-16T17:19:23.362Z"
   },
   {
    "duration": 143,
    "start_time": "2024-04-16T17:19:24.343Z"
   },
   {
    "duration": 2,
    "start_time": "2024-04-16T17:19:24.488Z"
   },
   {
    "duration": 7,
    "start_time": "2024-04-16T17:19:24.492Z"
   },
   {
    "duration": 290,
    "start_time": "2024-04-16T17:19:24.501Z"
   },
   {
    "duration": 22,
    "start_time": "2024-04-16T17:19:24.793Z"
   },
   {
    "duration": 17,
    "start_time": "2024-04-16T17:19:24.817Z"
   },
   {
    "duration": 6,
    "start_time": "2024-04-16T17:19:24.836Z"
   },
   {
    "duration": 160,
    "start_time": "2024-04-16T17:19:24.844Z"
   },
   {
    "duration": 6,
    "start_time": "2024-04-16T17:19:25.006Z"
   },
   {
    "duration": 21,
    "start_time": "2024-04-16T17:19:25.014Z"
   },
   {
    "duration": 13,
    "start_time": "2024-04-16T17:19:25.036Z"
   },
   {
    "duration": 11,
    "start_time": "2024-04-16T17:19:25.073Z"
   },
   {
    "duration": 41,
    "start_time": "2024-04-16T17:19:25.087Z"
   },
   {
    "duration": 407,
    "start_time": "2024-04-16T17:19:25.130Z"
   },
   {
    "duration": 8,
    "start_time": "2024-04-16T17:19:25.539Z"
   },
   {
    "duration": 26,
    "start_time": "2024-04-16T17:19:25.548Z"
   },
   {
    "duration": 285,
    "start_time": "2024-04-16T17:19:25.575Z"
   },
   {
    "duration": 17,
    "start_time": "2024-04-16T17:19:25.862Z"
   },
   {
    "duration": 8,
    "start_time": "2024-04-16T17:19:25.881Z"
   },
   {
    "duration": 309,
    "start_time": "2024-04-16T17:19:45.869Z"
   },
   {
    "duration": 9,
    "start_time": "2024-04-16T17:19:48.865Z"
   },
   {
    "duration": 9,
    "start_time": "2024-04-16T17:19:50.625Z"
   },
   {
    "duration": 307,
    "start_time": "2024-04-16T17:20:07.771Z"
   },
   {
    "duration": 275,
    "start_time": "2024-04-16T17:21:55.617Z"
   },
   {
    "duration": 8,
    "start_time": "2024-04-16T17:22:01.886Z"
   },
   {
    "duration": 3,
    "start_time": "2024-04-16T17:22:06.030Z"
   },
   {
    "duration": 106,
    "start_time": "2024-04-16T17:22:06.037Z"
   },
   {
    "duration": 101,
    "start_time": "2024-04-16T17:22:06.145Z"
   },
   {
    "duration": 90,
    "start_time": "2024-04-16T17:22:06.248Z"
   },
   {
    "duration": 17,
    "start_time": "2024-04-16T17:22:06.340Z"
   },
   {
    "duration": 13,
    "start_time": "2024-04-16T17:22:06.358Z"
   },
   {
    "duration": 6,
    "start_time": "2024-04-16T17:22:06.373Z"
   },
   {
    "duration": 8,
    "start_time": "2024-04-16T17:22:06.381Z"
   },
   {
    "duration": 184,
    "start_time": "2024-04-16T17:22:06.391Z"
   },
   {
    "duration": 6,
    "start_time": "2024-04-16T17:22:06.577Z"
   },
   {
    "duration": 16,
    "start_time": "2024-04-16T17:22:06.585Z"
   },
   {
    "duration": 120,
    "start_time": "2024-04-16T17:22:06.602Z"
   },
   {
    "duration": 316,
    "start_time": "2024-04-16T17:22:06.724Z"
   },
   {
    "duration": 333,
    "start_time": "2024-04-16T17:22:07.042Z"
   },
   {
    "duration": 126,
    "start_time": "2024-04-16T17:22:07.377Z"
   },
   {
    "duration": 858,
    "start_time": "2024-04-16T17:22:07.504Z"
   },
   {
    "duration": 147,
    "start_time": "2024-04-16T17:22:08.364Z"
   },
   {
    "duration": 2,
    "start_time": "2024-04-16T17:22:08.513Z"
   },
   {
    "duration": 23,
    "start_time": "2024-04-16T17:22:08.517Z"
   },
   {
    "duration": 392,
    "start_time": "2024-04-16T17:22:08.542Z"
   },
   {
    "duration": 301,
    "start_time": "2024-04-16T17:22:12.302Z"
   },
   {
    "duration": 17,
    "start_time": "2024-04-16T17:22:14.816Z"
   },
   {
    "duration": 7,
    "start_time": "2024-04-16T17:22:18.776Z"
   },
   {
    "duration": 8,
    "start_time": "2024-04-16T17:22:21.667Z"
   },
   {
    "duration": 138,
    "start_time": "2024-04-16T17:22:27.847Z"
   },
   {
    "duration": 295,
    "start_time": "2024-04-16T17:23:06.819Z"
   },
   {
    "duration": 9,
    "start_time": "2024-04-16T17:23:08.684Z"
   },
   {
    "duration": 3,
    "start_time": "2024-04-16T17:23:12.714Z"
   },
   {
    "duration": 122,
    "start_time": "2024-04-16T17:23:12.718Z"
   },
   {
    "duration": 95,
    "start_time": "2024-04-16T17:23:12.842Z"
   },
   {
    "duration": 81,
    "start_time": "2024-04-16T17:23:12.939Z"
   },
   {
    "duration": 18,
    "start_time": "2024-04-16T17:23:13.022Z"
   },
   {
    "duration": 15,
    "start_time": "2024-04-16T17:23:13.042Z"
   },
   {
    "duration": 19,
    "start_time": "2024-04-16T17:23:13.058Z"
   },
   {
    "duration": 4,
    "start_time": "2024-04-16T17:23:13.079Z"
   },
   {
    "duration": 193,
    "start_time": "2024-04-16T17:23:13.085Z"
   },
   {
    "duration": 11,
    "start_time": "2024-04-16T17:23:13.280Z"
   },
   {
    "duration": 5,
    "start_time": "2024-04-16T17:23:13.294Z"
   },
   {
    "duration": 134,
    "start_time": "2024-04-16T17:23:13.301Z"
   },
   {
    "duration": 254,
    "start_time": "2024-04-16T17:23:13.437Z"
   },
   {
    "duration": 391,
    "start_time": "2024-04-16T17:23:13.693Z"
   },
   {
    "duration": 144,
    "start_time": "2024-04-16T17:23:14.086Z"
   },
   {
    "duration": 882,
    "start_time": "2024-04-16T17:23:14.231Z"
   },
   {
    "duration": 142,
    "start_time": "2024-04-16T17:23:15.115Z"
   },
   {
    "duration": 2,
    "start_time": "2024-04-16T17:23:15.258Z"
   },
   {
    "duration": 20,
    "start_time": "2024-04-16T17:23:15.272Z"
   },
   {
    "duration": 299,
    "start_time": "2024-04-16T17:23:15.293Z"
   },
   {
    "duration": 16,
    "start_time": "2024-04-16T17:23:15.593Z"
   },
   {
    "duration": 18,
    "start_time": "2024-04-16T17:23:18.995Z"
   },
   {
    "duration": 7,
    "start_time": "2024-04-16T17:23:21.779Z"
   },
   {
    "duration": 7,
    "start_time": "2024-04-16T17:23:24.019Z"
   },
   {
    "duration": 215,
    "start_time": "2024-04-16T17:23:26.368Z"
   },
   {
    "duration": 8,
    "start_time": "2024-04-16T17:23:39.663Z"
   },
   {
    "duration": 19,
    "start_time": "2024-04-16T17:23:41.312Z"
   },
   {
    "duration": 12,
    "start_time": "2024-04-16T17:23:44.791Z"
   },
   {
    "duration": 14,
    "start_time": "2024-04-16T17:23:47.362Z"
   },
   {
    "duration": 30,
    "start_time": "2024-04-16T17:23:59.318Z"
   },
   {
    "duration": 317,
    "start_time": "2024-04-16T17:24:03.227Z"
   },
   {
    "duration": 9,
    "start_time": "2024-04-16T17:24:06.418Z"
   },
   {
    "duration": 9,
    "start_time": "2024-04-16T17:24:07.346Z"
   },
   {
    "duration": 311,
    "start_time": "2024-04-16T17:24:11.955Z"
   },
   {
    "duration": 8,
    "start_time": "2024-04-16T17:24:15.142Z"
   },
   {
    "duration": 9,
    "start_time": "2024-04-16T17:24:16.358Z"
   },
   {
    "duration": 38,
    "start_time": "2024-04-16T17:24:25.502Z"
   },
   {
    "duration": 82,
    "start_time": "2024-04-16T17:30:08.429Z"
   },
   {
    "duration": 22,
    "start_time": "2024-04-16T17:30:16.453Z"
   },
   {
    "duration": 13,
    "start_time": "2024-04-16T17:30:23.090Z"
   },
   {
    "duration": 13,
    "start_time": "2024-04-16T17:30:28.796Z"
   },
   {
    "duration": 9,
    "start_time": "2024-04-16T17:30:46.585Z"
   },
   {
    "duration": 8,
    "start_time": "2024-04-16T17:30:52.201Z"
   },
   {
    "duration": 9,
    "start_time": "2024-04-16T17:31:57.526Z"
   },
   {
    "duration": 9,
    "start_time": "2024-04-16T17:32:54.782Z"
   },
   {
    "duration": 11,
    "start_time": "2024-04-16T17:36:12.390Z"
   },
   {
    "duration": 3,
    "start_time": "2024-04-16T18:05:09.802Z"
   },
   {
    "duration": 86,
    "start_time": "2024-04-16T18:05:09.807Z"
   },
   {
    "duration": 87,
    "start_time": "2024-04-16T18:05:09.895Z"
   },
   {
    "duration": 69,
    "start_time": "2024-04-16T18:05:09.983Z"
   },
   {
    "duration": 18,
    "start_time": "2024-04-16T18:05:10.053Z"
   },
   {
    "duration": 8,
    "start_time": "2024-04-16T18:05:10.072Z"
   },
   {
    "duration": 22,
    "start_time": "2024-04-16T18:05:10.081Z"
   },
   {
    "duration": 10,
    "start_time": "2024-04-16T18:05:10.105Z"
   },
   {
    "duration": 182,
    "start_time": "2024-04-16T18:05:10.118Z"
   },
   {
    "duration": 6,
    "start_time": "2024-04-16T18:05:10.302Z"
   },
   {
    "duration": 5,
    "start_time": "2024-04-16T18:05:10.310Z"
   },
   {
    "duration": 126,
    "start_time": "2024-04-16T18:05:10.316Z"
   },
   {
    "duration": 221,
    "start_time": "2024-04-16T18:05:10.444Z"
   },
   {
    "duration": 317,
    "start_time": "2024-04-16T18:05:10.668Z"
   },
   {
    "duration": 152,
    "start_time": "2024-04-16T18:05:10.987Z"
   },
   {
    "duration": 983,
    "start_time": "2024-04-16T18:05:11.141Z"
   },
   {
    "duration": 149,
    "start_time": "2024-04-16T18:05:12.126Z"
   },
   {
    "duration": 4,
    "start_time": "2024-04-16T18:05:12.277Z"
   },
   {
    "duration": 11,
    "start_time": "2024-04-16T18:05:12.282Z"
   },
   {
    "duration": 324,
    "start_time": "2024-04-16T18:05:12.294Z"
   },
   {
    "duration": 21,
    "start_time": "2024-04-16T18:05:12.620Z"
   },
   {
    "duration": 7,
    "start_time": "2024-04-16T18:05:12.643Z"
   },
   {
    "duration": 24,
    "start_time": "2024-04-16T18:05:12.652Z"
   },
   {
    "duration": 153,
    "start_time": "2024-04-16T18:05:12.681Z"
   },
   {
    "duration": 6,
    "start_time": "2024-04-16T18:05:12.837Z"
   },
   {
    "duration": 41,
    "start_time": "2024-04-16T18:05:12.845Z"
   },
   {
    "duration": 13,
    "start_time": "2024-04-16T18:05:12.888Z"
   },
   {
    "duration": 18,
    "start_time": "2024-04-16T18:05:12.903Z"
   },
   {
    "duration": 31,
    "start_time": "2024-04-16T18:05:12.923Z"
   },
   {
    "duration": 405,
    "start_time": "2024-04-16T18:05:12.972Z"
   },
   {
    "duration": 12,
    "start_time": "2024-04-16T18:05:13.379Z"
   },
   {
    "duration": 9,
    "start_time": "2024-04-16T18:05:13.393Z"
   },
   {
    "duration": 347,
    "start_time": "2024-04-16T18:05:13.404Z"
   },
   {
    "duration": 22,
    "start_time": "2024-04-16T18:05:13.753Z"
   },
   {
    "duration": 9,
    "start_time": "2024-04-16T18:05:13.777Z"
   },
   {
    "duration": 61,
    "start_time": "2024-04-16T18:05:13.788Z"
   },
   {
    "duration": 184,
    "start_time": "2024-04-16T18:05:13.851Z"
   },
   {
    "duration": 10,
    "start_time": "2024-04-16T18:05:14.036Z"
   },
   {
    "duration": 9,
    "start_time": "2024-04-16T18:05:14.047Z"
   },
   {
    "duration": 3,
    "start_time": "2024-04-16T18:05:14.073Z"
   },
   {
    "duration": 8,
    "start_time": "2024-04-16T18:05:35.770Z"
   },
   {
    "duration": 3,
    "start_time": "2024-04-16T18:06:02.960Z"
   },
   {
    "duration": 3,
    "start_time": "2024-04-16T18:06:05.110Z"
   },
   {
    "duration": 7,
    "start_time": "2024-04-16T18:07:48.734Z"
   },
   {
    "duration": 7,
    "start_time": "2024-04-16T18:08:23.890Z"
   },
   {
    "duration": 39,
    "start_time": "2024-04-16T18:11:43.916Z"
   },
   {
    "duration": 9,
    "start_time": "2024-04-16T18:12:29.916Z"
   },
   {
    "duration": 9,
    "start_time": "2024-04-16T18:12:32.201Z"
   },
   {
    "duration": 3,
    "start_time": "2024-04-16T18:13:07.711Z"
   },
   {
    "duration": 4,
    "start_time": "2024-04-16T18:13:08.986Z"
   },
   {
    "duration": 7,
    "start_time": "2024-04-16T18:13:16.620Z"
   },
   {
    "duration": 7,
    "start_time": "2024-04-16T18:22:12.153Z"
   },
   {
    "duration": 80,
    "start_time": "2024-04-16T18:26:22.199Z"
   },
   {
    "duration": 82,
    "start_time": "2024-04-16T18:27:36.534Z"
   },
   {
    "duration": 81,
    "start_time": "2024-04-16T18:27:49.575Z"
   },
   {
    "duration": 85,
    "start_time": "2024-04-16T18:29:31.692Z"
   },
   {
    "duration": 1209,
    "start_time": "2024-04-16T18:29:42.163Z"
   },
   {
    "duration": 3,
    "start_time": "2024-04-16T18:29:56.039Z"
   },
   {
    "duration": 89,
    "start_time": "2024-04-16T18:29:56.044Z"
   },
   {
    "duration": 90,
    "start_time": "2024-04-16T18:29:56.135Z"
   },
   {
    "duration": 71,
    "start_time": "2024-04-16T18:29:56.226Z"
   },
   {
    "duration": 17,
    "start_time": "2024-04-16T18:29:56.298Z"
   },
   {
    "duration": 25,
    "start_time": "2024-04-16T18:29:56.317Z"
   },
   {
    "duration": 9,
    "start_time": "2024-04-16T18:29:56.344Z"
   },
   {
    "duration": 21,
    "start_time": "2024-04-16T18:29:56.355Z"
   },
   {
    "duration": 190,
    "start_time": "2024-04-16T18:29:56.377Z"
   },
   {
    "duration": 5,
    "start_time": "2024-04-16T18:29:56.569Z"
   },
   {
    "duration": 4,
    "start_time": "2024-04-16T18:29:56.577Z"
   },
   {
    "duration": 110,
    "start_time": "2024-04-16T18:29:56.582Z"
   },
   {
    "duration": 235,
    "start_time": "2024-04-16T18:29:56.693Z"
   },
   {
    "duration": 324,
    "start_time": "2024-04-16T18:29:56.929Z"
   },
   {
    "duration": 114,
    "start_time": "2024-04-16T18:29:57.254Z"
   },
   {
    "duration": 935,
    "start_time": "2024-04-16T18:29:57.373Z"
   },
   {
    "duration": 143,
    "start_time": "2024-04-16T18:29:58.310Z"
   },
   {
    "duration": 3,
    "start_time": "2024-04-16T18:29:58.454Z"
   },
   {
    "duration": 15,
    "start_time": "2024-04-16T18:29:58.458Z"
   },
   {
    "duration": 305,
    "start_time": "2024-04-16T18:29:58.475Z"
   },
   {
    "duration": 15,
    "start_time": "2024-04-16T18:29:58.782Z"
   },
   {
    "duration": 14,
    "start_time": "2024-04-16T18:29:58.798Z"
   },
   {
    "duration": 20,
    "start_time": "2024-04-16T18:29:58.813Z"
   },
   {
    "duration": 134,
    "start_time": "2024-04-16T18:29:58.835Z"
   },
   {
    "duration": 6,
    "start_time": "2024-04-16T18:29:58.970Z"
   },
   {
    "duration": 24,
    "start_time": "2024-04-16T18:29:58.978Z"
   },
   {
    "duration": 14,
    "start_time": "2024-04-16T18:29:59.004Z"
   },
   {
    "duration": 16,
    "start_time": "2024-04-16T18:29:59.020Z"
   },
   {
    "duration": 61,
    "start_time": "2024-04-16T18:29:59.039Z"
   },
   {
    "duration": 321,
    "start_time": "2024-04-16T18:29:59.102Z"
   },
   {
    "duration": 10,
    "start_time": "2024-04-16T18:29:59.425Z"
   },
   {
    "duration": 29,
    "start_time": "2024-04-16T18:29:59.436Z"
   },
   {
    "duration": 410,
    "start_time": "2024-04-16T18:29:59.467Z"
   },
   {
    "duration": 9,
    "start_time": "2024-04-16T18:29:59.878Z"
   },
   {
    "duration": 11,
    "start_time": "2024-04-16T18:29:59.889Z"
   },
   {
    "duration": 38,
    "start_time": "2024-04-16T18:29:59.902Z"
   },
   {
    "duration": 205,
    "start_time": "2024-04-16T18:29:59.942Z"
   },
   {
    "duration": 11,
    "start_time": "2024-04-16T18:30:00.149Z"
   },
   {
    "duration": 76,
    "start_time": "2024-04-16T18:30:00.172Z"
   },
   {
    "duration": 82,
    "start_time": "2024-04-16T18:30:00.250Z"
   },
   {
    "duration": 98,
    "start_time": "2024-04-16T18:30:00.333Z"
   },
   {
    "duration": 76,
    "start_time": "2024-04-16T18:30:00.433Z"
   },
   {
    "duration": 58,
    "start_time": "2024-04-16T18:30:00.511Z"
   },
   {
    "duration": 85,
    "start_time": "2024-04-16T18:30:00.571Z"
   },
   {
    "duration": 12,
    "start_time": "2024-04-16T18:30:51.203Z"
   },
   {
    "duration": 77,
    "start_time": "2024-04-16T18:32:16.525Z"
   },
   {
    "duration": 1021,
    "start_time": "2024-04-16T18:33:14.565Z"
   },
   {
    "duration": 282,
    "start_time": "2024-04-16T18:33:29.391Z"
   },
   {
    "duration": 186,
    "start_time": "2024-04-16T18:33:48.079Z"
   },
   {
    "duration": 4,
    "start_time": "2024-04-16T18:33:50.522Z"
   },
   {
    "duration": 244,
    "start_time": "2024-04-16T18:34:16.050Z"
   },
   {
    "duration": 3,
    "start_time": "2024-04-16T20:28:20.297Z"
   },
   {
    "duration": 84,
    "start_time": "2024-04-16T20:28:20.302Z"
   },
   {
    "duration": 86,
    "start_time": "2024-04-16T20:28:20.388Z"
   },
   {
    "duration": 64,
    "start_time": "2024-04-16T20:28:20.475Z"
   },
   {
    "duration": 17,
    "start_time": "2024-04-16T20:28:20.541Z"
   },
   {
    "duration": 13,
    "start_time": "2024-04-16T20:28:20.559Z"
   },
   {
    "duration": 37,
    "start_time": "2024-04-16T20:28:20.573Z"
   },
   {
    "duration": 10,
    "start_time": "2024-04-16T20:28:20.612Z"
   },
   {
    "duration": 162,
    "start_time": "2024-04-16T20:28:20.624Z"
   },
   {
    "duration": 5,
    "start_time": "2024-04-16T20:28:20.788Z"
   },
   {
    "duration": 28,
    "start_time": "2024-04-16T20:28:20.794Z"
   },
   {
    "duration": 117,
    "start_time": "2024-04-16T20:28:20.823Z"
   },
   {
    "duration": 233,
    "start_time": "2024-04-16T20:28:20.942Z"
   },
   {
    "duration": 291,
    "start_time": "2024-04-16T20:28:21.176Z"
   },
   {
    "duration": 204,
    "start_time": "2024-04-16T20:28:21.469Z"
   },
   {
    "duration": 846,
    "start_time": "2024-04-16T20:28:21.674Z"
   },
   {
    "duration": 136,
    "start_time": "2024-04-16T20:28:22.522Z"
   },
   {
    "duration": 3,
    "start_time": "2024-04-16T20:28:22.659Z"
   },
   {
    "duration": 14,
    "start_time": "2024-04-16T20:28:22.663Z"
   },
   {
    "duration": 304,
    "start_time": "2024-04-16T20:28:22.678Z"
   },
   {
    "duration": 16,
    "start_time": "2024-04-16T20:28:22.983Z"
   },
   {
    "duration": 11,
    "start_time": "2024-04-16T20:28:23.001Z"
   },
   {
    "duration": 28,
    "start_time": "2024-04-16T20:28:23.014Z"
   },
   {
    "duration": 123,
    "start_time": "2024-04-16T20:28:23.043Z"
   },
   {
    "duration": 8,
    "start_time": "2024-04-16T20:28:23.168Z"
   },
   {
    "duration": 31,
    "start_time": "2024-04-16T20:28:23.178Z"
   },
   {
    "duration": 30,
    "start_time": "2024-04-16T20:28:23.211Z"
   },
   {
    "duration": 15,
    "start_time": "2024-04-16T20:28:23.242Z"
   },
   {
    "duration": 35,
    "start_time": "2024-04-16T20:28:23.259Z"
   },
   {
    "duration": 378,
    "start_time": "2024-04-16T20:28:23.295Z"
   },
   {
    "duration": 8,
    "start_time": "2024-04-16T20:28:23.677Z"
   },
   {
    "duration": 8,
    "start_time": "2024-04-16T20:28:23.686Z"
   },
   {
    "duration": 290,
    "start_time": "2024-04-16T20:28:23.695Z"
   },
   {
    "duration": 8,
    "start_time": "2024-04-16T20:28:23.987Z"
   },
   {
    "duration": 8,
    "start_time": "2024-04-16T20:28:23.996Z"
   },
   {
    "duration": 37,
    "start_time": "2024-04-16T20:28:24.005Z"
   },
   {
    "duration": 217,
    "start_time": "2024-04-16T20:28:24.044Z"
   },
   {
    "duration": 14,
    "start_time": "2024-04-16T20:28:24.263Z"
   },
   {
    "duration": 15,
    "start_time": "2024-04-16T20:28:24.279Z"
   },
   {
    "duration": 2,
    "start_time": "2024-04-16T20:28:24.296Z"
   },
   {
    "duration": 5,
    "start_time": "2024-04-16T20:28:24.300Z"
   },
   {
    "duration": 12,
    "start_time": "2024-04-16T20:28:24.306Z"
   },
   {
    "duration": 7,
    "start_time": "2024-04-16T20:28:24.319Z"
   },
   {
    "duration": 16,
    "start_time": "2024-04-16T20:28:24.327Z"
   },
   {
    "duration": 16,
    "start_time": "2024-04-16T20:28:24.344Z"
   },
   {
    "duration": 946,
    "start_time": "2024-04-16T20:28:24.362Z"
   },
   {
    "duration": 355,
    "start_time": "2024-04-16T20:28:25.309Z"
   },
   {
    "duration": 193,
    "start_time": "2024-04-16T20:28:25.665Z"
   },
   {
    "duration": 3,
    "start_time": "2024-04-16T20:28:25.860Z"
   },
   {
    "duration": 227,
    "start_time": "2024-04-16T20:28:25.865Z"
   },
   {
    "duration": 5,
    "start_time": "2024-04-16T20:28:26.094Z"
   },
   {
    "duration": 1178,
    "start_time": "2024-04-17T08:23:21.494Z"
   },
   {
    "duration": 71,
    "start_time": "2024-04-17T08:23:22.674Z"
   },
   {
    "duration": 64,
    "start_time": "2024-04-17T08:23:22.747Z"
   },
   {
    "duration": 58,
    "start_time": "2024-04-17T08:23:22.813Z"
   },
   {
    "duration": 16,
    "start_time": "2024-04-17T08:23:22.873Z"
   },
   {
    "duration": 8,
    "start_time": "2024-04-17T08:23:22.891Z"
   },
   {
    "duration": 10,
    "start_time": "2024-04-17T08:23:22.900Z"
   },
   {
    "duration": 13,
    "start_time": "2024-04-17T08:23:22.912Z"
   },
   {
    "duration": 195,
    "start_time": "2024-04-17T08:23:22.926Z"
   },
   {
    "duration": 5,
    "start_time": "2024-04-17T08:23:23.124Z"
   },
   {
    "duration": 36,
    "start_time": "2024-04-17T08:23:23.131Z"
   },
   {
    "duration": 114,
    "start_time": "2024-04-17T08:23:23.169Z"
   },
   {
    "duration": 230,
    "start_time": "2024-04-17T08:23:23.284Z"
   },
   {
    "duration": 265,
    "start_time": "2024-04-17T08:23:23.516Z"
   },
   {
    "duration": 133,
    "start_time": "2024-04-17T08:23:23.783Z"
   },
   {
    "duration": 912,
    "start_time": "2024-04-17T08:23:23.918Z"
   },
   {
    "duration": 151,
    "start_time": "2024-04-17T08:23:24.832Z"
   },
   {
    "duration": 2,
    "start_time": "2024-04-17T08:23:24.984Z"
   },
   {
    "duration": 4,
    "start_time": "2024-04-17T08:23:24.988Z"
   },
   {
    "duration": 286,
    "start_time": "2024-04-17T08:23:24.994Z"
   },
   {
    "duration": 17,
    "start_time": "2024-04-17T08:23:25.281Z"
   },
   {
    "duration": 8,
    "start_time": "2024-04-17T08:23:25.300Z"
   },
   {
    "duration": 8,
    "start_time": "2024-04-17T08:23:25.310Z"
   },
   {
    "duration": 143,
    "start_time": "2024-04-17T08:23:25.319Z"
   },
   {
    "duration": 6,
    "start_time": "2024-04-17T08:23:25.463Z"
   },
   {
    "duration": 24,
    "start_time": "2024-04-17T08:23:25.471Z"
   },
   {
    "duration": 11,
    "start_time": "2024-04-17T08:23:25.497Z"
   },
   {
    "duration": 41,
    "start_time": "2024-04-17T08:23:25.513Z"
   },
   {
    "duration": 50,
    "start_time": "2024-04-17T08:23:25.555Z"
   },
   {
    "duration": 285,
    "start_time": "2024-04-17T08:23:25.606Z"
   },
   {
    "duration": 9,
    "start_time": "2024-04-17T08:23:25.893Z"
   },
   {
    "duration": 8,
    "start_time": "2024-04-17T08:23:25.904Z"
   },
   {
    "duration": 307,
    "start_time": "2024-04-17T08:23:25.913Z"
   },
   {
    "duration": 8,
    "start_time": "2024-04-17T08:23:26.222Z"
   },
   {
    "duration": 32,
    "start_time": "2024-04-17T08:23:26.232Z"
   },
   {
    "duration": 39,
    "start_time": "2024-04-17T08:23:26.266Z"
   },
   {
    "duration": 283,
    "start_time": "2024-04-17T08:23:26.306Z"
   },
   {
    "duration": 9,
    "start_time": "2024-04-17T08:23:26.591Z"
   },
   {
    "duration": 23,
    "start_time": "2024-04-17T08:23:26.602Z"
   },
   {
    "duration": 3,
    "start_time": "2024-04-17T08:23:26.626Z"
   },
   {
    "duration": 4,
    "start_time": "2024-04-17T08:23:26.630Z"
   },
   {
    "duration": 5,
    "start_time": "2024-04-17T08:23:26.636Z"
   },
   {
    "duration": 21,
    "start_time": "2024-04-17T08:23:26.643Z"
   },
   {
    "duration": 41,
    "start_time": "2024-04-17T08:23:26.666Z"
   },
   {
    "duration": 15,
    "start_time": "2024-04-17T08:23:26.709Z"
   },
   {
    "duration": 965,
    "start_time": "2024-04-17T08:23:26.726Z"
   },
   {
    "duration": 381,
    "start_time": "2024-04-17T08:23:27.693Z"
   },
   {
    "duration": 204,
    "start_time": "2024-04-17T08:23:28.075Z"
   },
   {
    "duration": 3,
    "start_time": "2024-04-17T08:23:28.281Z"
   },
   {
    "duration": 228,
    "start_time": "2024-04-17T08:23:28.286Z"
   },
   {
    "duration": 7,
    "start_time": "2024-04-17T08:23:28.516Z"
   }
  ],
  "kernelspec": {
   "display_name": "Python 3 (ipykernel)",
   "language": "python",
   "name": "python3"
  },
  "language_info": {
   "codemirror_mode": {
    "name": "ipython",
    "version": 3
   },
   "file_extension": ".py",
   "mimetype": "text/x-python",
   "name": "python",
   "nbconvert_exporter": "python",
   "pygments_lexer": "ipython3",
   "version": "3.9.18"
  },
  "toc": {
   "base_numbering": 1,
   "nav_menu": {},
   "number_sections": true,
   "sideBar": true,
   "skip_h1_title": true,
   "title_cell": "Содержание ",
   "title_sidebar": "Contents",
   "toc_cell": true,
   "toc_position": {
    "height": "calc(100% - 180px)",
    "left": "10px",
    "top": "150px",
    "width": "307.188px"
   },
   "toc_section_display": true,
   "toc_window_display": true
  }
 },
 "nbformat": 4,
 "nbformat_minor": 5
}
